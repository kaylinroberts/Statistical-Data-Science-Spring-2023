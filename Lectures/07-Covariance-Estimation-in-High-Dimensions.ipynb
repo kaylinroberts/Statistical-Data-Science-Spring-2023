{
 "cells": [
  {
   "cell_type": "markdown",
   "id": "chemical-bradford",
   "metadata": {
    "slideshow": {
     "slide_type": "slide"
    }
   },
   "source": [
    "# Covariance Matrices in High Dimensions\n",
    "\n"
   ]
  },
  {
   "cell_type": "markdown",
   "id": "prescribed-delight",
   "metadata": {
    "slideshow": {
     "slide_type": "slide"
    }
   },
   "source": [
    "# Covariance Matrices\n",
    "\n",
    "* Suppose data consist of $p$ variables and $n$ measurements\n",
    "* Variables: blood pressure, height, weight, etc.\n",
    "* Measurements: $n$-subjects, units, items, etc.\n",
    "* Data matrix: $\\boldsymbol{Y}\\in\\mathbb{R}^{n\\times p}$"
   ]
  },
  {
   "cell_type": "markdown",
   "id": "c57b284b",
   "metadata": {},
   "source": [
    "## Theoretical Concepts"
   ]
  },
  {
   "cell_type": "markdown",
   "id": "juvenile-surprise",
   "metadata": {
    "slideshow": {
     "slide_type": "slide"
    }
   },
   "source": [
    "## Covariance Matrix\n",
    "\n",
    "* Covariance matrix is defined as\n",
    "$$\n",
    "\\Sigma=E(\\boldsymbol{Y}-\\boldsymbol{\\mu})(\\boldsymbol{Y}-\\boldsymbol{\\mu})^{\\prime}=\\left(\\sigma_{i j}\\right),\n",
    "$$"
   ]
  },
  {
   "cell_type": "markdown",
   "id": "engaging-cooking",
   "metadata": {
    "slideshow": {
     "slide_type": "fragment"
    }
   },
   "source": [
    "* Sample covariance matrix is\n",
    "$$\n",
    "\\mathbf{S}=\\frac{1}{n} \\sum_{i=1}^{n}\\left(\\boldsymbol{Y}_{i}-\\overline{\\boldsymbol{Y}}\\right)\\left(\\boldsymbol{Y}_{i}-\\overline{\\boldsymbol{Y}}\\right)^{\\prime},\n",
    "$$\n",
    "* Other types of covariance estimates"
   ]
  },
  {
   "cell_type": "markdown",
   "id": "labeled-responsibility",
   "metadata": {
    "slideshow": {
     "slide_type": "slide"
    }
   },
   "source": [
    "## Examples of Covariance Matrices\n",
    "\n",
    "* Stocks: $p=4300+$ companies and 20 days per month  \n",
    "    Relationship between stocks (volatility structure)"
   ]
  },
  {
   "cell_type": "markdown",
   "id": "expanded-centre",
   "metadata": {
    "slideshow": {
     "slide_type": "fragment"
    }
   },
   "source": [
    "* Genomics: $p\\approx 20000$ genes and 100s of subjects  \n",
    "    Co-expression of genes (gene relevance network)"
   ]
  },
  {
   "cell_type": "markdown",
   "id": "champion-month",
   "metadata": {
    "slideshow": {
     "slide_type": "fragment"
    }
   },
   "source": [
    "* Neuroimaging: $p=90000$ voxels (or hundreds of aggregated ROIs) and thousands of time points  \n",
    "    Functional connectivity network"
   ]
  },
  {
   "cell_type": "markdown",
   "id": "quantitative-soldier",
   "metadata": {
    "slideshow": {
     "slide_type": "fragment"
    }
   },
   "source": [
    "* Ecology: $p=23$ environmental variables and $n=12$ locations  \n",
    "    Community abundance (Warton 2008)\n",
    "    \n",
    "**Data are often high dimensional**"
   ]
  },
  {
   "cell_type": "markdown",
   "id": "attempted-spray",
   "metadata": {
    "slideshow": {
     "slide_type": "slide"
    }
   },
   "source": [
    "## Properties of Covariance Matrices\n",
    "\n",
    "* Matrix $\\Sigma$ is symmetric\n",
    "* All eigenvalues are nonnegative\n",
    "* Nonnegative definite\n",
    "* If singular, dimensionality can be reduced"
   ]
  },
  {
   "cell_type": "markdown",
   "id": "funky-venture",
   "metadata": {
    "slideshow": {
     "slide_type": "slide"
    }
   },
   "source": [
    "## Estimation of Covariance Matrices\n",
    "\n",
    "* High dimensionality makes covariance estimation challenging\n",
    "* $O(p^2)$ parameters (high estimator variance)\n",
    "* $\\mathbf{S}$ is singular when $p>n$\n",
    "* Even when $p<n$, eigenvalues estimation can be inaccurate\n",
    "  - Sampling Variability: Eigenvalues are often estimated based on a finite sample of data.\n",
    "  - Measurement Error: In real-world data, measurement errors or noise can introduce additional variability.\n",
    "  - Model Assumptions: When assumptions are violated, such as non-normality or non-linearity in the data, the estimated eigenvalues may not accurately capture the true characteristics of the data.\n",
    "  - Numerical Issues: Computing eigenvalues involves numerical algorithms, and the accuracy of the estimates can be affected by numerical stability issues, such as rounding errors or limitations in numerical precision."
   ]
  },
  {
   "cell_type": "markdown",
   "id": "difficult-renewal",
   "metadata": {
    "slideshow": {
     "slide_type": "slide"
    }
   },
   "source": [
    "## Uses of Covariance Matrices\n",
    "\n",
    "* Portfolio Problem (encodes market volatility)\n",
    "* Regression (OLS)  \n",
    "$$\n",
    "\\widehat{\\beta}_{\\text {OLS}}=\\left(\\boldsymbol{X}^{\\prime} \\boldsymbol{X}\\right)^{-1} \\boldsymbol{X}^{\\prime} \\boldsymbol{Y}\n",
    "$$\n",
    "* Canonical Correlation Analysis (CCA): associations among two sets of variables ([examples](https://stats.idre.ucla.edu/r/dae/canonical-correlation-analysis/))\n",
    "* Input to clustering algorithm\n",
    "* Inverse of $\\Sigma$ often needed but doesn't exist in high dimensional setting"
   ]
  },
  {
   "cell_type": "markdown",
   "id": "9681d71b",
   "metadata": {
    "slideshow": {
     "slide_type": "slide"
    }
   },
   "source": [
    "## PCA as Optimal Subspace Estimation\n",
    "\n",
    "Suppose we have data $X\\in \\mathbb{R}^{n\\times p}$ with mean zero with sample covariance $S=\\frac{1}{n-1} X^T X$. Note the following optimization problem\n",
    "$$\n",
    "\\begin{aligned}\n",
    "\\begin{array}{ll}\n",
    "\\max _{v_1} & v_1^T X^T X v_1, \\\\\n",
    "\\text{subject to} & v_1^T v_1=1 .\n",
    "\\end{array}\n",
    "\\end{aligned}\n",
    "$$\n",
    "Objective function is equivalent to $\\operatorname{var}\\left(X v_1\\right)=v_1^T S v_1$"
   ]
  },
  {
   "cell_type": "markdown",
   "id": "d7d1d4b8",
   "metadata": {
    "slideshow": {
     "slide_type": "subslide"
    }
   },
   "source": [
    "Next optimization problem is similar with additional constraints:\n",
    "$$\n",
    "\\begin{aligned}\n",
    "\\begin{array}{ll}\n",
    "\\max _{v_2} & v_2^T X^T X v_2, \\\\\n",
    "\\text{subject to} & v_2^T v_2=1 \\\\\n",
    "& v_1^T v_2=0.\n",
    "\\end{array}\n",
    "\\end{aligned}\n",
    "$$\n"
   ]
  },
  {
   "cell_type": "markdown",
   "id": "ac8f4c8f",
   "metadata": {
    "slideshow": {
     "slide_type": "subslide"
    }
   },
   "source": [
    "Continuing up to $k$-th PC loadings:\n",
    "$$\\begin{aligned}\n",
    "\\begin{array}{ll}\n",
    "\\max _{v_k} & v_k^T X^T X v_k \\\\\n",
    "\\text{subject to} & v_k^T v_k=1 \\\\\n",
    "& v_j^T v_k=0, j=1, \\ldots, k-1\n",
    "\\end{array}\n",
    "\\end{aligned}$$"
   ]
  },
  {
   "cell_type": "markdown",
   "id": "07b93ae4",
   "metadata": {
    "slideshow": {
     "slide_type": "subslide"
    }
   },
   "source": [
    "Collectively, we can write\n",
    "$$\n",
    "\\begin{aligned}\n",
    "\\begin{array}{ll}\n",
    "\\max_V & V^T X^T X V \\\\\n",
    "\\text{subject to} & V^T V=I\n",
    "\\end{array}\n",
    "\\end{aligned}\n",
    "$$\n",
    "\n",
    "For other formulation of PCA refer to _Principal Component Analysis and Optimization:\n",
    "A Tutorial_, Reris and Brooks ([manuscript](https://scholarscompass.vcu.edu/cgi/viewcontent.cgi?article=1006&context=ssor_pubs))"
   ]
  },
  {
   "cell_type": "markdown",
   "id": "continental-relevance",
   "metadata": {
    "slideshow": {
     "slide_type": "slide"
    }
   },
   "source": [
    "## Regularization\n",
    "\n",
    "* Eigenvalue structure (Ledoit-Wolf, condition number)"
   ]
  },
  {
   "cell_type": "markdown",
   "id": "basic-halifax",
   "metadata": {
    "slideshow": {
     "slide_type": "fragment"
    }
   },
   "source": [
    "* Sparsity pattern (graphical models)"
   ]
  },
  {
   "cell_type": "markdown",
   "id": "protected-railway",
   "metadata": {
    "slideshow": {
     "slide_type": "fragment"
    }
   },
   "source": [
    "* Structural assumptions (banding, tapering, low-rank)\n",
    "\n",
    "All stabilize estimates (bias variance trade off)"
   ]
  },
  {
   "cell_type": "markdown",
   "id": "hourly-parade",
   "metadata": {
    "slideshow": {
     "slide_type": "subslide"
    }
   },
   "source": [
    "## Eigen-structure regularization\n",
    "\n",
    "* Ledoit-Wolf Estimator (Ledoit and Wolf, 2004)\n",
    "$$\n",
    "\\widehat{\\mathbf{\\Sigma}}=\\alpha \\frac{tr (\\mathbf{S}) }{p} I+(1-\\alpha) \\mathbf{S}\n",
    "$$"
   ]
  },
  {
   "cell_type": "markdown",
   "id": "disturbed-knight",
   "metadata": {
    "slideshow": {
     "slide_type": "fragment"
    }
   },
   "source": [
    "* Condition number regularization (Won et al., 2009)\n",
    "$$\n",
    "\\begin{array}{ll}\n",
    "\\operatorname{maximize} & l(\\Sigma) \\\\\n",
    "\\text { subject to } & \\operatorname{cond}(\\Sigma) \\leq \\kappa_{\\max },\n",
    "\\end{array}\n",
    "$$  \n",
    "    where $l(\\Sigma)$ is the Gaussian Likelihood, $\\operatorname{cond}(\\Sigma) = \\frac{\\lambda_{max}(\\Sigma)}{\\lambda_{min}(\\Sigma)}$"
   ]
  },
  {
   "cell_type": "markdown",
   "id": "reliable-whale",
   "metadata": {
    "slideshow": {
     "slide_type": "fragment"
    }
   },
   "source": [
    "* Eigenvector regularization (sparse PCA, SVD, etc)"
   ]
  },
  {
   "cell_type": "markdown",
   "id": "pacific-glory",
   "metadata": {
    "slideshow": {
     "slide_type": "slide"
    }
   },
   "source": [
    "## Sparsity pattern (Graphical Model)\n",
    "\n",
    "* $\\mathbf{\\Theta}=\\mathbf{\\Sigma}^{-1}$ appear in many situations\n",
    "* $\\mathbf{\\Theta}$ can be regularized directly"
   ]
  },
  {
   "cell_type": "markdown",
   "id": "distributed-pixel",
   "metadata": {
    "slideshow": {
     "slide_type": "fragment"
    }
   },
   "source": [
    "* Assume $\\boldsymbol{Y}_{1}, \\ldots, \\boldsymbol{Y}_{n} \\sim N_{p}(\\boldsymbol{0}, \\boldsymbol{\\Sigma})$ and \n",
    "$$\n",
    "L(\\boldsymbol{\\Sigma})=\\frac{1}{(2 \\pi)^{n p / 2}|\\boldsymbol{\\Sigma}|^{n / 2}} \\exp \\left\\{-\\frac{1}{2} \\sum_{i=1}^{n} \\boldsymbol{Y}_{i}^{\\prime} \\boldsymbol{\\Sigma}^{-1} \\boldsymbol{Y}_{i}\\right\\} .\n",
    "$$"
   ]
  },
  {
   "cell_type": "markdown",
   "id": "lyric-potato",
   "metadata": {
    "slideshow": {
     "slide_type": "fragment"
    }
   },
   "source": [
    "* Compute $\\boldsymbol{\\Theta}$ by using a penalized likelihood estimation:\n",
    "$$\n",
    "\\ell_{P}(\\boldsymbol{\\Theta})=\\log |\\boldsymbol{\\Theta}|-\\operatorname{tr}(\\mathbf{S} \\Theta)-\\lambda\\|\\boldsymbol{\\Theta}\\|_{1},\n",
    "$$"
   ]
  },
  {
   "cell_type": "markdown",
   "id": "associate-facial",
   "metadata": {
    "slideshow": {
     "slide_type": "slide"
    }
   },
   "source": [
    "Reference: [High‐Dimensional Covariance Estimation](https://ucsb-primo.hosted.exlibrisgroup.com/permalink/f/1egv95m/01UCSB_ALMA51276966020003776) by Mohsen Pourahmadi"
   ]
  },
  {
   "cell_type": "markdown",
   "id": "19b9b8ba",
   "metadata": {},
   "source": [
    "# Numerical Experiments"
   ]
  },
  {
   "cell_type": "markdown",
   "id": "bulgarian-bangkok",
   "metadata": {
    "slideshow": {
     "slide_type": "slide"
    }
   },
   "source": [
    "## Sample Covariance Matrix\n",
    "\n",
    "$$\n",
    "\\mathbf{S}=\\frac{1}{n} \\sum_{i=1}^{n}\\left(\\boldsymbol{Y}_{i}-\\overline{\\boldsymbol{Y}}\\right)\\left(\\boldsymbol{Y}_{i}-\\overline{\\boldsymbol{Y}}\\right)^{\\prime},\n",
    "$$\n",
    "\n",
    "* MLE of covariance matrix for Gaussian data\n",
    "* Singular in high dimensional setting: Zero eigenvalues \n",
    "* When $p>n$, other covariance estimates are needed"
   ]
  },
  {
   "cell_type": "code",
   "execution_count": 2,
   "id": "assumed-actor",
   "metadata": {
    "slideshow": {
     "slide_type": "subslide"
    },
    "tags": []
   },
   "outputs": [
    {
     "data": {
      "image/png": "[encoded data removed]",
      "text/plain": [
       "<Figure size 640x480 with 1 Axes>"
      ]
     },
     "metadata": {},
     "output_type": "display_data"
    }
   ],
   "source": [
    "import pandas as pd\n",
    "import warnings\n",
    "warnings.filterwarnings(\"ignore\")\n",
    "logret = pd.read_pickle('dowjones-logret.pkl').dropna()\n",
    "\n",
    "import sklearn.covariance as skcov\n",
    "import sklearn.model_selection as sksel\n",
    "import numpy.linalg as npl\n",
    "\n",
    "cov_sample = skcov.empirical_covariance(logret[:15])\n",
    "eigval_sample, eigvec_sample = npl.eig(cov_sample)\n",
    "pd.Series(eigval_sample).plot();"
   ]
  },
  {
   "cell_type": "markdown",
   "id": "unlimited-study",
   "metadata": {
    "slideshow": {
     "slide_type": "subslide"
    }
   },
   "source": [
    "## Ledoit-Wolf Estimator \n",
    "$$\n",
    "\\Sigma_{\\text {LW}}=(1-\\alpha) \\mathbf{S}+\\alpha \\frac{\\operatorname{Tr} \\mathbf{S}}{p} \\text { I }\n",
    "$$\n",
    "\n",
    "* Ledoit and Wolf, 2004 ([documentation page](https://scikit-learn.org/stable/modules/covariance.html#shrunk-covariance))\n",
    "* Weighted average between sample covariance and identity (times average eigenvalue)"
   ]
  },
  {
   "cell_type": "code",
   "execution_count": 3,
   "id": "altered-bracket",
   "metadata": {
    "scrolled": true,
    "slideshow": {
     "slide_type": "subslide"
    },
    "tags": []
   },
   "outputs": [
    {
     "data": {
      "image/png": "[encoded data removed]",
      "text/plain": [
       "<Figure size 640x480 with 1 Axes>"
      ]
     },
     "metadata": {},
     "output_type": "display_data"
    }
   ],
   "source": [
    "cov_lw, shrinkage_lw = skcov.ledoit_wolf(logret[:15])\n",
    "eigval_lw, eigvec_lw = npl.eig(cov_lw)\n",
    "pd.Series(eigval_lw).plot();"
   ]
  },
  {
   "cell_type": "markdown",
   "id": "complete-azerbaijan",
   "metadata": {
    "slideshow": {
     "slide_type": "fragment"
    }
   },
   "source": [
    "* Large eigenvalues decrease\n",
    "* Zero eigenvalues increase (not sigular) "
   ]
  },
  {
   "cell_type": "code",
   "execution_count": 4,
   "id": "numeric-equipment",
   "metadata": {
    "slideshow": {
     "slide_type": "subslide"
    },
    "tags": []
   },
   "outputs": [
    {
     "data": {
      "image/png": "[encoded data removed]",
      "text/plain": [
       "<Figure size 640x480 with 1 Axes>"
      ]
     },
     "metadata": {},
     "output_type": "display_data"
    }
   ],
   "source": [
    "pd.Series(eigval_lw - eigval_sample).plot();"
   ]
  },
  {
   "cell_type": "markdown",
   "id": "hawaiian-lightweight",
   "metadata": {
    "slideshow": {
     "slide_type": "slide"
    }
   },
   "source": [
    "## Graphical Model\n",
    "\n",
    "* Suppose $X = (X_a, X_b, X_c)^T \\sim N(0, \\Sigma)$ then,\n",
    "* $\\Omega= \\Sigma^{-1}$ encodes multivariate relationship (rather than pairwise)\n",
    "$$\n",
    "\\operatorname{cor}\\left(X_{a}, X_{b} \\mid X_{c}: c \\neq a, b\\right)=\\frac{\\operatorname{cov}\\left(X_{a}, X_{b} \\mid X_{c}: c \\neq a, b\\right)}{\\sqrt{\\operatorname{var}\\left(X_{a} \\mid X_{c}: c \\neq a, b\\right) \\operatorname{var}\\left(X_{b} \\mid X_{c}: c \\neq a, b\\right)}}\\\\\n",
    "=\\frac{-\\Omega_{a b}}{\\sqrt{\\Omega_{a a} \\Omega_{b b}}}\n",
    "$$\n",
    "* $\\Omega$ is useful for understanding relationships"
   ]
  },
  {
   "cell_type": "code",
   "execution_count": 5,
   "id": "confused-austria",
   "metadata": {
    "slideshow": {
     "slide_type": "subslide"
    },
    "tags": []
   },
   "outputs": [],
   "source": [
    "edge_model = skcov.GraphicalLassoCV(n_refinements=2)\n",
    "edge_model.fit(logret[:100])\n",
    "omega = edge_model.precision_.copy()\n",
    "cov_ggm = npl.inv(omega)\n",
    "eigval_ggm, eigvec_ggm = npl.eig(cov_ggm)"
   ]
  },
  {
   "cell_type": "code",
   "execution_count": 6,
   "id": "christian-indiana",
   "metadata": {
    "slideshow": {
     "slide_type": "subslide"
    },
    "tags": []
   },
   "outputs": [
    {
     "data": {
      "image/png": "[encoded data removed]",
      "text/plain": [
       "<Figure size 640x480 with 1 Axes>"
      ]
     },
     "metadata": {},
     "output_type": "display_data"
    }
   ],
   "source": [
    "pd.Series(eigval_ggm).plot();"
   ]
  },
  {
   "cell_type": "markdown",
   "id": "decent-kenya",
   "metadata": {
    "slideshow": {
     "slide_type": "subslide"
    }
   },
   "source": [
    "### Visualize Graphical Model"
   ]
  },
  {
   "cell_type": "code",
   "execution_count": 8,
   "id": "official-dover",
   "metadata": {
    "slideshow": {
     "slide_type": "-"
    },
    "tags": []
   },
   "outputs": [
    {
     "data": {
      "text/html": [
       "<style>\n",
       "        .bk-notebook-logo {\n",
       "            display: block;\n",
       "            width: 20px;\n",
       "            height: 20px;\n",
       "            background-image: url(data:image/png;base64,iVBORw0KGgoAAAANSUhEUgAAABQAAAAUCAYAAACNiR0NAAAABHNCSVQICAgIfAhkiAAAAAlwSFlzAAALEgAACxIB0t1+/AAAABx0RVh0U29mdHdhcmUAQWRvYmUgRmlyZXdvcmtzIENTNui8sowAAAOkSURBVDiNjZRtaJVlGMd/1/08zzln5zjP1LWcU9N0NkN8m2CYjpgQYQXqSs0I84OLIC0hkEKoPtiH3gmKoiJDU7QpLgoLjLIQCpEsNJ1vqUOdO7ppbuec5+V+rj4ctwzd8IIbbi6u+8f1539dt3A78eXC7QizUF7gyV1fD1Yqg4JWz84yffhm0qkFqBogB9rM8tZdtwVsPUhWhGcFJngGeWrPzHm5oaMmkfEg1usvLFyc8jLRqDOMru7AyC8saQr7GG7f5fvDeH7Ej8CM66nIF+8yngt6HWaKh7k49Soy9nXurCi1o3qUbS3zWfrYeQDTB/Qj6kX6Ybhw4B+bOYoLKCC9H3Nu/leUTZ1JdRWkkn2ldcCamzrcf47KKXdAJllSlxAOkRgyHsGC/zRday5Qld9DyoM4/q/rUoy/CXh3jzOu3bHUVZeU+DEn8FInkPBFlu3+nW3Nw0mk6vCDiWg8CeJaxEwuHS3+z5RgY+YBR6V1Z1nxSOfoaPa4LASWxxdNp+VWTk7+4vzaou8v8PN+xo+KY2xsw6une2frhw05CTYOmQvsEhjhWjn0bmXPjpE1+kplmmkP3suftwTubK9Vq22qKmrBhpY4jvd5afdRA3wGjFAgcnTK2s4hY0/GPNIb0nErGMCRxWOOX64Z8RAC4oCXdklmEvcL8o0BfkNK4lUg9HTl+oPlQxdNo3Mg4Nv175e/1LDGzZen30MEjRUtmXSfiTVu1kK8W4txyV6BMKlbgk3lMwYCiusNy9fVfvvwMxv8Ynl6vxoByANLTWplvuj/nF9m2+PDtt1eiHPBr1oIfhCChQMBw6Aw0UulqTKZdfVvfG7VcfIqLG9bcldL/+pdWTLxLUy8Qq38heUIjh4XlzZxzQm19lLFlr8vdQ97rjZVOLf8nclzckbcD4wxXMidpX30sFd37Fv/GtwwhzhxGVAprjbg0gCAEeIgwCZyTV2Z1REEW8O4py0wsjeloKoMr6iCY6dP92H6Vw/oTyICIthibxjm/DfN9lVz8IqtqKYLUXfoKVMVQVVJOElGjrnnUt9T9wbgp8AyYKaGlqingHZU/uG2NTZSVqwHQTWkx9hxjkpWDaCg6Ckj5qebgBVbT3V3NNXMSiWSDdGV3hrtzla7J+duwPOToIg42ChPQOQjspnSlp1V+Gjdged7+8UN5CRAV7a5EdFNwCjEaBR27b3W890TE7g24NAP/mMDXRWrGoFPQI9ls/MWO2dWFAar/xcOIImbbpA3zgAAAABJRU5ErkJggg==);\n",
       "        }\n",
       "    </style>\n",
       "    <div>\n",
       "        <a href=\"https://bokeh.org\" target=\"_blank\" class=\"bk-notebook-logo\"></a>\n",
       "        <span id=\"b6c68d0e-77bf-45a2-9b0d-024736799627\">Loading BokehJS ...</span>\n",
       "    </div>\n"
      ]
     },
     "metadata": {},
     "output_type": "display_data"
    },
    {
     "data": {
      "application/javascript": [
       "(function(root) {\n",
       "  function now() {\n",
       "    return new Date();\n",
       "  }\n",
       "\n",
       "  const force = true;\n",
       "\n",
       "  if (typeof root._bokeh_onload_callbacks === \"undefined\" || force === true) {\n",
       "    root._bokeh_onload_callbacks = [];\n",
       "    root._bokeh_is_loading = undefined;\n",
       "  }\n",
       "\n",
       "const JS_MIME_TYPE = 'application/javascript';\n",
       "  const HTML_MIME_TYPE = 'text/html';\n",
       "  const EXEC_MIME_TYPE = 'application/vnd.bokehjs_exec.v0+json';\n",
       "  const CLASS_NAME = 'output_bokeh rendered_html';\n",
       "\n",
       "  /**\n",
       "   * Render data to the DOM node\n",
       "   */\n",
       "  function render(props, node) {\n",
       "    const script = document.createElement(\"script\");\n",
       "    node.appendChild(script);\n",
       "  }\n",
       "\n",
       "  /**\n",
       "   * Handle when an output is cleared or removed\n",
       "   */\n",
       "  function handleClearOutput(event, handle) {\n",
       "    const cell = handle.cell;\n",
       "\n",
       "    const id = cell.output_area._bokeh_element_id;\n",
       "    const server_id = cell.output_area._bokeh_server_id;\n",
       "    // Clean up Bokeh references\n",
       "    if (id != null && id in Bokeh.index) {\n",
       "      Bokeh.index[id].model.document.clear();\n",
       "      delete Bokeh.index[id];\n",
       "    }\n",
       "\n",
       "    if (server_id !== undefined) {\n",
       "      // Clean up Bokeh references\n",
       "      const cmd_clean = \"from bokeh.io.state import curstate; print(curstate().uuid_to_server['\" + server_id + \"'].get_sessions()[0].document.roots[0]._id)\";\n",
       "      cell.notebook.kernel.execute(cmd_clean, {\n",
       "        iopub: {\n",
       "          output: function(msg) {\n",
       "            const id = msg.content.text.trim();\n",
       "            if (id in Bokeh.index) {\n",
       "              Bokeh.index[id].model.document.clear();\n",
       "              delete Bokeh.index[id];\n",
       "            }\n",
       "          }\n",
       "        }\n",
       "      });\n",
       "      // Destroy server and session\n",
       "      const cmd_destroy = \"import bokeh.io.notebook as ion; ion.destroy_server('\" + server_id + \"')\";\n",
       "      cell.notebook.kernel.execute(cmd_destroy);\n",
       "    }\n",
       "  }\n",
       "\n",
       "  /**\n",
       "   * Handle when a new output is added\n",
       "   */\n",
       "  function handleAddOutput(event, handle) {\n",
       "    const output_area = handle.output_area;\n",
       "    const output = handle.output;\n",
       "\n",
       "    // limit handleAddOutput to display_data with EXEC_MIME_TYPE content only\n",
       "    if ((output.output_type != \"display_data\") || (!Object.prototype.hasOwnProperty.call(output.data, EXEC_MIME_TYPE))) {\n",
       "      return\n",
       "    }\n",
       "\n",
       "    const toinsert = output_area.element.find(\".\" + CLASS_NAME.split(' ')[0]);\n",
       "\n",
       "    if (output.metadata[EXEC_MIME_TYPE][\"id\"] !== undefined) {\n",
       "      toinsert[toinsert.length - 1].firstChild.textContent = output.data[JS_MIME_TYPE];\n",
       "      // store reference to embed id on output_area\n",
       "      output_area._bokeh_element_id = output.metadata[EXEC_MIME_TYPE][\"id\"];\n",
       "    }\n",
       "    if (output.metadata[EXEC_MIME_TYPE][\"server_id\"] !== undefined) {\n",
       "      const bk_div = document.createElement(\"div\");\n",
       "      bk_div.innerHTML = output.data[HTML_MIME_TYPE];\n",
       "      const script_attrs = bk_div.children[0].attributes;\n",
       "      for (let i = 0; i < script_attrs.length; i++) {\n",
       "        toinsert[toinsert.length - 1].firstChild.setAttribute(script_attrs[i].name, script_attrs[i].value);\n",
       "        toinsert[toinsert.length - 1].firstChild.textContent = bk_div.children[0].textContent\n",
       "      }\n",
       "      // store reference to server id on output_area\n",
       "      output_area._bokeh_server_id = output.metadata[EXEC_MIME_TYPE][\"server_id\"];\n",
       "    }\n",
       "  }\n",
       "\n",
       "  function register_renderer(events, OutputArea) {\n",
       "\n",
       "    function append_mime(data, metadata, element) {\n",
       "      // create a DOM node to render to\n",
       "      const toinsert = this.create_output_subarea(\n",
       "        metadata,\n",
       "        CLASS_NAME,\n",
       "        EXEC_MIME_TYPE\n",
       "      );\n",
       "      this.keyboard_manager.register_events(toinsert);\n",
       "      // Render to node\n",
       "      const props = {data: data, metadata: metadata[EXEC_MIME_TYPE]};\n",
       "      render(props, toinsert[toinsert.length - 1]);\n",
       "      element.append(toinsert);\n",
       "      return toinsert\n",
       "    }\n",
       "\n",
       "    /* Handle when an output is cleared or removed */\n",
       "    events.on('clear_output.CodeCell', handleClearOutput);\n",
       "    events.on('delete.Cell', handleClearOutput);\n",
       "\n",
       "    /* Handle when a new output is added */\n",
       "    events.on('output_added.OutputArea', handleAddOutput);\n",
       "\n",
       "    /**\n",
       "     * Register the mime type and append_mime function with output_area\n",
       "     */\n",
       "    OutputArea.prototype.register_mime_type(EXEC_MIME_TYPE, append_mime, {\n",
       "      /* Is output safe? */\n",
       "      safe: true,\n",
       "      /* Index of renderer in `output_area.display_order` */\n",
       "      index: 0\n",
       "    });\n",
       "  }\n",
       "\n",
       "  // register the mime type if in Jupyter Notebook environment and previously unregistered\n",
       "  if (root.Jupyter !== undefined) {\n",
       "    const events = require('base/js/events');\n",
       "    const OutputArea = require('notebook/js/outputarea').OutputArea;\n",
       "\n",
       "    if (OutputArea.prototype.mime_types().indexOf(EXEC_MIME_TYPE) == -1) {\n",
       "      register_renderer(events, OutputArea);\n",
       "    }\n",
       "  }\n",
       "  if (typeof (root._bokeh_timeout) === \"undefined\" || force === true) {\n",
       "    root._bokeh_timeout = Date.now() + 5000;\n",
       "    root._bokeh_failed_load = false;\n",
       "  }\n",
       "\n",
       "  const NB_LOAD_WARNING = {'data': {'text/html':\n",
       "     \"<div style='background-color: #fdd'>\\n\"+\n",
       "     \"<p>\\n\"+\n",
       "     \"BokehJS does not appear to have successfully loaded. If loading BokehJS from CDN, this \\n\"+\n",
       "     \"may be due to a slow or bad network connection. Possible fixes:\\n\"+\n",
       "     \"</p>\\n\"+\n",
       "     \"<ul>\\n\"+\n",
       "     \"<li>re-rerun `output_notebook()` to attempt to load from CDN again, or</li>\\n\"+\n",
       "     \"<li>use INLINE resources instead, as so:</li>\\n\"+\n",
       "     \"</ul>\\n\"+\n",
       "     \"<code>\\n\"+\n",
       "     \"from bokeh.resources import INLINE\\n\"+\n",
       "     \"output_notebook(resources=INLINE)\\n\"+\n",
       "     \"</code>\\n\"+\n",
       "     \"</div>\"}};\n",
       "\n",
       "  function display_loaded() {\n",
       "    const el = document.getElementById(\"b6c68d0e-77bf-45a2-9b0d-024736799627\");\n",
       "    if (el != null) {\n",
       "      el.textContent = \"BokehJS is loading...\";\n",
       "    }\n",
       "    if (root.Bokeh !== undefined) {\n",
       "      if (el != null) {\n",
       "        el.textContent = \"BokehJS \" + root.Bokeh.version + \" successfully loaded.\";\n",
       "      }\n",
       "    } else if (Date.now() < root._bokeh_timeout) {\n",
       "      setTimeout(display_loaded, 100)\n",
       "    }\n",
       "  }\n",
       "\n",
       "  function run_callbacks() {\n",
       "    try {\n",
       "      root._bokeh_onload_callbacks.forEach(function(callback) {\n",
       "        if (callback != null)\n",
       "          callback();\n",
       "      });\n",
       "    } finally {\n",
       "      delete root._bokeh_onload_callbacks\n",
       "    }\n",
       "    console.debug(\"Bokeh: all callbacks have finished\");\n",
       "  }\n",
       "\n",
       "  function load_libs(css_urls, js_urls, callback) {\n",
       "    if (css_urls == null) css_urls = [];\n",
       "    if (js_urls == null) js_urls = [];\n",
       "\n",
       "    root._bokeh_onload_callbacks.push(callback);\n",
       "    if (root._bokeh_is_loading > 0) {\n",
       "      console.debug(\"Bokeh: BokehJS is being loaded, scheduling callback at\", now());\n",
       "      return null;\n",
       "    }\n",
       "    if (js_urls == null || js_urls.length === 0) {\n",
       "      run_callbacks();\n",
       "      return null;\n",
       "    }\n",
       "    console.debug(\"Bokeh: BokehJS not loaded, scheduling load and callback at\", now());\n",
       "    root._bokeh_is_loading = css_urls.length + js_urls.length;\n",
       "\n",
       "    function on_load() {\n",
       "      root._bokeh_is_loading--;\n",
       "      if (root._bokeh_is_loading === 0) {\n",
       "        console.debug(\"Bokeh: all BokehJS libraries/stylesheets loaded\");\n",
       "        run_callbacks()\n",
       "      }\n",
       "    }\n",
       "\n",
       "    function on_error(url) {\n",
       "      console.error(\"failed to load \" + url);\n",
       "    }\n",
       "\n",
       "    for (let i = 0; i < css_urls.length; i++) {\n",
       "      const url = css_urls[i];\n",
       "      const element = document.createElement(\"link\");\n",
       "      element.onload = on_load;\n",
       "      element.onerror = on_error.bind(null, url);\n",
       "      element.rel = \"stylesheet\";\n",
       "      element.type = \"text/css\";\n",
       "      element.href = url;\n",
       "      console.debug(\"Bokeh: injecting link tag for BokehJS stylesheet: \", url);\n",
       "      document.body.appendChild(element);\n",
       "    }\n",
       "\n",
       "    for (let i = 0; i < js_urls.length; i++) {\n",
       "      const url = js_urls[i];\n",
       "      const element = document.createElement('script');\n",
       "      element.onload = on_load;\n",
       "      element.onerror = on_error.bind(null, url);\n",
       "      element.async = false;\n",
       "      element.src = url;\n",
       "      console.debug(\"Bokeh: injecting script tag for BokehJS library: \", url);\n",
       "      document.head.appendChild(element);\n",
       "    }\n",
       "  };\n",
       "\n",
       "  function inject_raw_css(css) {\n",
       "    const element = document.createElement(\"style\");\n",
       "    element.appendChild(document.createTextNode(css));\n",
       "    document.body.appendChild(element);\n",
       "  }\n",
       "\n",
       "  const js_urls = [\"https://cdn.bokeh.org/bokeh/release/bokeh-3.1.1.min.js\", \"https://cdn.bokeh.org/bokeh/release/bokeh-gl-3.1.1.min.js\", \"https://cdn.bokeh.org/bokeh/release/bokeh-widgets-3.1.1.min.js\", \"https://cdn.bokeh.org/bokeh/release/bokeh-tables-3.1.1.min.js\", \"https://cdn.bokeh.org/bokeh/release/bokeh-mathjax-3.1.1.min.js\"];\n",
       "  const css_urls = [];\n",
       "\n",
       "  const inline_js = [    function(Bokeh) {\n",
       "      Bokeh.set_log_level(\"info\");\n",
       "    },\n",
       "function(Bokeh) {\n",
       "    }\n",
       "  ];\n",
       "\n",
       "  function run_inline_js() {\n",
       "    if (root.Bokeh !== undefined || force === true) {\n",
       "          for (let i = 0; i < inline_js.length; i++) {\n",
       "      inline_js[i].call(root, root.Bokeh);\n",
       "    }\n",
       "if (force === true) {\n",
       "        display_loaded();\n",
       "      }} else if (Date.now() < root._bokeh_timeout) {\n",
       "      setTimeout(run_inline_js, 100);\n",
       "    } else if (!root._bokeh_failed_load) {\n",
       "      console.log(\"Bokeh: BokehJS failed to load within specified timeout.\");\n",
       "      root._bokeh_failed_load = true;\n",
       "    } else if (force !== true) {\n",
       "      const cell = $(document.getElementById(\"b6c68d0e-77bf-45a2-9b0d-024736799627\")).parents('.cell').data().cell;\n",
       "      cell.output_area.append_execute_result(NB_LOAD_WARNING)\n",
       "    }\n",
       "  }\n",
       "\n",
       "  if (root._bokeh_is_loading === 0) {\n",
       "    console.debug(\"Bokeh: BokehJS loaded, going straight to plotting\");\n",
       "    run_inline_js();\n",
       "  } else {\n",
       "    load_libs(css_urls, js_urls, function() {\n",
       "      console.debug(\"Bokeh: BokehJS plotting callback run at\", now());\n",
       "      run_inline_js();\n",
       "    });\n",
       "  }\n",
       "}(window));"
      ],
      "application/vnd.bokehjs_load.v0+json": "(function(root) {\n  function now() {\n    return new Date();\n  }\n\n  const force = true;\n\n  if (typeof root._bokeh_onload_callbacks === \"undefined\" || force === true) {\n    root._bokeh_onload_callbacks = [];\n    root._bokeh_is_loading = undefined;\n  }\n\n\n  if (typeof (root._bokeh_timeout) === \"undefined\" || force === true) {\n    root._bokeh_timeout = Date.now() + 5000;\n    root._bokeh_failed_load = false;\n  }\n\n  const NB_LOAD_WARNING = {'data': {'text/html':\n     \"<div style='background-color: #fdd'>\\n\"+\n     \"<p>\\n\"+\n     \"BokehJS does not appear to have successfully loaded. If loading BokehJS from CDN, this \\n\"+\n     \"may be due to a slow or bad network connection. Possible fixes:\\n\"+\n     \"</p>\\n\"+\n     \"<ul>\\n\"+\n     \"<li>re-rerun `output_notebook()` to attempt to load from CDN again, or</li>\\n\"+\n     \"<li>use INLINE resources instead, as so:</li>\\n\"+\n     \"</ul>\\n\"+\n     \"<code>\\n\"+\n     \"from bokeh.resources import INLINE\\n\"+\n     \"output_notebook(resources=INLINE)\\n\"+\n     \"</code>\\n\"+\n     \"</div>\"}};\n\n  function display_loaded() {\n    const el = document.getElementById(\"b6c68d0e-77bf-45a2-9b0d-024736799627\");\n    if (el != null) {\n      el.textContent = \"BokehJS is loading...\";\n    }\n    if (root.Bokeh !== undefined) {\n      if (el != null) {\n        el.textContent = \"BokehJS \" + root.Bokeh.version + \" successfully loaded.\";\n      }\n    } else if (Date.now() < root._bokeh_timeout) {\n      setTimeout(display_loaded, 100)\n    }\n  }\n\n  function run_callbacks() {\n    try {\n      root._bokeh_onload_callbacks.forEach(function(callback) {\n        if (callback != null)\n          callback();\n      });\n    } finally {\n      delete root._bokeh_onload_callbacks\n    }\n    console.debug(\"Bokeh: all callbacks have finished\");\n  }\n\n  function load_libs(css_urls, js_urls, callback) {\n    if (css_urls == null) css_urls = [];\n    if (js_urls == null) js_urls = [];\n\n    root._bokeh_onload_callbacks.push(callback);\n    if (root._bokeh_is_loading > 0) {\n      console.debug(\"Bokeh: BokehJS is being loaded, scheduling callback at\", now());\n      return null;\n    }\n    if (js_urls == null || js_urls.length === 0) {\n      run_callbacks();\n      return null;\n    }\n    console.debug(\"Bokeh: BokehJS not loaded, scheduling load and callback at\", now());\n    root._bokeh_is_loading = css_urls.length + js_urls.length;\n\n    function on_load() {\n      root._bokeh_is_loading--;\n      if (root._bokeh_is_loading === 0) {\n        console.debug(\"Bokeh: all BokehJS libraries/stylesheets loaded\");\n        run_callbacks()\n      }\n    }\n\n    function on_error(url) {\n      console.error(\"failed to load \" + url);\n    }\n\n    for (let i = 0; i < css_urls.length; i++) {\n      const url = css_urls[i];\n      const element = document.createElement(\"link\");\n      element.onload = on_load;\n      element.onerror = on_error.bind(null, url);\n      element.rel = \"stylesheet\";\n      element.type = \"text/css\";\n      element.href = url;\n      console.debug(\"Bokeh: injecting link tag for BokehJS stylesheet: \", url);\n      document.body.appendChild(element);\n    }\n\n    for (let i = 0; i < js_urls.length; i++) {\n      const url = js_urls[i];\n      const element = document.createElement('script');\n      element.onload = on_load;\n      element.onerror = on_error.bind(null, url);\n      element.async = false;\n      element.src = url;\n      console.debug(\"Bokeh: injecting script tag for BokehJS library: \", url);\n      document.head.appendChild(element);\n    }\n  };\n\n  function inject_raw_css(css) {\n    const element = document.createElement(\"style\");\n    element.appendChild(document.createTextNode(css));\n    document.body.appendChild(element);\n  }\n\n  const js_urls = [\"https://cdn.bokeh.org/bokeh/release/bokeh-3.1.1.min.js\", \"https://cdn.bokeh.org/bokeh/release/bokeh-gl-3.1.1.min.js\", \"https://cdn.bokeh.org/bokeh/release/bokeh-widgets-3.1.1.min.js\", \"https://cdn.bokeh.org/bokeh/release/bokeh-tables-3.1.1.min.js\", \"https://cdn.bokeh.org/bokeh/release/bokeh-mathjax-3.1.1.min.js\"];\n  const css_urls = [];\n\n  const inline_js = [    function(Bokeh) {\n      Bokeh.set_log_level(\"info\");\n    },\nfunction(Bokeh) {\n    }\n  ];\n\n  function run_inline_js() {\n    if (root.Bokeh !== undefined || force === true) {\n          for (let i = 0; i < inline_js.length; i++) {\n      inline_js[i].call(root, root.Bokeh);\n    }\nif (force === true) {\n        display_loaded();\n      }} else if (Date.now() < root._bokeh_timeout) {\n      setTimeout(run_inline_js, 100);\n    } else if (!root._bokeh_failed_load) {\n      console.log(\"Bokeh: BokehJS failed to load within specified timeout.\");\n      root._bokeh_failed_load = true;\n    } else if (force !== true) {\n      const cell = $(document.getElementById(\"b6c68d0e-77bf-45a2-9b0d-024736799627\")).parents('.cell').data().cell;\n      cell.output_area.append_execute_result(NB_LOAD_WARNING)\n    }\n  }\n\n  if (root._bokeh_is_loading === 0) {\n    console.debug(\"Bokeh: BokehJS loaded, going straight to plotting\");\n    run_inline_js();\n  } else {\n    load_libs(css_urls, js_urls, function() {\n      console.debug(\"Bokeh: BokehJS plotting callback run at\", now());\n      run_inline_js();\n    });\n  }\n}(window));"
     },
     "metadata": {},
     "output_type": "display_data"
    }
   ],
   "source": [
    "from bokeh.io import show, output_file, output_notebook\n",
    "from bokeh.models import (BoxSelectTool, Circle, EdgesAndLinkedNodes, \n",
    "                          HoverTool, MultiLine, NodesAndLinkedEdges, \n",
    "                          Plot, Range1d, TapTool, LabelSet, \n",
    "                          ColumnDataSource)\n",
    "from bokeh.plotting import from_networkx\n",
    "from bokeh.palettes import Spectral4\n",
    "output_notebook()\n",
    "\n",
    "import networkx as nx\n",
    "G = nx.from_pandas_adjacency(pd.DataFrame(omega, columns=logret.columns.to_list(), index=logret.columns.to_list()))"
   ]
  },
  {
   "cell_type": "markdown",
   "id": "oriented-circular",
   "metadata": {
    "slideshow": {
     "slide_type": "slide"
    }
   },
   "source": [
    "## Compare Eigenvalues\n",
    "\n",
    "* Different estimates perform different regularization\n",
    "* There are similairies as well as differences"
   ]
  },
  {
   "cell_type": "code",
   "execution_count": 9,
   "id": "narrative-sample",
   "metadata": {
    "hideCode": true,
    "slideshow": {
     "slide_type": "-"
    },
    "tags": []
   },
   "outputs": [
    {
     "data": {
      "image/png": "[encoded data removed]",
      "text/plain": [
       "<Figure size 640x480 with 1 Axes>"
      ]
     },
     "metadata": {},
     "output_type": "display_data"
    }
   ],
   "source": [
    "import numpy as np\n",
    "allevals = pd.DataFrame({\n",
    "    \"sample\": np.real(eigval_sample),\n",
    "    \"lw\": eigval_lw,\n",
    "    \"ggm\": eigval_ggm\n",
    "})\n",
    "allevals.plot();"
   ]
  },
  {
   "cell_type": "code",
   "execution_count": null,
   "id": "9d4a80dc-14a8-4af1-8e7f-560fdee30a0e",
   "metadata": {},
   "outputs": [],
   "source": []
  },
  {
   "cell_type": "code",
   "execution_count": null,
   "id": "7b5b8dd9-6c3c-447b-b9bb-854726f6adab",
   "metadata": {},
   "outputs": [],
   "source": []
  },
  {
   "cell_type": "code",
   "execution_count": null,
   "id": "3961e999-47a9-4878-8cf5-dfaff0f00d33",
   "metadata": {},
   "outputs": [],
   "source": []
  }
 ],
 "metadata": {
  "celltoolbar": "Slideshow",
  "kernelspec": {
   "display_name": "Python 3 (ipykernel)",
   "language": "python",
   "name": "python3"
  },
  "language_info": {
   "codemirror_mode": {
    "name": "ipython",
    "version": 3
   },
   "file_extension": ".py",
   "mimetype": "text/x-python",
   "name": "python",
   "nbconvert_exporter": "python",
   "pygments_lexer": "ipython3",
   "version": "3.10.9"
  },
  "toc": {
   "base_numbering": 1,
   "nav_menu": {},
   "number_sections": true,
   "sideBar": true,
   "skip_h1_title": false,
   "title_cell": "Table of Contents",
   "title_sidebar": "Contents",
   "toc_cell": false,
   "toc_position": {},
   "toc_section_display": true,
   "toc_window_display": false
  },
  "vscode": {
   "interpreter": {
    "hash": "d4d1e4263499bec80672ea0156c357c1ee493ec2b1c70f0acce89fc37c4a6abe"
   }
  }
 },
 "nbformat": 4,
 "nbformat_minor": 5
}
