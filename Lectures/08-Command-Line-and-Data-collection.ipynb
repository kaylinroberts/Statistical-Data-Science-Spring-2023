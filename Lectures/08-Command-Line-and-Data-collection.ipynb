{
 "cells": [
  {
   "cell_type": "markdown",
   "metadata": {
    "toc": true
   },
   "source": [
    "<h1>Table of Contents<span class=\"tocSkip\"></span></h1>\n",
    "<div class=\"toc\"><ul class=\"toc-item\"><li><span><a href=\"#GUI?-CLI?\" data-toc-modified-id=\"GUI?-CLI?-1\">GUI? CLI?</a></span></li><li><span><a href=\"#Shell-commands\" data-toc-modified-id=\"Shell-commands-2\">Shell commands</a></span><ul class=\"toc-item\"><li><span><a href=\"#References-to-learn-shell-command-line\" data-toc-modified-id=\"References-to-learn-shell-command-line-2.1\">References to learn shell command line</a></span></li><li><span><a href=\"#Commonly-used-commands-for-text-files\" data-toc-modified-id=\"Commonly-used-commands-for-text-files-2.2\">Commonly used commands for text files</a></span></li><li><span><a href=\"#Anatomy-of-shell-commands\" data-toc-modified-id=\"Anatomy-of-shell-commands-2.3\">Anatomy of shell commands</a></span></li><li><span><a href=\"#Example:-Downloading-Files\" data-toc-modified-id=\"Example:-Downloading-Files-2.4\">Example: Downloading Files</a></span></li><li><span><a href=\"#Example:-Viewing-file-contents\" data-toc-modified-id=\"Example:-Viewing-file-contents-2.5\">Example: Viewing file contents</a></span></li><li><span><a href=\"#Chaining-commands-togeter\" data-toc-modified-id=\"Chaining-commands-togeter-2.6\">Chaining commands togeter</a></span></li><li><span><a href=\"#Example:-Text-file-download,-search,-and-manipulation\" data-toc-modified-id=\"Example:-Text-file-download,-search,-and-manipulation-2.7\">Example: Text file download, search, and manipulation</a></span></li></ul></li><li><span><a href=\"#Shell-and-Jupyter-Notebook\" data-toc-modified-id=\"Shell-and-Jupyter-Notebook-3\">Shell and Jupyter Notebook</a></span></li><li><span><a href=\"#GET-method-and-APIs\" data-toc-modified-id=\"GET-method-and-APIs-4\">GET method and APIs</a></span><ul class=\"toc-item\"><li><span><a href=\"#GET-method\" data-toc-modified-id=\"GET-method-4.1\">GET method</a></span></li><li><span><a href=\"#Application-Programming-Interface-(API)\" data-toc-modified-id=\"Application-Programming-Interface-(API)-4.2\">Application Programming Interface (API)</a></span></li><li><span><a href=\"#Example:-Google-Maps\" data-toc-modified-id=\"Example:-Google-Maps-4.3\">Example: Google Maps</a></span></li><li><span><a href=\"#Example:-Film-Locations-in-San-Francisco\" data-toc-modified-id=\"Example:-Film-Locations-in-San-Francisco-4.4\">Example: Film Locations in San Francisco</a></span></li></ul></li><li><span><a href=\"#Javascript-Object-Notation-(JSON)-format\" data-toc-modified-id=\"Javascript-Object-Notation-(JSON)-format-5\">Javascript Object Notation (JSON) format</a></span><ul class=\"toc-item\"><li><span><a href=\"#Example:-Parsing-Film-Locations-in-San-Francisco\" data-toc-modified-id=\"Example:-Parsing-Film-Locations-in-San-Francisco-5.1\">Example: Parsing Film Locations in San Francisco</a></span></li></ul></li></ul></div>"
   ]
  },
  {
   "cell_type": "markdown",
   "metadata": {
    "slideshow": {
     "slide_type": "slide"
    }
   },
   "source": [
    "# PSTAT 134/234 - Command Line Interface (CLI) & Data collection <a class=\"tocSkip\">"
   ]
  },
  {
   "cell_type": "markdown",
   "metadata": {
    "slideshow": {
     "slide_type": "slide"
    }
   },
   "source": [
    "## GUI? CLI?"
   ]
  },
  {
   "cell_type": "markdown",
   "metadata": {
    "slideshow": {
     "slide_type": "fragment"
    }
   },
   "source": [
    "- **Graphical User Interface (GUI)**:  \n",
    "    interaction via graphical objects  \n",
    "    e.g., Microsoft Windows and Apple OS X"
   ]
  },
  {
   "cell_type": "markdown",
   "metadata": {
    "slideshow": {
     "slide_type": "fragment"
    }
   },
   "source": [
    "- **Command Line Interface (CLI)**:  \n",
    "    interaction via commands typed into shell  \n",
    "    e.g., bash, zsh, tcsh, etc."
   ]
  },
  {
   "cell_type": "markdown",
   "metadata": {
    "slideshow": {
     "slide_type": "fragment"
    }
   },
   "source": [
    "- Shell is often accessed by terminal [Terminal in Jupyter]    "
   ]
  },
  {
   "cell_type": "markdown",
   "metadata": {
    "slideshow": {
     "slide_type": "fragment"
    }
   },
   "source": [
    "- GUI is simple to use everyday but not easy to automate repetitive tasks with"
   ]
  },
  {
   "cell_type": "markdown",
   "metadata": {
    "slideshow": {
     "slide_type": "fragment"
    }
   },
   "source": [
    "- CLI is more cumbersome to use everyday but scriptable"
   ]
  },
  {
   "cell_type": "markdown",
   "metadata": {
    "slideshow": {
     "slide_type": "slide"
    }
   },
   "source": [
    "## Shell commands\n",
    "\n",
    "### References to learn shell command line\n",
    "\n",
    "- **Required reading: [Software Carpentry Shell Novice Lesson](http://swcarpentry.github.io/shell-novice/)**"
   ]
  },
  {
   "cell_type": "markdown",
   "metadata": {
    "slideshow": {
     "slide_type": "fragment"
    }
   },
   "source": [
    "- [Unix Power Tools](https://ucsb-primo.hosted.exlibrisgroup.com/primo-explore/fulldisplay?docid=01UCSB_ALMA51295276690003776&context=L&vid=UCSB&search_scope=default_scope&tab=default_tab&lang=en_US)"
   ]
  },
  {
   "cell_type": "markdown",
   "metadata": {
    "slideshow": {
     "slide_type": "fragment"
    }
   },
   "source": [
    "- [Explain Shell](https://explainshell.com/)"
   ]
  },
  {
   "cell_type": "markdown",
   "metadata": {},
   "source": [
    "### Commonly used commands for text files\n",
    "\n",
    "- `cat`: prints content of a file\n",
    "- `head`: prints first few lines of a file\n",
    "- `sed`: (stream editor) changes texts\n",
    "- `paste`: pasts text files side-by-side\n",
    "- `cut`: processes columns in delimited text file\n",
    "- `find`: searches file system\n",
    "- `grep`: searches text given regular expression pattern\n",
    "- `sort`: sort a file line by line\n",
    "- `uniq`: keeps unique lines of a sorted text\n",
    "- etc."
   ]
  },
  {
   "cell_type": "markdown",
   "metadata": {
    "slideshow": {
     "slide_type": "slide"
    }
   },
   "source": [
    "### Anatomy of shell commands\n",
    "\n",
    "Here is a simple shell command:"
   ]
  },
  {
   "cell_type": "code",
   "execution_count": 1,
   "metadata": {
    "slideshow": {
     "slide_type": "fragment"
    },
    "tags": []
   },
   "outputs": [
    {
     "name": "stdout",
     "output_type": "stream",
     "text": [
      "Usage: cat [OPTION]... [FILE]...\n",
      "Concatenate FILE(s) to standard output.\n",
      "\n",
      "With no FILE, or when FILE is -, read standard input.\n",
      "\n",
      "  -A, --show-all           equivalent to -vET\n",
      "  -b, --number-nonblank    number nonempty output lines, overrides -n\n",
      "  -e                       equivalent to -vE\n",
      "  -E, --show-ends          display $ at end of each line\n",
      "  -n, --number             number all output lines\n",
      "  -s, --squeeze-blank      suppress repeated empty output lines\n",
      "  -t                       equivalent to -vT\n",
      "  -T, --show-tabs          display TAB characters as ^I\n",
      "  -u                       (ignored)\n",
      "  -v, --show-nonprinting   use ^ and M- notation, except for LFD and TAB\n",
      "      --help     display this help and exit\n",
      "      --version  output version information and exit\n",
      "\n",
      "Examples:\n",
      "  cat f - g  Output f's contents, then standard input, then g's contents.\n",
      "  cat        Copy standard input to standard output.\n",
      "\n",
      "GNU coreutils online help: <https://www.gnu.org/software/coreutils/>\n",
      "Full documentation <https://www.gnu.org/software/coreutils/cat>\n",
      "or available locally via: info '(coreutils) cat invocation'\n"
     ]
    }
   ],
   "source": [
    "! cat --help ## most shell commands have built-in help"
   ]
  },
  {
   "cell_type": "markdown",
   "metadata": {
    "slideshow": {
     "slide_type": "fragment"
    }
   },
   "source": [
    "1. `cat`: program name"
   ]
  },
  {
   "cell_type": "markdown",
   "metadata": {
    "slideshow": {
     "slide_type": "fragment"
    }
   },
   "source": [
    "2. `[OPTION]`: controls program behavior"
   ]
  },
  {
   "cell_type": "markdown",
   "metadata": {
    "slideshow": {
     "slide_type": "fragment"
    }
   },
   "source": [
    "3. `[FILE]`: specify file to read from or standard input"
   ]
  },
  {
   "cell_type": "markdown",
   "metadata": {
    "slideshow": {
     "slide_type": "slide"
    }
   },
   "source": [
    "### Example: Downloading Files\n",
    "\n",
    "- URLs of files are directly visible (e.g., Github)\n",
    "\n",
    "- `wget` is simple and effective download tool\n",
    "\n",
    "- Example: https://github.com/fivethirtyeight/data\n",
    "\n",
    "- \"Raw\" button is the URL for actual file\n",
    "\n",
    "- Take the candy ratings data: https://github.com/fivethirtyeight/data/tree/master/candy-power-ranking\n",
    "\n",
    "- `wget` can be used to download files to course jupyterhub"
   ]
  },
  {
   "cell_type": "code",
   "execution_count": 2,
   "metadata": {
    "slideshow": {
     "slide_type": "fragment"
    },
    "tags": []
   },
   "outputs": [
    {
     "name": "stderr",
     "output_type": "stream",
     "text": [
      "--2023-06-01 08:31:52--  https://raw.githubusercontent.com/fivethirtyeight/data/master/candy-power-ranking/candy-data.csv\n",
      "Resolving raw.githubusercontent.com (raw.githubusercontent.com)... 185.199.108.133, 185.199.109.133, 185.199.110.133, ...\n",
      "Connecting to raw.githubusercontent.com (raw.githubusercontent.com)|185.199.108.133|:443... connected.\n",
      "HTTP request sent, awaiting response... 200 OK\n",
      "Length: 5193 (5.1K) [text/plain]\n",
      "Saving to: ‘candy-data.csv.1’\n",
      "\n",
      "     0K .....                                                 100% 84.0M=0s\n",
      "\n",
      "2023-06-01 08:31:52 (84.0 MB/s) - ‘candy-data.csv.1’ saved [5193/5193]\n",
      "\n"
     ]
    }
   ],
   "source": [
    "%%bash\n",
    "wget https://raw.githubusercontent.com/fivethirtyeight/data/master/candy-power-ranking/candy-data.csv"
   ]
  },
  {
   "cell_type": "markdown",
   "metadata": {
    "slideshow": {
     "slide_type": "slide"
    }
   },
   "source": [
    "### Example: Viewing file contents "
   ]
  },
  {
   "cell_type": "code",
   "execution_count": 3,
   "metadata": {
    "slideshow": {
     "slide_type": "fragment"
    },
    "tags": []
   },
   "outputs": [
    {
     "name": "stdout",
     "output_type": "stream",
     "text": [
      "competitorname,chocolate,fruity,caramel,peanutyalmondy,nougat,crispedricewafer,hard,bar,pluribus,sugarpercent,pricepercent,winpercent\n",
      "100 Grand,1,0,1,0,0,1,0,1,0,.73199999,.86000001,66.971725\n",
      "3 Musketeers,1,0,0,0,1,0,0,1,0,.60399997,.51099998,67.602936\n",
      "One dime,0,0,0,0,0,0,0,0,0,.011,.116,32.261086\n",
      "One quarter,0,0,0,0,0,0,0,0,0,.011,.51099998,46.116505\n",
      "Air Heads,0,1,0,0,0,0,0,0,0,.90600002,.51099998,52.341465\n",
      "Almond Joy,1,0,0,1,0,0,0,1,0,.465,.76700002,50.347546\n",
      "Baby Ruth,1,0,1,1,1,0,0,1,0,.60399997,.76700002,56.914547\n",
      "Boston Baked Beans,0,0,0,1,0,0,0,0,1,.31299999,.51099998,23.417824\n",
      "Candy Corn,0,0,0,0,0,0,0,0,1,.90600002,.32499999,38.010963\n"
     ]
    }
   ],
   "source": [
    "%%bash\n",
    "head candy-data.csv"
   ]
  },
  {
   "cell_type": "code",
   "execution_count": 4,
   "metadata": {
    "slideshow": {
     "slide_type": "fragment"
    },
    "tags": []
   },
   "outputs": [
    {
     "name": "stdout",
     "output_type": "stream",
     "text": [
      "competitorname,chocolate,fruity,caramel,peanutyalmondy,nougat,crispedricewafer,hard,bar,pluribus,sugarpercent,pricepercent,winpercent\n",
      "100 Grand,1,0,1,0,0,1,0,1,0,.73199999,.86000001,66.971725\n",
      "3 Musketeers,1,0,0,0,1,0,0,1,0,.60399997,.51099998,67.602936\n",
      "One dime,0,0,0,0,0,0,0,0,0,.011,.116,32.261086\n",
      "One quarter,0,0,0,0,0,0,0,0,0,.011,.51099998,46.116505\n",
      "Air Heads,0,1,0,0,0,0,0,0,0,.90600002,.51099998,52.341465\n",
      "Almond Joy,1,0,0,1,0,0,0,1,0,.465,.76700002,50.347546\n",
      "Baby Ruth,1,0,1,1,1,0,0,1,0,.60399997,.76700002,56.914547\n",
      "Boston Baked Beans,0,0,0,1,0,0,0,0,1,.31299999,.51099998,23.417824\n",
      "Candy Corn,0,0,0,0,0,0,0,0,1,.90600002,.32499999,38.010963\n"
     ]
    }
   ],
   "source": [
    "! head candy-data.csv ## also works"
   ]
  },
  {
   "cell_type": "code",
   "execution_count": 6,
   "metadata": {
    "slideshow": {
     "slide_type": "fragment"
    },
    "tags": []
   },
   "outputs": [
    {
     "name": "stdout",
     "output_type": "stream",
     "text": [
      "competitorname,chocolate,fruity,caramel,peanutyalmondy,nougat,crispedricewafer,hard,bar,pluribus,sugarpercent,pricepercent,winpercent\n"
     ]
    }
   ],
   "source": [
    "! head -n 1 candy-data.csv  ## first line is the header"
   ]
  },
  {
   "cell_type": "code",
   "execution_count": 7,
   "metadata": {
    "slideshow": {
     "slide_type": "slide"
    },
    "tags": []
   },
   "outputs": [
    {
     "name": "stdout",
     "output_type": "stream",
     "text": [
      "86 candy-data.csv\n"
     ]
    }
   ],
   "source": [
    "! wc -l candy-data.csv      ## counts lines in text file"
   ]
  },
  {
   "cell_type": "code",
   "execution_count": 8,
   "metadata": {
    "slideshow": {
     "slide_type": "fragment"
    },
    "tags": []
   },
   "outputs": [
    {
     "name": "stdout",
     "output_type": "stream",
     "text": [
      "competitorname,fruity\n",
      "100 Grand,0\n",
      "3 Musketeers,0\n",
      "One dime,0\n",
      "One quarter,0\n",
      "Air Heads,1\n",
      "Almond Joy,0\n",
      "Baby Ruth,0\n",
      "Boston Baked Beans,0\n",
      "Candy Corn,0\n",
      "Caramel Apple Pops,1\n",
      "Charleston Chew,0\n",
      "Chewey Lemonhead Fruit Mix,1\n",
      "Chiclets,1\n",
      "Dots,1\n",
      "Dum Dums,1\n",
      "Fruit Chews,1\n",
      "Fun Dip,1\n",
      "Gobstopper,1\n",
      "Haribo Gold Bears,1\n",
      "Haribo Happy Cola,0\n",
      "Haribo Sour Bears,1\n",
      "Haribo Twin Snakes,1\n",
      "Hershey's Kisses,0\n",
      "Hershey's Krackel,0\n",
      "Hershey's Milk Chocolate,0\n",
      "Hershey's Special Dark,0\n",
      "Jawbusters,1\n",
      "Junior Mints,0\n",
      "Kit Kat,0\n",
      "Laffy Taffy,1\n",
      "Lemonhead,1\n",
      "Lifesavers big ring gummies,1\n",
      "Peanut butter M&M's,0\n",
      "M&M's,0\n",
      "Mike & Ike,1\n",
      "Milk Duds,0\n",
      "Milky Way,0\n",
      "Milky Way Midnight,0\n",
      "Milky Way Simply Caramel,0\n",
      "Mounds,0\n",
      "Mr Good Bar,0\n",
      "Nerds,1\n",
      "Nestle Butterfinger,0\n",
      "Nestle Crunch,0\n",
      "Nik L Nip,1\n",
      "Now & Later,1\n",
      "Payday,0\n",
      "Peanut M&Ms,0\n",
      "Pixie Sticks,0\n",
      "Pop Rocks,1\n",
      "Red vines,1\n",
      "Reese's Miniatures,0\n",
      "Reese's Peanut Butter cup,0\n",
      "Reese's pieces,0\n",
      "Reese's stuffed with pieces,0\n",
      "Ring pop,1\n",
      "Rolo,0\n",
      "Root Beer Barrels,0\n",
      "Runts,1\n",
      "Sixlets,0\n",
      "Skittles original,1\n",
      "Skittles wildberry,1\n",
      "Nestle Smarties,0\n",
      "Smarties candy,1\n",
      "Snickers,0\n",
      "Snickers Crisper,0\n",
      "Sour Patch Kids,1\n",
      "Sour Patch Tricksters,1\n",
      "Starburst,1\n",
      "Strawberry bon bons,1\n",
      "Sugar Babies,0\n",
      "Sugar Daddy,0\n",
      "Super Bubble,1\n",
      "Swedish Fish,1\n",
      "Tootsie Pop,1\n",
      "Tootsie Roll Juniors,0\n",
      "Tootsie Roll Midgies,0\n",
      "Tootsie Roll Snack Bars,0\n",
      "Trolli Sour Bites,1\n",
      "Twix,0\n",
      "Twizzlers,1\n",
      "Warheads,1\n",
      "Welch's Fruit Snacks,1\n",
      "Werther's Original Caramel,0\n",
      "Whoppers,0\n"
     ]
    }
   ],
   "source": [
    "! cut -d',' -f1,3 candy-data.csv    ## prints columns of delimited text"
   ]
  },
  {
   "cell_type": "code",
   "execution_count": 9,
   "metadata": {
    "slideshow": {
     "slide_type": "fragment"
    },
    "tags": []
   },
   "outputs": [
    {
     "name": "stdout",
     "output_type": "stream",
     "text": [
      "Tootsie Pop,1,1,0,0,0,0,1,0,0,.60399997,.32499999,48.982651\n",
      "Tootsie Roll Juniors,1,0,0,0,0,0,0,0,0,.31299999,.51099998,43.068897\n",
      "Tootsie Roll Midgies,1,0,0,0,0,0,0,0,1,.17399999,.011,45.736748\n",
      "Tootsie Roll Snack Bars,1,0,0,0,0,0,0,1,0,.465,.32499999,49.653503\n"
     ]
    }
   ],
   "source": [
    "! grep 'Tootsie' candy-data.csv      ## finds lines with pattern (regular expression)"
   ]
  },
  {
   "cell_type": "markdown",
   "metadata": {
    "slideshow": {
     "slide_type": "slide"
    }
   },
   "source": [
    "### Chaining commands togeter\n",
    "\n",
    "- Commands can be chained together using \"pipes\"\n",
    "\n",
    "- Many commands in the shell sends output to what is called \"stdout\" (essentially printing to screen)\n",
    "\n",
    "- Pipe enable \"stdout\" to be input into another command via \"stdin\" (standard input).\n",
    "\n",
    "- Hence, we can make commands such as the following"
   ]
  },
  {
   "cell_type": "code",
   "execution_count": 10,
   "metadata": {
    "slideshow": {
     "slide_type": "fragment"
    },
    "tags": []
   },
   "outputs": [
    {
     "name": "stdout",
     "output_type": "stream",
     "text": [
      "competitorname,chocolate,fruity,caramel,peanutyalmondy,nougat,crispedricewafer,hard,bar,pluribus,sugarpercent,pricepercent,winpercent\n"
     ]
    }
   ],
   "source": [
    "! head -n1 candy-data.csv"
   ]
  },
  {
   "cell_type": "code",
   "execution_count": 11,
   "metadata": {
    "slideshow": {
     "slide_type": "fragment"
    },
    "tags": []
   },
   "outputs": [
    {
     "name": "stdout",
     "output_type": "stream",
     "text": [
      "competitorname\n",
      "chocolate\n",
      "fruity\n",
      "caramel\n",
      "peanutyalmondy\n",
      "nougat\n",
      "crispedricewafer\n",
      "hard\n",
      "bar\n",
      "pluribus\n",
      "sugarpercent\n",
      "pricepercent\n",
      "winpercent\n"
     ]
    }
   ],
   "source": [
    "! head -n1 candy-data.csv | sed 's/,/\\n/g' # \\n is a special character for new line"
   ]
  },
  {
   "cell_type": "code",
   "execution_count": 12,
   "metadata": {
    "slideshow": {
     "slide_type": "fragment"
    },
    "tags": []
   },
   "outputs": [
    {
     "name": "stdout",
     "output_type": "stream",
     "text": [
      "competitorname\n",
      "CHOCOLATE\n",
      "fruity\n",
      "caramel\n",
      "peanutyalmondy\n",
      "nougat\n",
      "crispedricewafer\n",
      "hard\n",
      "bar\n",
      "pluribus\n",
      "sugarpercent\n",
      "pricepercent\n",
      "winpercent\n"
     ]
    }
   ],
   "source": [
    "! head -n1 candy-data.csv | sed 's/,/\\n/g' | sed 's/chocolate/CHOCOLATE/g'"
   ]
  },
  {
   "cell_type": "markdown",
   "metadata": {
    "slideshow": {
     "slide_type": "slide"
    }
   },
   "source": [
    "### Example: Text file download, search, and manipulation\n",
    "\n",
    "Comands like `grep`, `sed` and `awk` can be used for text processing."
   ]
  },
  {
   "cell_type": "code",
   "execution_count": 13,
   "metadata": {
    "scrolled": true,
    "slideshow": {
     "slide_type": "fragment"
    },
    "tags": []
   },
   "outputs": [
    {
     "name": "stdout",
     "output_type": "stream",
     "text": [
      "<!DOCTYPE html>\n",
      "<html  lang=\"en\" dir=\"ltr\" prefix=\"content: http://purl.org/rss/1.0/modules/content/  dc: http://purl.org/dc/terms/  foaf: http://xmlns.com/foaf/0.1/  og: http://ogp.me/ns#  rdfs: http://www.w3.org/2000/01/rdf-schema#  schema: http://schema.org/  sioc: http://rdfs.org/sioc/ns#  sioct: http://rdfs.org/sioc/types#  skos: http://www.w3.org/2004/02/skos/core#  xsd: http://www.w3.org/2001/XMLSchema# \">\n",
      "  <head>\n",
      "    <meta charset=\"utf-8\" /><script type=\"text/javascript\">(window.NREUM||(NREUM={})).init={ajax:{deny_list:[\"bam.nr-data.net\"]}};(window.NREUM||(NREUM={})).loader_config={licenseKey:\"b67fc6a152\",applicationID:\"70700070\"};;(()=>{\"use strict\";var e,t,n={8768:(e,t,n)=>{n.d(t,{T:()=>r,p:()=>i});const r=/(iPad|iPhone|iPod)/g.test(navigator.userAgent),i=r&&Boolean(\"undefined\"==typeof SharedWorker)},2919:(e,t,n)=>{n.d(t,{P_:()=>h,Mt:()=>p,C5:()=>c,DL:()=>w,OP:()=>N,lF:()=>C,Yu:()=>A,Dg:()=>v,CX:()=>u,GE:()=>y,sU:()=>I});var r={};n.r(r),n.d(r,{agent:()=>x,match:()=>k,version:()=>_});var i=n(6797),o=n(4286);const a={beacon:i.ce.beacon,errorBeacon:i.ce.errorBeacon,licenseKey:void 0,applicationID:void 0,sa:void 0,queueTime:void 0,applicationTime:void 0,ttGuid:void 0,user:void 0,account:void 0,product:void 0,extra:void 0,jsAttributes:{},userAttributes:void 0,atts:void 0,transactionName:void 0,tNamePlain:void 0},s={};function c(e){if(!e)throw new Error(\"All info objects require an agent identifier!\");if(!s[e])throw new Error(\"Info for \".concat(e,\" was never set\"));return s[e]}function u(e,t){if(!e)throw new Error(\"All info objects require an agent identifier!\");s[e]=new o.I(t,a),(0,i.Qy)(e,s[e],\"info\")}var d=n(2797),f=n(2374);const l={allow_bfcache:!0,privacy:{cookies_enabled:!0},ajax:{deny_list:void 0,enabled:!0,harvestTimeSeconds:10},distributed_tracing:{enabled:void 0,exclude_newrelic_header:void 0,cors_use_newrelic_header:void 0,cors_use_tracecontext_headers:void 0,allowed_origins:void 0},session:{domain:void 0,expiresMs:d.oD,inactiveMs:d.Hb},ssl:void 0,obfuscate:void 0,jserrors:{enabled:!0,harvestTimeSeconds:10},metrics:{enabled:!0},page_action:{enabled:!0,harvestTimeSeconds:30},page_view_event:{enabled:!0},page_view_timing:{enabled:!0,harvestTimeSeconds:30,long_task:!1},session_trace:{enabled:!0,harvestTimeSeconds:10},spa:{enabled:!0,harvestTimeSeconds:10}},g={};function h(e){if(!e)throw new Error(\"All configuration objects require an agent identifier!\");if(!g[e])throw new Error(\"Configuration for \".concat(e,\" was never set\"));return g[e]}function v(e,t){if(!e)throw new Error(\"All configuration objects require an agent identifier!\");g[e]=new o.I(t,l),(0,i.Qy)(e,g[e],\"config\")}function p(e,t){if(!e)throw new Error(\"All configuration objects require an agent identifier!\");var n=h(e);if(n){for(var r=t.split(\".\"),i=0;i<r.length-1;i++)if(\"object\"!=typeof(n=n[r[i]]))return;n=n[r[r.length-1]]}return n}const m={accountID:void 0,trustKey:void 0,agentID:void 0,licenseKey:void 0,applicationID:void 0,xpid:void 0},b={};function w(e){if(!e)throw new Error(\"All loader-config objects require an agent identifier!\");if(!b[e])throw new Error(\"LoaderConfig for \".concat(e,\" was never set\"));return b[e]}function y(e,t){if(!e)throw new Error(\"All loader-config objects require an agent identifier!\");b[e]=new o.I(t,m),(0,i.Qy)(e,b[e],\"loader_config\")}const A=(0,i.mF)().o;var x=null,_=null;const j=/Version\\/(\\S+)\\s+Safari/;if(navigator.userAgent){var D=navigator.userAgent,E=D.match(j);E&&-1===D.indexOf(\"Chrome\")&&-1===D.indexOf(\"Chromium\")&&(x=\"Safari\",_=E[1])}function k(e,t){if(!x)return!1;if(e!==x)return!1;if(!t)return!0;if(!_)return!1;for(var n=_.split(\".\"),r=t.split(\".\"),i=0;i<r.length;i++)if(r[i]!==n[i])return!1;return!0}var S=n(1651);const T={buildEnv:S.Re,bytesSent:{},queryBytesSent:{},customTransaction:void 0,disabled:!1,distMethod:S.gF,isolatedBacklog:!1,loaderType:void 0,maxBytes:3e4,offset:Math.floor(f._A?.performance?.timeOrigin||f._A?.performance?.timing?.navigationStart||Date.now()),onerror:void 0,origin:\"\"+f._A.location,ptid:void 0,releaseIds:{},session:void 0,xhrWrappable:\"function\"==typeof f._A.XMLHttpRequest?.prototype?.addEventListener,userAgent:r,version:S.q4},P={};function N(e){if(!e)throw new Error(\"All runtime objects require an agent identifier!\");if(!P[e])throw new Error(\"Runtime for \".concat(e,\" was never set\"));return P[e]}function I(e,t){if(!e)throw new Error(\"All runtime objects require an agent identifier!\");P[e]=new o.I(t,T),(0,i.Qy)(e,P[e],\"runtime\")}function C(e){return function(e){try{const t=c(e);return!!t.licenseKey&&!!t.errorBeacon&&!!t.applicationID}catch(e){return!1}}(e)}},4286:(e,t,n)=>{n.d(t,{I:()=>o});var r=n(909),i=n(8610);class o{constructor(e,t){Object.assign(this,function(e,t){const n={};try{return e&&\"object\"==typeof e?t&&\"object\"==typeof t?(Object.assign(n,t),Object.entries(e).forEach((e=>{let[o,a]=e;if(!Object.keys(t).includes(o))return;const s=(0,r.q)(o);s.length&&a&&\"object\"==typeof a&&s.forEach((e=>{e in a&&((0,i.Z)('\"'.concat(e,'\" is a protected attribute and can not be changed in feature ').concat(o,\".  It will have no effect.\")),delete a[e])})),n[o]=a})),n):(0,i.Z)(\"Setting a Configurable requires a model to set its initial properties\"):(0,i.Z)(\"New setting a Configurable requires an object as input\")}catch(e){(0,i.Z)(\"An error occured while setting a Configurable\",e)}}(e,t))}}},1651:(e,t,n)=>{n.d(t,{Re:()=>i,gF:()=>o,q4:()=>r});const r=\"1.232.0\",i=\"PROD\",o=\"CDN\"},9557:(e,t,n)=>{n.d(t,{w:()=>o});var r=n(8610);const i={agentIdentifier:\"\",ee:void 0};class o{constructor(e){try{if(\"object\"!=typeof e)return(0,r.Z)(\"shared context requires an object as input\");this.sharedContext={},Object.assign(this.sharedContext,i),Object.entries(e).forEach((e=>{let[t,n]=e;Object.keys(i).includes(t)&&(this.sharedContext[t]=n)}))}catch(e){(0,r.Z)(\"An error occured while setting SharedContext\",e)}}}},4329:(e,t,n)=>{n.d(t,{L:()=>d,R:()=>c});var r=n(3752),i=n(7022),o=n(4045),a=n(2325);const s={};function c(e,t){const n={staged:!1,priority:a.p[t]||0};u(e),s[e].get(t)||s[e].set(t,n)}function u(e){e&&(s[e]||(s[e]=new Map))}function d(){let e=arguments.length>0&&void 0!==arguments[0]?arguments[0]:\"\",t=arguments.length>1&&void 0!==arguments[1]?arguments[1]:\"feature\";if(u(e),!e||!s[e].get(t))return a(t);s[e].get(t).staged=!0;const n=Array.from(s[e]);function a(t){const n=e?r.ee.get(e):r.ee,a=o.X.handlers;if(n.backlog&&a){var s=n.backlog[t],c=a[t];if(c){for(var u=0;s&&u<s.length;++u)f(s[u],c);(0,i.D)(c,(function(e,t){(0,i.D)(t,(function(t,n){n[0].on(e,n[1])}))}))}delete a[t],n.backlog[t]=null,n.emit(\"drain-\"+t,[])}}n.every((e=>{let[t,n]=e;return n.staged}))&&(n.sort(((e,t)=>e[1].priority-t[1].priority)),n.forEach((e=>{let[t]=e;a(t)})))}function f(e,t){var n=e[1];(0,i.D)(t[n],(function(t,n){var r=e[0];if(n[0]===r){var i=n[1],o=e[3],a=e[2];i.apply(o,a)}}))}},3752:(e,t,n)=>{n.d(t,{ee:()=>u});var r=n(6797),i=n(3916),o=n(7022),a=n(2919),s=\"nr@context\";let c=(0,r.fP)();var u;function d(){}function f(){return new d}function l(){u.aborted=!0,u.backlog={}}c.ee?u=c.ee:(u=function e(t,n){var r={},c={},g={},h=!1;try{h=16===n.length&&(0,a.OP)(n).isolatedBacklog}catch(e){}var v={on:b,addEventListener:b,removeEventListener:w,emit:m,get:A,listeners:y,context:p,buffer:x,abort:l,aborted:!1,isBuffering:_,debugId:n,backlog:h?{}:t&&\"object\"==typeof t.backlog?t.backlog:{}};return v;function p(e){return e&&e instanceof d?e:e?(0,i.X)(e,s,f):f()}function m(e,n,r,i,o){if(!1!==o&&(o=!0),!u.aborted||i){t&&o&&t.emit(e,n,r);for(var a=p(r),s=y(e),d=s.length,f=0;f<d;f++)s[f].apply(a,n);var l=j()[c[e]];return l&&l.push([v,e,n,a]),a}}function b(e,t){r[e]=y(e).concat(t)}function w(e,t){var n=r[e];if(n)for(var i=0;i<n.length;i++)n[i]===t&&n.splice(i,1)}function y(e){return r[e]||[]}function A(t){return g[t]=g[t]||e(v,t)}function x(e,t){var n=j();v.aborted||(0,o.D)(e,(function(e,r){t=t||\"feature\",c[r]=t,t in n||(n[t]=[])}))}function _(e){return!!j()[c[e]]}function j(){return v.backlog}}(void 0,\"globalEE\"),c.ee=u)},9252:(e,t,n)=>{n.d(t,{E:()=>r,p:()=>i});var r=n(3752).ee.get(\"handle\");function i(e,t,n,i,o){o?(o.buffer([e],i),o.emit(e,t,n)):(r.buffer([e],i),r.emit(e,t,n))}},4045:(e,t,n)=>{n.d(t,{X:()=>o});var r=n(9252);o.on=a;var i=o.handlers={};function o(e,t,n,o){a(o||r.E,i,e,t,n)}function a(e,t,n,i,o){o||(o=\"feature\"),e||(e=r.E);var a=t[o]=t[o]||{};(a[n]=a[n]||[]).push([e,i])}},8544:(e,t,n)=>{n.d(t,{bP:()=>s,iz:()=>c,m$:()=>a});var r=n(2374);let i=!1,o=!1;try{const e={get passive(){return i=!0,!1},get signal(){return o=!0,!1}};r._A.addEventListener(\"test\",null,e),r._A.removeEventListener(\"test\",null,e)}catch(e){}function a(e,t){return i||o?{capture:!!e,passive:i,signal:t}:!!e}function s(e,t){let n=arguments.length>2&&void 0!==arguments[2]&&arguments[2],r=arguments.length>3?arguments[3]:void 0;window.addEventListener(e,t,a(n,r))}function c(e,t){let n=arguments.length>2&&void 0!==arguments[2]&&arguments[2],r=arguments.length>3?arguments[3]:void 0;document.addEventListener(e,t,a(n,r))}},5526:(e,t,n)=>{n.d(t,{Rl:()=>a,ky:()=>s});var r=n(2374);const i=\"xxxxxxxx-xxxx-4xxx-yxxx-xxxxxxxxxxxx\";function o(e,t){return e?15&e[t]:16*Math.random()|0}function a(){const e=r._A?.crypto||r._A?.msCrypto;let t,n=0;return e&&e.getRandomValues&&(t=e.getRandomValues(new Uint8Array(31))),i.split(\"\").map((e=>\"x\"===e?o(t,++n).toString(16):\"y\"===e?(3&o()|8).toString(16):e)).join(\"\")}function s(e){const t=r._A?.crypto||r._A?.msCrypto;let n,i=0;t&&t.getRandomValues&&(n=t.getRandomValues(new Uint8Array(31)));const a=[];for(var s=0;s<e;s++)a.push(o(n,++i).toString(16));return a.join(\"\")}},2797:(e,t,n)=>{n.d(t,{Bq:()=>r,Hb:()=>o,oD:()=>i});const r=\"NRBA\",i=144e5,o=18e5},2053:(e,t,n)=>{function r(){return Math.round(performance.now())}n.d(t,{z:()=>r})},8610:(e,t,n)=>{function r(e,t){\"function\"==typeof console.warn&&(console.warn(\"New Relic: \".concat(e)),t&&console.warn(t))}n.d(t,{Z:()=>r})},3916:(e,t,n)=>{n.d(t,{X:()=>i});var r=Object.prototype.hasOwnProperty;function i(e,t,n){if(r.call(e,t))return e[t];var i=n();if(Object.defineProperty&&Object.keys)try{return Object.defineProperty(e,t,{value:i,writable:!0,enumerable:!1}),i}catch(e){}return e[t]=i,i}},2374:(e,t,n)=>{n.d(t,{_A:()=>o,il:()=>r,v6:()=>i});const r=Boolean(\"undefined\"!=typeof window&&window.document),i=Boolean(\"undefined\"!=typeof WorkerGlobalScope&&self.navigator instanceof WorkerNavigator);let o=(()=>{if(r)return window;if(i){if(\"undefined\"!=typeof globalThis&&globalThis instanceof WorkerGlobalScope)return globalThis;if(self instanceof WorkerGlobalScope)return self}throw new Error('New Relic browser agent shutting down due to error: Unable to locate global scope. This is possibly due to code redefining browser global variables like \"self\" and \"window\".')})()},7022:(e,t,n)=>{n.d(t,{D:()=>r});const r=(e,t)=>Object.entries(e||{}).map((e=>{let[n,r]=e;return t(n,r)}))},2438:(e,t,n)=>{n.d(t,{P:()=>o});var r=n(3752);const i=()=>{const e=new WeakSet;return(t,n)=>{if(\"object\"==typeof n&&null!==n){if(e.has(n))return;e.add(n)}return n}};function o(e){try{return JSON.stringify(e,i())}catch(e){try{r.ee.emit(\"internal-error\",[e])}catch(e){}}}},2650:(e,t,n)=>{n.d(t,{K:()=>a,b:()=>o});var r=n(8544);function i(){return\"undefined\"==typeof document||\"complete\"===document.readyState}function o(e,t){if(i())return e();(0,r.bP)(\"load\",e,t)}function a(e){if(i())return e();(0,r.iz)(\"DOMContentLoaded\",e)}},6797:(e,t,n)=>{n.d(t,{EZ:()=>u,Qy:()=>c,ce:()=>o,fP:()=>a,gG:()=>d,mF:()=>s});var r=n(2053),i=n(2374);const o={beacon:\"bam.nr-data.net\",errorBeacon:\"bam.nr-data.net\"};function a(){return i._A.NREUM||(i._A.NREUM={}),void 0===i._A.newrelic&&(i._A.newrelic=i._A.NREUM),i._A.NREUM}function s(){let e=a();return e.o||(e.o={ST:i._A.setTimeout,SI:i._A.setImmediate,CT:i._A.clearTimeout,XHR:i._A.XMLHttpRequest,REQ:i._A.Request,EV:i._A.Event,PR:i._A.Promise,MO:i._A.MutationObserver,FETCH:i._A.fetch}),e}function c(e,t,n){let i=a();const o=i.initializedAgents||{},s=o[e]||{};return Object.keys(s).length||(s.initializedAt={ms:(0,r.z)(),date:new Date}),i.initializedAgents={...o,[e]:{...s,[n]:t}},i}function u(e,t){a()[e]=t}function d(){return function(){let e=a();const t=e.info||{};e.info={beacon:o.beacon,errorBeacon:o.errorBeacon,...t}}(),function(){let e=a();const t=e.init||{};e.init={...t}}(),s(),function(){let e=a();const t=e.loader_config||{};e.loader_config={...t}}(),a()}},6998:(e,t,n)=>{n.d(t,{N:()=>i});var r=n(8544);function i(e){let t=arguments.length>1&&void 0!==arguments[1]&&arguments[1],n=arguments.length>2?arguments[2]:void 0,i=arguments.length>3?arguments[3]:void 0;return void(0,r.iz)(\"visibilitychange\",(function(){if(t)return void(\"hidden\"==document.visibilityState&&e());e(document.visibilityState)}),n,i)}},6034:(e,t,n)=>{n.d(t,{gF:()=>o,mY:()=>i,t9:()=>r,vz:()=>s,xS:()=>a});const r=n(2325).D.metrics,i=\"sm\",o=\"cm\",a=\"storeSupportabilityMetrics\",s=\"storeEventMetrics\"},2484:(e,t,n)=>{n.d(t,{Dz:()=>i,OJ:()=>a,qw:()=>o,t9:()=>r});const r=n(2325).D.pageViewEvent,i=\"firstbyte\",o=\"domcontent\",a=\"windowload\"},6382:(e,t,n)=>{n.d(t,{t:()=>r});const r=n(2325).D.pageViewTiming},1509:(e,t,n)=>{n.d(t,{W:()=>s});var r=n(2919),i=n(3752),o=n(2384),a=n(6797);class s{constructor(e,t,n){this.agentIdentifier=e,this.aggregator=t,this.ee=i.ee.get(e,(0,r.OP)(this.agentIdentifier).isolatedBacklog),this.featureName=n,this.blocked=!1,this.checkConfiguration()}checkConfiguration(){if(!(0,r.lF)(this.agentIdentifier)){let e={...(0,a.gG)().info?.jsAttributes};try{e={...e,...(0,r.C5)(this.agentIdentifier)?.jsAttributes}}catch(e){}(0,o.j)(this.agentIdentifier,{...(0,a.gG)(),info:{...(0,a.gG)().info,jsAttributes:e}})}}}},2384:(e,t,n)=>{n.d(t,{j:()=>b});var r=n(2325),i=n(2919),o=n(9252),a=n(3752),s=n(2053),c=n(4329),u=n(2650),d=n(2374),f=n(8610),l=n(6034),g=n(6797);function h(){const e=(0,g.gG)();[\"setErrorHandler\",\"finished\",\"addToTrace\",\"inlineHit\",\"addRelease\",\"addPageAction\",\"setCurrentRouteName\",\"setPageViewName\",\"setCustomAttribute\",\"interaction\",\"noticeError\",\"setUserId\"].forEach((t=>{e[t]=function(){for(var n=arguments.length,r=new Array(n),i=0;i<n;i++)r[i]=arguments[i];return function(t){for(var n=arguments.length,r=new Array(n>1?n-1:0),i=1;i<n;i++)r[i-1]=arguments[i];let o=[];return Object.values(e.initializedAgents).forEach((e=>{e.exposed&&e.api[t]&&o.push(e.api[t](...r))})),o.length>1?o:o[0]}(t,...r)}}))}var v=n(7022);const p={stn:[r.D.sessionTrace],err:[r.D.jserrors,r.D.metrics],ins:[r.D.pageAction],spa:[r.D.spa]};const m={};function b(e){let t=arguments.length>1&&void 0!==arguments[1]?arguments[1]:{},b=arguments.length>2?arguments[2]:void 0,w=arguments.length>3?arguments[3]:void 0,{init:y,info:A,loader_config:x,runtime:_={loaderType:b},exposed:j=!0}=t;const D=(0,g.gG)();A||(y=D.init,A=D.info,x=D.loader_config),A.jsAttributes??={},d.v6&&(A.jsAttributes.isWorker=!0),(0,i.CX)(e,A),(0,i.Dg)(e,y||{}),(0,i.GE)(e,x||{}),(0,i.sU)(e,_),h();const E=function(e,t){t||(0,c.R)(e,\"api\");const g={};var h=a.ee.get(e),v=h.get(\"tracer\"),p=\"api-\",m=p+\"ixn-\";function b(t,n,r,o){const a=(0,i.C5)(e);return null===n?delete a.jsAttributes[t]:(0,i.CX)(e,{...a,jsAttributes:{...a.jsAttributes,[t]:n}}),A(p,r,!0,o||null===n?\"session\":void 0)(t,n)}function w(){}[\"setErrorHandler\",\"finished\",\"addToTrace\",\"inlineHit\",\"addRelease\"].forEach((e=>g[e]=A(p,e,!0,\"api\"))),g.addPageAction=A(p,\"addPageAction\",!0,r.D.pageAction),g.setCurrentRouteName=A(p,\"routeName\",!0,r.D.spa),g.setPageViewName=function(t,n){if(\"string\"==typeof t)return\"/\"!==t.charAt(0)&&(t=\"/\"+t),(0,i.OP)(e).customTransaction=(n||\"http://custom.transaction\")+t,A(p,\"setPageViewName\",!0)()},g.setCustomAttribute=function(e,t){let n=arguments.length>2&&void 0!==arguments[2]&&arguments[2];if(\"string\"==typeof e){if([\"string\",\"number\"].includes(typeof t)||null===t)return b(e,t,\"setCustomAttribute\",n);(0,f.Z)(\"Failed to execute setCustomAttribute.\\nNon-null value must be a string or number type, but a type of <\".concat(typeof t,\"> was provided.\"))}else(0,f.Z)(\"Failed to execute setCustomAttribute.\\nName must be a string type, but a type of <\".concat(typeof e,\"> was provided.\"))},g.setUserId=function(e){if(\"string\"==typeof e||null===e)return b(\"enduser.id\",e,\"setUserId\",!0);(0,f.Z)(\"Failed to execute setUserId.\\nNon-null value must be a string type, but a type of <\".concat(typeof e,\"> was provided.\"))},g.interaction=function(){return(new w).get()};var y=w.prototype={createTracer:function(e,t){var n={},i=this,a=\"function\"==typeof t;return(0,o.p)(m+\"tracer\",[(0,s.z)(),e,n],i,r.D.spa,h),function(){if(v.emit((a?\"\":\"no-\")+\"fn-start\",[(0,s.z)(),i,a],n),a)try{return t.apply(this,arguments)}catch(e){throw v.emit(\"fn-err\",[arguments,this,\"string\"==typeof e?new Error(e):e],n),e}finally{v.emit(\"fn-end\",[(0,s.z)()],n)}}}};function A(e,t,n,i){return function(){return(0,o.p)(l.xS,[\"API/\"+t+\"/called\"],void 0,r.D.metrics,h),i&&(0,o.p)(e+t,[(0,s.z)(),...arguments],n?null:this,i,h),n?void 0:this}}function x(){n.e(439).then(n.bind(n,5692)).then((t=>{let{setAPI:n}=t;n(e),(0,c.L)(e,\"api\")})).catch((()=>(0,f.Z)(\"Downloading runtime APIs failed...\")))}return[\"actionText\",\"setName\",\"setAttribute\",\"save\",\"ignore\",\"onEnd\",\"getContext\",\"end\",\"get\"].forEach((e=>{y[e]=A(m,e,void 0,r.D.spa)})),g.noticeError=function(e,t){\"string\"==typeof e&&(e=new Error(e)),(0,o.p)(l.xS,[\"API/noticeError/called\"],void 0,r.D.metrics,h),(0,o.p)(\"err\",[e,(0,s.z)(),!1,t],void 0,r.D.jserrors,h)},d.v6?x():(0,u.b)((()=>x()),!0),g}(e,w);return(0,g.Qy)(e,E,\"api\"),(0,g.Qy)(e,j,\"exposed\"),(0,g.EZ)(\"activatedFeatures\",m),(0,g.EZ)(\"setToken\",(t=>function(e,t){var n=a.ee.get(t);e&&\"object\"==typeof e&&((0,v.D)(e,(function(e,t){if(!t)return(p[e]||[]).forEach((t=>{(0,o.p)(\"block-\"+e,[],void 0,t,n)}));m[e]||((0,o.p)(\"feat-\"+e,[],void 0,p[e],n),m[e]=!0)})),(0,c.L)(t,r.D.pageViewEvent))}(t,e))),E}},909:(e,t,n)=>{n.d(t,{Z:()=>i,q:()=>o});var r=n(2325);function i(e){switch(e){case r.D.ajax:return[r.D.jserrors];case r.D.sessionTrace:return[r.D.ajax,r.D.pageViewEvent];case r.D.pageViewTiming:return[r.D.pageViewEvent];default:return[]}}function o(e){return e===r.D.jserrors?[]:[\"auto\"]}},2325:(e,t,n)=>{n.d(t,{D:()=>r,p:()=>i});const r={ajax:\"ajax\",jserrors:\"jserrors\",metrics:\"metrics\",pageAction:\"page_action\",pageViewEvent:\"page_view_event\",pageViewTiming:\"page_view_timing\",sessionTrace:\"session_trace\",spa:\"spa\"},i={[r.pageViewEvent]:1,[r.pageViewTiming]:2,[r.metrics]:3,[r.jserrors]:4,[r.ajax]:5,[r.sessionTrace]:6,[r.pageAction]:7,[r.spa]:8}}},r={};function i(e){var t=r[e];if(void 0!==t)return t.exports;var o=r[e]={exports:{}};return n[e](o,o.exports,i),o.exports}i.m=n,i.n=e=>{var t=e&&e.__esModule?()=>e.default:()=>e;return i.d(t,{a:t}),t},i.d=(e,t)=>{for(var n in t)i.o(t,n)&&!i.o(e,n)&&Object.defineProperty(e,n,{enumerable:!0,get:t[n]})},i.f={},i.e=e=>Promise.all(Object.keys(i.f).reduce(((t,n)=>(i.f[n](e,t),t)),[])),i.u=e=>(({78:\"page_action-aggregate\",147:\"metrics-aggregate\",193:\"session_trace-aggregate\",242:\"session-manager\",317:\"jserrors-aggregate\",348:\"page_view_timing-aggregate\",439:\"async-api\",729:\"lazy-loader\",786:\"page_view_event-aggregate\",873:\"spa-aggregate\",898:\"ajax-aggregate\"}[e]||e)+\".\"+{78:\"64dc4751\",147:\"c2ad263a\",193:\"c0ef217a\",242:\"2a8d47d1\",317:\"017d6ea4\",348:\"ddd91465\",439:\"ad3273bd\",729:\"c8cd494b\",786:\"5a238c1f\",873:\"342172b1\",875:\"2c240adb\",898:\"666f66ea\"}[e]+\"-1.232.0.min.js\"),i.o=(e,t)=>Object.prototype.hasOwnProperty.call(e,t),e={},t=\"NRBA:\",i.l=(n,r,o,a)=>{if(e[n])e[n].push(r);else{var s,c;if(void 0!==o)for(var u=document.getElementsByTagName(\"script\"),d=0;d<u.length;d++){var f=u[d];if(f.getAttribute(\"src\")==n||f.getAttribute(\"data-webpack\")==t+o){s=f;break}}s||(c=!0,(s=document.createElement(\"script\")).charset=\"utf-8\",s.timeout=120,i.nc&&s.setAttribute(\"nonce\",i.nc),s.setAttribute(\"data-webpack\",t+o),s.src=n),e[n]=[r];var l=(t,r)=>{s.onerror=s.onload=null,clearTimeout(g);var i=e[n];if(delete e[n],s.parentNode&&s.parentNode.removeChild(s),i&&i.forEach((e=>e(r))),t)return t(r)},g=setTimeout(l.bind(null,void 0,{type:\"timeout\",target:s}),12e4);s.onerror=l.bind(null,s.onerror),s.onload=l.bind(null,s.onload),c&&document.head.appendChild(s)}},i.r=e=>{\"undefined\"!=typeof Symbol&&Symbol.toStringTag&&Object.defineProperty(e,Symbol.toStringTag,{value:\"Module\"}),Object.defineProperty(e,\"__esModule\",{value:!0})},i.j=71,i.p=\"https://js-agent.newrelic.com/\",(()=>{var e={71:0,131:0};i.f.j=(t,n)=>{var r=i.o(e,t)?e[t]:void 0;if(0!==r)if(r)n.push(r[2]);else{var o=new Promise(((n,i)=>r=e[t]=[n,i]));n.push(r[2]=o);var a=i.p+i.u(t),s=new Error;i.l(a,(n=>{if(i.o(e,t)&&(0!==(r=e[t])&&(e[t]=void 0),r)){var o=n&&(\"load\"===n.type?\"missing\":n.type),a=n&&n.target&&n.target.src;s.message=\"Loading chunk \"+t+\" failed.\\n(\"+o+\": \"+a+\")\",s.name=\"ChunkLoadError\",s.type=o,s.request=a,r[1](s)}}),\"chunk-\"+t,t)}};var t=(t,n)=>{var r,o,[a,s,c]=n,u=0;if(a.some((t=>0!==e[t]))){for(r in s)i.o(s,r)&&(i.m[r]=s[r]);if(c)c(i)}for(t&&t(n);u<a.length;u++)o=a[u],i.o(e,o)&&e[o]&&e[o][0](),e[o]=0},n=window.webpackChunkNRBA=window.webpackChunkNRBA||[];n.forEach(t.bind(null,0)),n.push=t.bind(null,n.push.bind(n))})();var o={};(()=>{i.r(o);var e=i(2325),t=i(2919);const n=Object.values(e.D);function r(e){const r={};return n.forEach((n=>{r[n]=function(e,n){return!1!==(0,t.Mt)(n,\"\".concat(e,\".enabled\"))}(n,e)})),r}var a=i(2384),s=i(909),c=i(9252),u=i(8768),d=i(4329),f=i(1509),l=i(2650),g=i(2374),h=i(8610);class v extends f.W{constructor(e,t,n){let r=!(arguments.length>3&&void 0!==arguments[3])||arguments[3];super(e,t,n),this.hasAggregator=!1,this.auto=r,this.abortHandler,r&&(0,d.R)(e,n)}importAggregator(){if(this.hasAggregator||!this.auto)return;this.hasAggregator=!0;const e=async()=>{try{const{setupAgentSession:e}=await i.e(242).then(i.bind(i,2011));e(this.agentIdentifier);const{lazyLoader:t}=await i.e(729).then(i.bind(i,8110)),{Aggregate:n}=await t(this.featureName,\"aggregate\");new n(this.agentIdentifier,this.aggregator)}catch(e){(0,h.Z)(\"Downloading \".concat(this.featureName,\" failed...\"),e),this.abortHandler?.()}};g.v6?e():(0,l.b)((()=>e()),!0)}}var p=i(2484),m=i(2053);class b extends v{static featureName=p.t9;constructor(n,r){let i=!(arguments.length>2&&void 0!==arguments[2])||arguments[2];if(super(n,r,p.t9,i),(\"undefined\"==typeof PerformanceNavigationTiming||u.T)&&\"undefined\"!=typeof PerformanceTiming){const r=(0,t.OP)(n);r[p.Dz]=Math.max(Date.now()-r.offset,0),(0,l.K)((()=>r[p.qw]=Math.max((0,m.z)()-r[p.Dz],0))),(0,l.b)((()=>{const t=(0,m.z)();r[p.OJ]=Math.max(t-r[p.Dz],0),(0,c.p)(\"timing\",[\"load\",t],void 0,e.D.pageViewTiming,this.ee)}))}this.importAggregator()}}var w=i(9557),y=i(7022);class A extends w.w{constructor(e){super(e),this.aggregatedData={}}store(e,t,n,r,i){var o=this.getBucket(e,t,n,i);return o.metrics=function(e,t){t||(t={count:0});return t.count+=1,(0,y.D)(e,(function(e,n){t[e]=x(n,t[e])})),t}(r,o.metrics),o}merge(e,t,n,r,i){var o=this.getBucket(e,t,r,i);if(o.metrics){var a=o.metrics;a.count+=n.count,(0,y.D)(n,(function(e,t){if(\"count\"!==e){var r=a[e],i=n[e];i&&!i.c?a[e]=x(i.t,r):a[e]=function(e,t){if(!t)return e;t.c||(t=_(t.t));return t.min=Math.min(e.min,t.min),t.max=Math.max(e.max,t.max),t.t+=e.t,t.sos+=e.sos,t.c+=e.c,t}(i,a[e])}}))}else o.metrics=n}storeMetric(e,t,n,r){var i=this.getBucket(e,t,n);return i.stats=x(r,i.stats),i}getBucket(e,t,n,r){this.aggregatedData[e]||(this.aggregatedData[e]={});var i=this.aggregatedData[e][t];return i||(i=this.aggregatedData[e][t]={params:n||{}},r&&(i.custom=r)),i}get(e,t){return t?this.aggregatedData[e]&&this.aggregatedData[e][t]:this.aggregatedData[e]}take(e){for(var t={},n=\"\",r=!1,i=0;i<e.length;i++)t[n=e[i]]=j(this.aggregatedData[n]),t[n].length&&(r=!0),delete this.aggregatedData[n];return r?t:null}}function x(e,t){return null==e?function(e){e?e.c++:e={c:1};return e}(t):t?(t.c||(t=_(t.t)),t.c+=1,t.t+=e,t.sos+=e*e,e>t.max&&(t.max=e),e<t.min&&(t.min=e),t):{t:e}}function _(e){return{t:e,min:e,max:e,sos:e*e,c:1}}function j(e){return\"object\"!=typeof e?[]:(0,y.D)(e,D)}function D(e,t){return t}var E=i(6797),k=i(5526),S=i(2438);var T=i(6998),P=i(8544),N=i(6382);class I extends v{static featureName=N.t;constructor(e,n){let r=!(arguments.length>2&&void 0!==arguments[2])||arguments[2];super(e,n,N.t,r),g.il&&((0,t.OP)(e).initHidden=Boolean(\"hidden\"===document.visibilityState),(0,T.N)((()=>(0,c.p)(\"docHidden\",[(0,m.z)()],void 0,N.t,this.ee)),!0),(0,P.bP)(\"pagehide\",(()=>(0,c.p)(\"winPagehide\",[(0,m.z)()],void 0,N.t,this.ee))),this.importAggregator())}}const C=Boolean(g._A?.Worker),O=Boolean(g._A?.SharedWorker),R=Boolean(g._A?.navigator?.serviceWorker);let M,B,z;var q=i(6034);class W extends v{static featureName=q.t9;constructor(t,n){let r=!(arguments.length>2&&void 0!==arguments[2])||arguments[2];super(t,n,q.t9,r),function(e){if(!M){if(C){M=Worker;try{g._A.Worker=n(M,\"Dedicated\")}catch(e){o(e,\"Dedicated\")}if(O){B=SharedWorker;try{g._A.SharedWorker=n(B,\"Shared\")}catch(e){o(e,\"Shared\")}}else r(\"Shared\");if(R){z=navigator.serviceWorker.register;try{g._A.navigator.serviceWorker.register=(t=z,function(){for(var e=arguments.length,n=new Array(e),r=0;r<e;r++)n[r]=arguments[r];return i(\"Service\",n[1]?.type),t.apply(navigator.serviceWorker,n)})}catch(e){o(e,\"Service\")}}else r(\"Service\");var t;return}r(\"All\")}function n(e,t){return\"undefined\"==typeof Proxy?e:new Proxy(e,{construct:(e,n)=>(i(t,n[1]?.type),new e(...n))})}function r(t){g.v6||e(\"Workers/\".concat(t,\"/Unavailable\"))}function i(t,n){e(\"Workers/\".concat(t,\"module\"===n?\"/Module\":\"/Classic\"))}function o(t,n){e(\"Workers/\".concat(n,\"/SM/Unsupported\")),(0,h.Z)(\"NR Agent: Unable to capture \".concat(n,\" workers.\"),t)}}((t=>(0,c.p)(q.xS,[t],void 0,e.D.metrics,this.ee))),this.importAggregator()}}new class{constructor(e){let t=arguments.length>1&&void 0!==arguments[1]?arguments[1]:(0,k.ky)(16);this.agentIdentifier=t,this.sharedAggregator=new A({agentIdentifier:this.agentIdentifier}),this.features={},this.desiredFeatures=new Set(e.features||[]),this.desiredFeatures.add(b),Object.assign(this,(0,a.j)(this.agentIdentifier,e,e.loaderType||\"agent\")),this.start()}get config(){return{info:(0,t.C5)(this.agentIdentifier),init:(0,t.P_)(this.agentIdentifier),loader_config:(0,t.DL)(this.agentIdentifier),runtime:(0,t.OP)(this.agentIdentifier)}}start(){const t=\"features\";try{const n=r(this.agentIdentifier),i=Array.from(this.desiredFeatures);i.sort(((t,n)=>e.p[t.featureName]-e.p[n.featureName])),i.forEach((t=>{if(n[t.featureName]||t.featureName===e.D.pageViewEvent){const e=(0,s.Z)(t.featureName);e.every((e=>n[e]))||(0,h.Z)(\"\".concat(t.featureName,\" is enabled but one or more dependent features has been disabled (\").concat((0,S.P)(e),\"). This may cause unintended consequences or missing data...\")),this.features[t.featureName]=new t(this.agentIdentifier,this.sharedAggregator)}})),(0,E.Qy)(this.agentIdentifier,this.features,t)}catch(e){(0,h.Z)(\"Failed to initialize all enabled instrument classes (agent aborted) -\",e);for(const e in this.features)this.features[e].abortHandler?.();const n=(0,E.fP)();return delete n.initializedAgents[this.agentIdentifier]?.api,delete n.initializedAgents[this.agentIdentifier]?.[t],delete this.sharedAggregator,n.ee?.abort(),delete n.ee?.get(this.agentIdentifier),!1}}}({features:[b,I,W],loaderType:\"lite\"})})(),window.NRBA=o})();</script>\n",
      "<script>window.dataLayer = window.dataLayer || []; window.dataLayer.push({\"entityLanguage\":\"en\",\"entityCountry\":\"US\",\"siteName\":\"Internal Revenue Service\",\"entityLangcode\":\"en\",\"entityVid\":\"2679361\",\"entityCreated\":\"1472616000\",\"entityStatus\":\"1\",\"entityType\":\"node\",\"entityBundle\":\"pup_article\",\"entityId\":\"102\",\"entityTitle\":\"SOI Tax Stats - Individual Income Tax Statistics - ZIP Code Data (SOI)\",\"primaryCategory\":\"statistics\",\"subCategory1\":\"soi-tax-stats-individual-income-tax-statistics-zip-code-data-soi\",\"Navigation\":{\"id\":\"28596\",\"label\":\"Data by Geographic Areas\",\"bundle\":\"pup_navigation\"},\"field_pup_ot_guid\":\"0673ceb5d0716310VgnVCM100000351f0a0aRCRD\",\"field_pup_ot_unique_id\":\"96947\",\"field_pup_ot_url\":\"https:\\/\\/www.irs.gov\\/uac\\/soi-tax-stats-individual-income-tax-statistics-zip-code-data-soi\",\"entityTaxonomy\":{\"pup_audience\":{\"6701\":\"Tax Professionals\"},\"pup_channels\":{\"6306\":\"Statistics\"},\"pup_guidance_type\":{\"26606\":\"Statistics of Income\"},\"pup_navigation\":{\"28596\":\"Data by Geographic Areas\"},\"pup_organization\":{\"14026\":\"RAS:S\"},\"pup_topic\":{\"7756\":\"Tax Statistics\"}},\"userUid\":0});</script>\n",
      "<link rel=\"canonical\" href=\"https://www.irs.gov/statistics/soi-tax-stats-individual-income-tax-statistics-zip-code-data-soi\" />\n",
      "<meta http-equiv=\"content-language\" content=\"en\" />\n",
      "<meta name=\"robots\" content=\"index, follow\" />\n",
      "<meta name=\"original-source\" content=\"https://www.irs.gov/uac/soi-tax-stats-individual-income-tax-statistics-zip-code-data-soi\" />\n",
      "<meta name=\"rights\" content=\"United States Internal Revenue Services\" />\n",
      "<meta name=\"description\" content=\"Individual Tax Statistics ZIP Code Data - SOI.\" />\n",
      "<meta name=\"abstract\" content=\"Individual Tax Statistics ZIP Code Data - SOI.\" />\n",
      "<meta property=\"og:image:url\" content=\"https://www.irs.gov/pub/image/logo_small.jpg\" />\n",
      "<meta property=\"og:image:type\" content=\"image/jpeg\" />\n",
      "<meta property=\"og:image:alt\" content=\"IRS logo\" />\n",
      "<meta name=\"twitter:card\" content=\"summary\" />\n",
      "<meta name=\"twitter:description\" content=\"Individual Income Tax ZIP Code Data\n",
      "\n",
      "ZIP Code data show selected income and tax items classified by State, ZIP Code, and size of adjusted gross income. Data are based on individual income tax returns filed with the IRS and are available for Tax Years 1998, 2001, and 2004 through 2020. The data include items, such as:\" />\n",
      "<meta name=\"twitter:title\" content=\"SOI Tax Stats - Individual Income Tax Statistics - ZIP Code Data (SOI) | Internal Revenue Service\" />\n",
      "<meta name=\"twitter:dnt\" content=\"on\" />\n",
      "<meta name=\"twitter:image:alt\" content=\"IRS logo\" />\n",
      "<meta name=\"twitter:image\" content=\"https://www.irs.gov/pub/image/logo_small.jpg\" />\n",
      "<meta name=\"Generator\" content=\"Drupal 9 (https://www.drupal.org)\" />\n",
      "<meta name=\"MobileOptimized\" content=\"width\" />\n",
      "<meta name=\"HandheldFriendly\" content=\"true\" />\n",
      "<meta name=\"viewport\" content=\"width=device-width, initial-scale=1.0\" />\n",
      "<script type=\"application/ld+json\">{\n",
      "    \"@context\": \"https://schema.org\",\n",
      "    \"@graph\": [\n",
      "        {\n",
      "            \"name\": \"SOI Tax Stats - Individual Income Tax Statistics - ZIP Code Data (SOI)\",\n",
      "            \"datePosted\": \"2016-08-31T00:00:00-0400\"\n",
      "        }\n",
      "    ]\n",
      "}</script>\n",
      "<meta name=\"audience\" content=\"NULL\" />\n",
      "<meta name=\"irsStandard-type\" content=\"NULL\" />\n",
      "<meta name=\"uniqueID\" content=\"102\" />\n",
      "<meta name=\"isHistorical\" content=\"no\" />\n",
      "<meta name=\"historical-date\" content=\"NULL\" />\n",
      "<meta name=\"changed\" content=\"1671120660\" />\n",
      "<meta name=\"topic\" content=\"NULL\" />\n",
      "<meta name=\"guidance\" content=\"NULL\" />\n",
      "<meta name=\"channel\" content=\"NULL\" />\n",
      "<meta name=\"organization\" content=\"NULL\" />\n",
      "<meta name=\"otID\" content=\"96947\" />\n",
      "<meta name=\"prod_SEID\" content=\"JRHLB\" />\n",
      "<link rel=\"icon\" href=\"/themes/custom/pup_base/favicon.ico\" type=\"image/vnd.microsoft.icon\" />\n",
      "<link rel=\"alternate\" hreflang=\"en\" href=\"https://www.irs.gov/statistics/soi-tax-stats-individual-income-tax-statistics-zip-code-data-soi\" />\n",
      "<script src=\"/pub/google_tag/gtm_container/google_tag.script.js?rv4scu\" defer></script>\n",
      "<script>window.a2a_config=window.a2a_config||{};a2a_config.callbacks=[];a2a_config.overlays=[];a2a_config.templates={};</script>\n",
      "\n",
      "    <title>SOI Tax Stats - Individual Income Tax Statistics - ZIP Code Data (SOI) | Internal Revenue Service</title>\n",
      "    <link rel=\"stylesheet\" media=\"all\" href=\"/pub/css/css_SAeWtPlbOZJ79_D_rWg-SFSuuEyGWW0niwO6ftlU4YQ.css\" />\n",
      "<link rel=\"stylesheet\" media=\"all\" href=\"/pub/css/css_aSrQriLwkXCEbxc2T695F6rNjbwEusxP9HhCLUUsGKE.css\" />\n",
      "<link rel=\"stylesheet\" media=\"screen\" href=\"/pub/css/css_DcoweyAYuMoA29whsp8WH-9ibwtLfQ2s1U7sjCY7qbI.css\" />\n",
      "<link rel=\"stylesheet\" media=\"print\" href=\"/pub/css/css_RG_kLfRq3GwROtMk1r48PfjHnNw6kjdv2M-XN9ltGgI.css\" />\n",
      "\n",
      "    <script src=\"/pub/js/js_VtkcjFQQkl8LUjLRngI5dzVyEzEkDSA1slWICvqqaXw.js\"></script>\n",
      "\n",
      "  \n",
      "<script>(window.BOOMR_mq=window.BOOMR_mq||[]).push([\"addVar\",{\"rua.upush\":\"false\",\"rua.cpush\":\"false\",\"rua.upre\":\"false\",\"rua.cpre\":\"false\",\"rua.uprl\":\"false\",\"rua.cprl\":\"false\",\"rua.cprf\":\"false\",\"rua.trans\":\"\",\"rua.cook\":\"false\",\"rua.ims\":\"false\",\"rua.ufprl\":\"false\",\"rua.cfprl\":\"false\",\"rua.isuxp\":\"false\",\"rua.texp\":\"norulematch\"}]);</script>\n",
      "                              <script>!function(a){var e=\"https://s.go-mpulse.net/boomerang/\",t=\"addEventListener\";if(\"False\"==\"True\")a.BOOMR_config=a.BOOMR_config||{},a.BOOMR_config.PageParams=a.BOOMR_config.PageParams||{},a.BOOMR_config.PageParams.pci=!0,e=\"https://s2.go-mpulse.net/boomerang/\";if(window.BOOMR_API_key=\"YVPKX-K5D8K-83D3W-U8X45-X3FTN\",function(){function n(e){a.BOOMR_onload=e&&e.timeStamp||(new Date).getTime()}if(!a.BOOMR||!a.BOOMR.version&&!a.BOOMR.snippetExecuted){a.BOOMR=a.BOOMR||{},a.BOOMR.snippetExecuted=!0;var i,_,o,r=document.createElement(\"iframe\");if(a[t])a[t](\"load\",n,!1);else if(a.attachEvent)a.attachEvent(\"onload\",n);r.src=\"javascript:void(0)\",r.title=\"\",r.role=\"presentation\",(r.frameElement||r).style.cssText=\"width:0;height:0;border:0;display:none;\",o=document.getElementsByTagName(\"script\")[0],o.parentNode.insertBefore(r,o);try{_=r.contentWindow.document}catch(O){i=document.domain,r.src=\"javascript:var d=document.open();d.domain='\"+i+\"';void(0);\",_=r.contentWindow.document}_.open()._l=function(){var a=this.createElement(\"script\");if(i)this.domain=i;a.id=\"boomr-if-as\",a.src=e+\"YVPKX-K5D8K-83D3W-U8X45-X3FTN\",BOOMR_lstart=(new Date).getTime(),this.body.appendChild(a)},_.write(\"<bo\"+'dy onload=\"document._l();\">'),_.close()}}(),\"\".length>0)if(a&&\"performance\"in a&&a.performance&&\"function\"==typeof a.performance.setResourceTimingBufferSize)a.performance.setResourceTimingBufferSize();!function(){if(BOOMR=a.BOOMR||{},BOOMR.plugins=BOOMR.plugins||{},!BOOMR.plugins.AK){var e=\"\"==\"true\"?1:0,t=\"\",n=\"epwgzeqxjmv2azdyxjjq-f-bdd55ee45-clientnsv4-s.akamaihd.net\",i=\"false\"==\"true\"?2:1,_={\"ak.v\":\"35\",\"ak.cp\":\"8675\",\"ak.ai\":parseInt(\"388528\",10),\"ak.ol\":\"0\",\"ak.cr\":1,\"ak.ipv\":4,\"ak.proto\":\"http/1.1\",\"ak.rid\":\"87f490f\",\"ak.r\":46590,\"ak.a2\":e,\"ak.m\":\"dscna\",\"ak.n\":\"essl\",\"ak.bpcip\":\"35.236.108.0\",\"ak.cport\":55070,\"ak.gh\":\"23.217.119.144\",\"ak.quicv\":\"\",\"ak.tlsv\":\"tls1.3\",\"ak.0rtt\":\"\",\"ak.csrc\":\"-\",\"ak.acc\":\"reno\",\"ak.t\":\"1685633619\",\"ak.ak\":\"hOBiQwZUYzCg5VSAfCLimQ==M3f5nWMep9T+ryPh2mmaOmM1wWYpGZavJ6tPo2U6uhd8asYxs6BZricHePAXqhN+wStGE/4Kf9wHhdNc2Q4v8gws3yx7MCyFuGN3q/U+F5GrcROJtdYebdnKrCYQRvZ9ao8JG8bsri1NnJbyK5FKwRFuuMMR/nMaHdRBbVacvgL90DOuVKDzJTbW4rWdNJEW765FoYuk693cxQXXNhZjAnh+KV1tnDsIQr8d8IOKiffSuexkKyHlXHTSs4CnY78JytZAeB21Mv0gZxOnMZ3Oga9lOvZFV56c4B3hnfnPX0LWmQO1npl43MsegOAtCxAtEUCb/1qIwehJ8unERPFQ3GR7i0gM6jeGSND+qdvxm14w5bdh3oozg+xq/TkkLN+LwmhxB31XiHzbinisnEdntuRS0Ca81qIfg8pveGylBjA=\",\"ak.pv\":\"176\",\"ak.dpoabenc\":\"\",\"ak.tf\":i};if(\"\"!==t)_[\"ak.ruds\"]=t;var o={i:!1,av:function(e){var t=\"http.initiator\";if(e&&(!e[t]||\"spa_hard\"===e[t]))_[\"ak.feo\"]=void 0!==a.aFeoApplied?1:0,BOOMR.addVar(_)},rv:function(){var a=[\"ak.bpcip\",\"ak.cport\",\"ak.cr\",\"ak.csrc\",\"ak.gh\",\"ak.ipv\",\"ak.m\",\"ak.n\",\"ak.ol\",\"ak.proto\",\"ak.quicv\",\"ak.tlsv\",\"ak.0rtt\",\"ak.r\",\"ak.acc\",\"ak.t\",\"ak.tf\"];BOOMR.removeVar(a)}};BOOMR.plugins.AK={akVars:_,akDNSPreFetchDomain:n,init:function(){if(!o.i){var a=BOOMR.subscribe;a(\"before_beacon\",o.av,null,null),a(\"onbeacon\",o.rv,null,null),o.i=!0}return this},is_complete:function(){return!0}}}}()}(window);</script></head>\n",
      "  <body class=\"path-node page-node-type-pup-article has-glyphicons\">\n",
      "    <a href=\"#main-content\" class=\"visually-hidden focusable skip-link\">\n",
      "      Skip to main content\n",
      "    </a>\n",
      "    <noscript aria-hidden=\"true\"><iframe src=\"https://www.googletagmanager.com/ns.html?id=GTM-KV978ZL\" height=\"0\" width=\"0\" style=\"display:none;visibility:hidden\"></iframe></noscript>\n",
      "    <div id='mobile-clickable-overlay' class='mobile-menu-overlay'></div>\n",
      "      <div class=\"dialog-off-canvas-main-canvas\" data-off-canvas-main-canvas>\n",
      "    \n",
      "\n",
      "\n",
      "<header id=\"navbar\" role=\"banner\">\n",
      "\n",
      "  \n",
      "  \n",
      "          \n",
      "    \n",
      "    \n",
      "          <div class=\"pup-header_official\">\n",
      "        <div class=\"container header-official-message\">\n",
      "          <div class=\"inline-official\">\n",
      "            <div class=\"official-site-flag\">\n",
      "            </div>\n",
      "              <div class=\"region region-header-official\">\n",
      "    \n",
      "\n",
      " \n",
      "\n",
      "<section id=\"block-governmentbanner\" data-block-plugin-id=\"block_content:2d0fd18b-5f78-424d-a8b7-dfb90febb231\" class=\"block block-block-content block-block-content2d0fd18b-5f78-424d-a8b7-dfb90febb231 clearfix\">\n",
      "  \n",
      "    \n",
      "\n",
      "      \n",
      "            <div class=\"field field--name-body field--type-text-with-summary field--label-hidden field--item\"><p>An official website of the United States Government</p>\n",
      "</div>\n",
      "      \n",
      "  </section>\n",
      "\n",
      "\n",
      "  </div>\n",
      "\n",
      "          </div>\n",
      "        </div>\n",
      "      </div>\n",
      "    \n",
      "    <div class=\"pup-header-main\">\n",
      "      <div class=\"container\">\n",
      "        <div class=\"row pup-header-main__content\">\n",
      "          \n",
      "                                        \n",
      "                                        <div class=\"col-xs-2 no-gutter pup-header-content-lt\">\n",
      "                    <div class=\"region region-header-left\">\n",
      "                <a class=\"logo navbar-btn pull-left\" href=\"/\" title=\"Home\" rel=\"home\">\n",
      "            <img src=\"/pub/image/IRS-Logo.svg\" alt=\"Home\" />\n",
      "            <img class=\"print-logo\" src=\"/themes/custom/pup_irs/images/logo-print.svg\" alt=\"Home\" />\n",
      "        </a>\n",
      "            \n",
      "  </div>\n",
      "\n",
      "                </div>\n",
      "              \n",
      "              \n",
      "              <div class=\"col-sm-10 hidden-xs hidden-sm pup-header-content-rt\">\n",
      "                  <div class=\"region region-header-right\">\n",
      "    <section class=\"language-switcher-language-url block block-language block-language-blocklanguage-interface clearfix\" id=\"block-languageswitcher\" role=\"navigation\" data-block-plugin-id=\"language_block:language_interface\">\n",
      "  \n",
      "    \n",
      "\n",
      "        <div class=\"dropdown pup-switch-hidden\">\n",
      "    <button class=\"btn btn-default dropdown-toggle\" type=\"button\" id=\"languageSwitcher\" data-toggle=\"dropdown\" aria-label=\"Press enter to activate the menu, then navigate with the tab key.\" aria-expanded=\"false\">\n",
      "      English\n",
      "      <i class=\"fa fa-chevron-down\"></i>\n",
      "    </button>\n",
      "    <ul class=\"dropdown-menu\" block=\"languageswitcher\" aria-labelledby=\"languageSwitcher\"><li hreflang=\"es\" data-drupal-link-system-path=\"node/102\" class=\"es\"><a href=\"/es/statistics/soi-tax-stats-individual-income-tax-statistics-zip-code-data-soi\" class=\"language-link\" lang=\"es\" hreflang=\"es\" data-drupal-link-system-path=\"node/102\">Español</a></li><li hreflang=\"zh-hans\" data-drupal-link-system-path=\"node/102\" class=\"zh-hans\"><a href=\"/zh-hans/statistics/soi-tax-stats-individual-income-tax-statistics-zip-code-data-soi\" class=\"language-link\" lang=\"zh-hans\" hreflang=\"zh-hans\" data-drupal-link-system-path=\"node/102\">中文 (简体)</a></li><li hreflang=\"zh-hant\" data-drupal-link-system-path=\"node/102\" class=\"zh-hant\"><a href=\"/zh-hant/statistics/soi-tax-stats-individual-income-tax-statistics-zip-code-data-soi\" class=\"language-link\" lang=\"zh-hant\" hreflang=\"zh-hant\" data-drupal-link-system-path=\"node/102\">中文 (繁體)</a></li><li hreflang=\"ko\" data-drupal-link-system-path=\"node/102\" class=\"ko\"><a href=\"/ko/statistics/soi-tax-stats-individual-income-tax-statistics-zip-code-data-soi\" class=\"language-link\" lang=\"ko\" hreflang=\"ko\" data-drupal-link-system-path=\"node/102\">한국어</a></li><li hreflang=\"ru\" data-drupal-link-system-path=\"node/102\" class=\"ru\"><a href=\"/ru/statistics/soi-tax-stats-individual-income-tax-statistics-zip-code-data-soi\" class=\"language-link\" lang=\"ru\" hreflang=\"ru\" data-drupal-link-system-path=\"node/102\">Русский</a></li><li hreflang=\"vi\" data-drupal-link-system-path=\"node/102\" class=\"vi\"><a href=\"/vi/statistics/soi-tax-stats-individual-income-tax-statistics-zip-code-data-soi\" class=\"language-link\" lang=\"vi\" hreflang=\"vi\" data-drupal-link-system-path=\"node/102\">Tiếng Việt</a></li><li hreflang=\"ht\" data-drupal-link-system-path=\"node/102\" class=\"ht\"><a href=\"/ht/statistics/soi-tax-stats-individual-income-tax-statistics-zip-code-data-soi\" class=\"language-link\" lang=\"ht\" hreflang=\"ht\" data-drupal-link-system-path=\"node/102\">Kreyòl ayisyen</a></li></ul>\n",
      "    </div>\n",
      "\n",
      "  </section>\n",
      "\n",
      "<nav role=\"navigation\" aria-labelledby=\"block-pup-irs-informationmenu-2-menu\" id=\"block-pup-irs-informationmenu-2\" data-block-plugin-id=\"system_menu_block:pup-info-menu\" class=\"pup-nav-en\">\n",
      "            \n",
      "  <h2 class=\"visually-hidden\" id=\"block-pup-irs-informationmenu-2-menu\">Information Menu</h2>\n",
      "  \n",
      "\n",
      "        \n",
      "      <ul block=\"pup_irs_informationmenu_2\" class=\"menu menu--pup-info-menu nav\">\n",
      "                      <li class=\"first\">\n",
      "                                        <a href=\"/help/telephone-assistance\" title=\"Help\" data-drupal-link-system-path=\"node/16916\">Help</a>\n",
      "              </li>\n",
      "                      <li>\n",
      "                                        <a href=\"/newsroom\" title=\"News\" data-drupal-link-system-path=\"node/19646\">News</a>\n",
      "              </li>\n",
      "                      <li>\n",
      "                                        <a href=\"/charities-and-nonprofits\" data-drupal-link-system-path=\"node/58461\">Charities &amp; Nonprofits</a>\n",
      "              </li>\n",
      "                      <li class=\"last\">\n",
      "                                        <a href=\"/tax-professionals\" data-drupal-link-system-path=\"node/11\">Tax Pros</a>\n",
      "              </li>\n",
      "        </ul>\n",
      "  \n",
      "\n",
      "  </nav>\n",
      "\n",
      "  </div>\n",
      "\n",
      "              </div>\n",
      "              \n",
      "                            <div class=\"col-xs-10 hidden-md hidden-lg no-gutter\">\n",
      "                <ul class=\"pup-header-mobile-menu pull-right\">\n",
      "                  <li id=\"pup-mobile-navbar-searchBtn\" class=\"pup-header-mobile-menu__searchBtn\" data-target=\"#navbar-collapse\">\n",
      "                    Search\n",
      "                    <span class=\"sr-only\">Toggle search</span>\n",
      "                                          <div id=\"navbar-collapse\"  class=\"pup-header-content-rt col-xs-12 hidden-md hidden-lg collapse no-gutter\">\n",
      "                          <div class=\"region region-search-form-collapsible\">\n",
      "      <div class=\"pup-site-header-search-block pup-search-box-hidden\">\n",
      "            <div class=\"pup-site-header-search-block__searchfield\">\n",
      "        <form block=\"exposedformpup_site_index_searchsite_search_srt_relevance_4\" action=\"/site-index-search\" method=\"get\" id=\"views-exposed-form-pup-site-index-search-site-search-srt-relevance\" accept-charset=\"UTF-8\" novalidate>\n",
      "  <div class=\"form--inline form-inline clearfix\">\n",
      "  \n",
      "\n",
      "\n",
      "\n",
      "\n",
      "\n",
      "\n",
      "\n",
      "\n",
      "<div class=\"form-item form-group js-form-item form-type-textfield js-form-type-textfield form-item-search js-form-item-search\">\n",
      "\n",
      "\n",
      "    \n",
      "    \n",
      "            <label for=\"search-main-mobile\" class=\"control-label\">Search</label>\n",
      "    \n",
      "    <input placeholder=\"Search\" aria-label=\"Search\" data-drupal-selector=\"edit-search\" class=\"form-text form-control\" type=\"text\" id=\"search-main-mobile\" name=\"search\" value=\"\" size=\"30\" maxlength=\"128\" />\n",
      "\n",
      "    \n",
      "\n",
      "</div>\n",
      "\n",
      "\n",
      "\n",
      "\n",
      "\n",
      "\n",
      "\n",
      "\n",
      "\n",
      "<div class=\"form-item form-group js-form-item form-type-select js-form-type-select form-item-field-pup-historical-1 js-form-item-field-pup-historical-1\">\n",
      "\n",
      "\n",
      "    \n",
      "    \n",
      "            <label for=\"edit-field-pup-historical-1--2\" class=\"control-label\">Include Historical Content</label>\n",
      "    \n",
      "    <div class=\"select-style select-wrapper\"><select data-drupal-selector=\"edit-field-pup-historical-1\" class=\"form-select form-control\" id=\"edit-field-pup-historical-1--2\" name=\"field_pup_historical_1\"><option value=\"All\">- Any -</option><option value=\"1\" selected=\"selected\">No</option></select></div>\n",
      "\n",
      "    \n",
      "\n",
      "</div>\n",
      "\n",
      "\n",
      "\n",
      "\n",
      "\n",
      "\n",
      "\n",
      "\n",
      "\n",
      "<div class=\"form-item form-group js-form-item form-type-select js-form-type-select form-item-field-pup-historical js-form-item-field-pup-historical\">\n",
      "\n",
      "\n",
      "    \n",
      "    \n",
      "            <label for=\"edit-field-pup-historical--2\" class=\"control-label\">Include Historical Content</label>\n",
      "    \n",
      "    <div class=\"select-style select-wrapper\"><select data-drupal-selector=\"edit-field-pup-historical\" class=\"form-select form-control\" id=\"edit-field-pup-historical--2\" name=\"field_pup_historical\"><option value=\"All\">- Any -</option><option value=\"1\" selected=\"selected\">No</option></select></div>\n",
      "\n",
      "    \n",
      "\n",
      "</div>\n",
      "<div data-drupal-selector=\"edit-actions\" class=\"form-actions form-group js-form-wrapper form-wrapper\" id=\"edit-actions--2\"><button title=\"Search\" data-drupal-selector=\"edit-submit-pup-site-index-search-2\" class=\"button js-form-submit form-submit btn-primary btn icon-before\" type=\"submit\" id=\"edit-submit-pup-site-index-search--2\" value=\"Search\" name=\"\"><span class=\"icon glyphicon glyphicon-search\" aria-hidden=\"true\"></span>\n",
      "Search</button></div>\n",
      "\n",
      "</div>\n",
      "\n",
      "</form>\n",
      "\n",
      "      </div>\n",
      "      </div>\n",
      "\n",
      "  </div>\n",
      "\n",
      "                      </div>\n",
      "                                      </li>\n",
      "                                      <li id=\"pup-mobile-navbar-infoBtn\" class=\"pup-header-mobile-menu__infoBtn\">  <div class=\"region region-help-menu-mobile\">\n",
      "    <nav role=\"navigation\" aria-labelledby=\"block-helpmenumobile-menu\" id=\"block-helpmenumobile\" data-block-plugin-id=\"system_menu_block:help-menu-mobile\">\n",
      "            \n",
      "  <h2 class=\"visually-hidden\" id=\"block-helpmenumobile-menu\">Help Menu Mobile</h2>\n",
      "  \n",
      "\n",
      "        \n",
      "      <ul block=\"helpmenumobile\" class=\"menu menu--help-menu-mobile nav\">\n",
      "                      <li class=\"first last\">\n",
      "                                        <a href=\"/help/telephone-assistance\" data-drupal-link-system-path=\"node/16916\">Help</a>\n",
      "              </li>\n",
      "        </ul>\n",
      "  \n",
      "\n",
      "  </nav>\n",
      "\n",
      "  </div>\n",
      "</li>\n",
      "                                    <li id=\"pup-mobile-navbar-menuBtn\" class=\"pup-header-mobile-menu__menuBtn mobile-menu-icon\" data-target=\"#pup-header-nav-collapse\">\n",
      "                    Menu\n",
      "                    <span class=\"sr-only\">Toggle menu</span>\n",
      "                  </li>\n",
      "                </ul>\n",
      "              </div>\n",
      "          \n",
      "\n",
      "        </div>       </div>\n",
      "    </div> \n",
      "          <div class=\"header-nav hidden-xs hidden-sm\">\n",
      "          <div class=\"container-fluid\">\n",
      "              <div class=\"region region-site-navigation\">\n",
      "    <nav role=\"navigation\" aria-labelledby=\"block-mainnavigationmobile-2-menu\" id=\"block-mainnavigationmobile-2\" data-block-plugin-id=\"system_menu_block:main_mobile\">\n",
      "            \n",
      "  <h2 class=\"visually-hidden\" id=\"block-mainnavigationmobile-2-menu\">Main navigation mobile</h2>\n",
      "  \n",
      "\n",
      "        \n",
      "\n",
      "              <ul block=\"mainnavigationmobile_2\" class=\"menu nav\" id=\"accessible-megamenu-navigation\">\n",
      "        <a id=\"stickyNavLogo\" class=\"logo navbar-btn pull-left\" href=\"/\" title=\"Home\" rel=\"home\">\n",
      "          <img src=\"/themes/custom/pup_base/IRS-Logo.svg\" alt=\"Home\">\n",
      "          <img class=\"print-logo accessible-megamenu-panel\" src=\"/themes/custom/pup_irs/images/logo-print.svg\" alt=\"Home\" role=\"region\" aria-expanded=\"false\" aria-hidden=\"true\">\n",
      "        </a>\n",
      "                                                                <li class=\"expanded megamenu-top-nav-item dropdown\">\t\n",
      "          <a href=\"/filing\" aria-controls=\"accessible-megamenu-file-submenu\" aria-expanded=\"false\" aria-label=\"File menu has additional options. Use the spacebar to open the File sub menu or enter to navigate to the File page.\" role=\"application\" id=\"accessible-megamenu-nav-item-0\">File</a>\n",
      "                                        <ul block=\"mainnavigationmobile_2\" class=\"menu dropdown-menu\" id=\"accessible-megamenu-file-submenu\" aria-expanded=\"false\" aria-hidden=\"true\" aria-labeledby=\"accessible-megamenu-nav-item-0\" role=\"region\">\n",
      "       <div class=\"mega-menu-container\">\n",
      "                                                                        <li><a href=\"/filing\" class=\"mobile-only-text\" id=\"accessible-megamenu-file-submenu-0\" data-drupal-link-system-path=\"node/19656\">Overview</a>\n",
      "                  </li>\n",
      "                                                                                <div class=\"mega-menu-column\">\n",
      "                                                    <li><span class=\"mega-menu-column-header\" id=\"accessible-megamenu-file-submenu-1\">INFORMATION FOR…</span>\n",
      "                  </li>\n",
      "                                                                      <li><a href=\"/individuals\" id=\"accessible-megamenu-file-submenu-2\" data-drupal-link-system-path=\"node/19456\">Individuals</a>\n",
      "                  </li>\n",
      "                                                                      <li><a href=\"/businesses\" id=\"accessible-megamenu-file-submenu-3\" data-drupal-link-system-path=\"node/18976\">Business & Self Employed</a>\n",
      "                  </li>\n",
      "                                                                      <li><a href=\"/charities-and-nonprofits\" id=\"accessible-megamenu-file-submenu-4\" data-drupal-link-system-path=\"node/58461\">Charities and Nonprofits</a>\n",
      "                  </li>\n",
      "                                                                      <li><a href=\"/individuals/international-taxpayers\" id=\"accessible-megamenu-file-submenu-5\" data-drupal-link-system-path=\"node/19696\">International Taxpayers</a>\n",
      "                  </li>\n",
      "                                                                      <li><a href=\"/government-entities/federal-state-local-governments\" id=\"accessible-megamenu-file-submenu-6\" data-drupal-link-system-path=\"node/19446\">Federal State and Local Governments</a>\n",
      "                  </li>\n",
      "                                                                      <li><a href=\"/government-entities/indian-tribal-governments\" id=\"accessible-megamenu-file-submenu-7\" data-drupal-link-system-path=\"node/19601\">Indian Tribal Governments</a>\n",
      "                  </li>\n",
      "                                                                      <li><a href=\"/tax-exempt-bonds\" id=\"accessible-megamenu-file-submenu-8\" data-drupal-link-system-path=\"node/19671\">Tax Exempt Bonds</a>\n",
      "                  </li>\n",
      "                                                          </div>\n",
      "                                                  <div class=\"mega-menu-column\">\n",
      "                                                    <li><span class=\"mega-menu-column-header\" id=\"accessible-megamenu-file-submenu-9\">FILING FOR INDIVIDUALS</span>\n",
      "                  </li>\n",
      "                                                                      <li><a href=\"/filing/individuals/who-should-file\" id=\"accessible-megamenu-file-submenu-10\" data-drupal-link-system-path=\"node/105206\">Who Should File</a>\n",
      "                  </li>\n",
      "                                                                      <li><a href=\"/filing/individuals/how-to-file\" id=\"accessible-megamenu-file-submenu-11\" data-drupal-link-system-path=\"node/22856\">How to File</a>\n",
      "                  </li>\n",
      "                                                                      <li><a href=\"/filing/individuals/when-to-file\" id=\"accessible-megamenu-file-submenu-12\" data-drupal-link-system-path=\"node/22726\">When to File</a>\n",
      "                  </li>\n",
      "                                                                      <li><a href=\"/filing/where-to-file-tax-returns-addresses-listed-by-return-type\" id=\"accessible-megamenu-file-submenu-13\" data-drupal-link-system-path=\"node/2442\">Where to File</a>\n",
      "                  </li>\n",
      "                                                                      <li><a href=\"/filing/individuals/update-my-information\" id=\"accessible-megamenu-file-submenu-14\" data-drupal-link-system-path=\"node/22861\">Update My Information</a>\n",
      "                  </li>\n",
      "                                                          </div>\n",
      "                                                  <div class=\"mega-menu-column\">\n",
      "                                                    <li><span class=\"mega-menu-column-header\" id=\"accessible-megamenu-file-submenu-15\">POPULAR</span>\n",
      "                  </li>\n",
      "                                                                      <li><a href=\"/individuals/get-transcript\" id=\"accessible-megamenu-file-submenu-16\" data-drupal-link-system-path=\"node/64256\">Get Your Tax Record</a>\n",
      "                  </li>\n",
      "                                                                      <li><a href=\"/businesses/small-businesses-self-employed/apply-for-an-employer-identification-number-ein-online\" id=\"accessible-megamenu-file-submenu-17\" data-drupal-link-system-path=\"node/17153\">Apply for an Employer ID Number (EIN)</a>\n",
      "                  </li>\n",
      "                                                                      <li><a href=\"/filing/wheres-my-amended-return\" id=\"accessible-megamenu-file-submenu-18\" data-drupal-link-system-path=\"node/17175\">Check Your Amended Return Status</a>\n",
      "                  </li>\n",
      "                                                                      <li><a href=\"/identity-theft-fraud-scams/get-an-identity-protection-pin\" id=\"accessible-megamenu-file-submenu-19\" data-drupal-link-system-path=\"node/16696\">Get an Identity Protection PIN (IP PIN)</a>\n",
      "                  </li>\n",
      "                                                                      <li><a href=\"/filing/free-file-do-your-federal-taxes-for-free\" id=\"accessible-megamenu-file-submenu-20\" data-drupal-link-system-path=\"node/54546\">File Your Taxes for Free</a>\n",
      "                  </li>\n",
      "                    </div>\n",
      "        </ul>\n",
      "  \n",
      "            </li>\n",
      "                                                              <li class=\"expanded megamenu-top-nav-item dropdown\">\t\n",
      "          <a href=\"/payments\" aria-controls=\"accessible-megamenu-pay-submenu\" aria-expanded=\"false\" aria-label=\"Pay menu has additional options. Use the spacebar to open the Pay sub menu or enter to navigate to the Pay page.\" role=\"application\" id=\"accessible-megamenu-nav-item-1\">Pay</a>\n",
      "                                        <ul block=\"mainnavigationmobile_2\" class=\"menu dropdown-menu\" id=\"accessible-megamenu-pay-submenu\" aria-expanded=\"false\" aria-hidden=\"true\" aria-labeledby=\"accessible-megamenu-nav-item-1\" role=\"region\">\n",
      "       <div class=\"mega-menu-container\">\n",
      "                                                                        <li><a href=\"/payments\" class=\"mobile-only-text\" id=\"accessible-megamenu-pay-submenu-0\" data-drupal-link-system-path=\"node/19551\">Overview</a>\n",
      "                  </li>\n",
      "                                                                                <div class=\"mega-menu-column\">\n",
      "                                                    <li><span class=\"mega-menu-column-header\" id=\"accessible-megamenu-pay-submenu-1\">PAY BY</span>\n",
      "                  </li>\n",
      "                                                                      <li><a href=\"/payments/direct-pay\" id=\"accessible-megamenu-pay-submenu-2\" data-drupal-link-system-path=\"node/10224\">Bank Account (Direct Pay)</a>\n",
      "                  </li>\n",
      "                                                                      <li><a href=\"/payments/pay-taxes-by-credit-or-debit-card\" id=\"accessible-megamenu-pay-submenu-3\" data-drupal-link-system-path=\"node/15583\">Debit or Credit Card</a>\n",
      "                  </li>\n",
      "                                                                      <li><a href=\"/payments/online-payment-agreement-application\" id=\"accessible-megamenu-pay-submenu-4\" data-drupal-link-system-path=\"node/16716\">Payment Plan (Installment Agreement)</a>\n",
      "                  </li>\n",
      "                                                                      <li><a href=\"/payments/eftps-the-electronic-federal-tax-payment-system\" id=\"accessible-megamenu-pay-submenu-5\" data-drupal-link-system-path=\"node/15488\">Electronic Federal Tax Payment System (EFTPS)</a>\n",
      "                  </li>\n",
      "                                                          </div>\n",
      "                                                  <div class=\"mega-menu-column\">\n",
      "                                                    <li><span class=\"mega-menu-column-header\" id=\"accessible-megamenu-pay-submenu-6\">POPULAR</span>\n",
      "                  </li>\n",
      "                                                                      <li><a href=\"/payments/your-online-account\" id=\"accessible-megamenu-pay-submenu-7\" data-drupal-link-system-path=\"node/11608\">Your Online Account</a>\n",
      "                  </li>\n",
      "                                                                      <li><a href=\"/individuals/tax-withholding-estimator\" id=\"accessible-megamenu-pay-submenu-8\" data-drupal-link-system-path=\"node/107181\">Tax Withholding Estimator</a>\n",
      "                  </li>\n",
      "                                                                      <li><a href=\"/businesses/small-businesses-self-employed/estimated-taxes\" id=\"accessible-megamenu-pay-submenu-9\" data-drupal-link-system-path=\"node/17135\">Estimated Taxes</a>\n",
      "                  </li>\n",
      "                                                                      <li><a href=\"/payments/penalties\" id=\"accessible-megamenu-pay-submenu-10\" data-drupal-link-system-path=\"node/91826\">Penalties</a>\n",
      "                  </li>\n",
      "                    </div>\n",
      "        </ul>\n",
      "  \n",
      "            </li>\n",
      "                                                              <li class=\"expanded megamenu-top-nav-item dropdown\">\t\n",
      "          <a href=\"/refunds\" aria-controls=\"accessible-megamenu-refunds-submenu\" aria-expanded=\"false\" aria-label=\"Refunds menu has additional options. Use the spacebar to open the Refunds sub menu or enter to navigate to the Refunds page.\" role=\"application\" id=\"accessible-megamenu-nav-item-2\">Refunds</a>\n",
      "                                        <ul block=\"mainnavigationmobile_2\" class=\"menu dropdown-menu\" id=\"accessible-megamenu-refunds-submenu\" aria-expanded=\"false\" aria-hidden=\"true\" aria-labeledby=\"accessible-megamenu-nav-item-2\" role=\"region\">\n",
      "       <div class=\"mega-menu-container\">\n",
      "                                                                        <li><a href=\"/refunds\" class=\"mobile-only-text\" id=\"accessible-megamenu-refunds-submenu-0\" data-drupal-link-system-path=\"node/19556\">Overview</a>\n",
      "                  </li>\n",
      "                                                                    <div class=\"mega-menu-column no-header-extra-padding\">\n",
      "                                                    <li><a href=\"https://sa.www4.irs.gov/irfof/lang/en/irfofgetstatus.jsp\" class=\"mega-menu-column-header\" id=\"accessible-megamenu-refunds-submenu-1\">Where's My Refund</a>\n",
      "                  </li>\n",
      "                                                                      <li><a href=\"/refunds/what-to-expect-for-refunds-this-year\" id=\"accessible-megamenu-refunds-submenu-2\" data-drupal-link-system-path=\"node/9503\">What to Expect</a>\n",
      "                  </li>\n",
      "                                                                      <li><a href=\"/refunds/get-your-refund-faster-tell-irs-to-direct-deposit-your-refund-to-one-two-or-three-accounts\" id=\"accessible-megamenu-refunds-submenu-3\" data-drupal-link-system-path=\"node/10971\">Direct Deposit</a>\n",
      "                  </li>\n",
      "                                                                      <li><a href=\"/taxtopics/tc203\" id=\"accessible-megamenu-refunds-submenu-4\" data-drupal-link-system-path=\"node/67936\">Reduced Refunds</a>\n",
      "                  </li>\n",
      "                                                                      <li><a href=\"/forms-pubs/about-form-1040x\" id=\"accessible-megamenu-refunds-submenu-5\" data-drupal-link-system-path=\"node/19996\">Fix/Correct a Return</a>\n",
      "                  </li>\n",
      "                    </div>\n",
      "        </ul>\n",
      "  \n",
      "            </li>\n",
      "                                                              <li class=\"expanded megamenu-top-nav-item dropdown\">\t\n",
      "          <a href=\"/credits-and-deductions\" aria-controls=\"accessible-megamenu-credits &amp; deductions-submenu\" aria-expanded=\"false\" aria-label=\"Credits &amp; Deductions menu has additional options. Use the spacebar to open the Credits &amp; Deductions sub menu or enter to navigate to the Credits &amp; Deductions page.\" role=\"application\" id=\"accessible-megamenu-nav-item-3\">Credits & Deductions</a>\n",
      "                                        <ul block=\"mainnavigationmobile_2\" class=\"menu dropdown-menu\" id=\"accessible-megamenu-credits &amp; deductions-submenu\" aria-expanded=\"false\" aria-hidden=\"true\" aria-labeledby=\"accessible-megamenu-nav-item-3\" role=\"region\">\n",
      "       <div class=\"mega-menu-container\">\n",
      "                                                                        <li><a href=\"/credits-and-deductions\" class=\"mobile-only-text\" id=\"accessible-megamenu-credits &amp; deductions-submenu-0\" data-drupal-link-system-path=\"node/80206\">Overview</a>\n",
      "                  </li>\n",
      "                                                                                <div class=\"mega-menu-column\">\n",
      "                                                    <li><span class=\"mega-menu-column-header\" id=\"accessible-megamenu-credits &amp; deductions-submenu-1\">INFORMATION FOR...</span>\n",
      "                  </li>\n",
      "                                                                      <li><a href=\"/credits-deductions-for-individuals\" title=\"For you and your family\" id=\"accessible-megamenu-credits &amp; deductions-submenu-2\" data-drupal-link-system-path=\"node/5\">Individuals</a>\n",
      "                  </li>\n",
      "              <li class=\"mega-menu-helper-text\">\n",
      "          <span class=\"desktop-only-text\">\n",
      "            For you and your family\n",
      "          </span>\n",
      "        </li>\n",
      "                                                                      <li><a href=\"/credits-deductions/businesses\" title=\"Standard mileage and other information\" id=\"accessible-megamenu-credits &amp; deductions-submenu-3\" data-drupal-link-system-path=\"node/19941\">Businesses & Self-Employed</a>\n",
      "                  </li>\n",
      "              <li class=\"mega-menu-helper-text\">\n",
      "          <span class=\"desktop-only-text\">\n",
      "            Standard mileage and other information\n",
      "          </span>\n",
      "        </li>\n",
      "                                                          </div>\n",
      "                                                  <div class=\"mega-menu-column\">\n",
      "                                                    <li><span class=\"mega-menu-column-header\" id=\"accessible-megamenu-credits &amp; deductions-submenu-4\">POPULAR</span>\n",
      "                  </li>\n",
      "                                                                      <li><a href=\"/credits-deductions/individuals/earned-income-tax-credit-eitc\" id=\"accessible-megamenu-credits &amp; deductions-submenu-5\" data-drupal-link-system-path=\"node/18966\">Earned Income Credit (EITC)</a>\n",
      "                  </li>\n",
      "                                                                      <li><a href=\"/credits-deductions/advance-child-tax-credit-payments-in-2021\" id=\"accessible-megamenu-credits &amp; deductions-submenu-6\" data-drupal-link-system-path=\"node/95076\">Advance Child Tax Credit</a>\n",
      "                  </li>\n",
      "                                                                      <li><a href=\"/help/ita/how-much-is-my-standard-deduction\" id=\"accessible-megamenu-credits &amp; deductions-submenu-7\" data-drupal-link-system-path=\"node/5229\">Standard Deduction</a>\n",
      "                  </li>\n",
      "                                                                      <li><a href=\"/credits-deductions/individuals/hctc\" id=\"accessible-megamenu-credits &amp; deductions-submenu-8\" data-drupal-link-system-path=\"node/17082\">Health Coverage</a>\n",
      "                  </li>\n",
      "                                                                      <li><a href=\"/retirement-plans\" id=\"accessible-megamenu-credits &amp; deductions-submenu-9\" data-drupal-link-system-path=\"node/19741\">Retirement Plans</a>\n",
      "                  </li>\n",
      "                    </div>\n",
      "        </ul>\n",
      "  \n",
      "            </li>\n",
      "                                                              <li class=\"expanded megamenu-top-nav-item dropdown\">\t\n",
      "          <a href=\"/forms-instructions\" aria-controls=\"accessible-megamenu-forms &amp; instructions-submenu\" aria-expanded=\"false\" aria-label=\"Forms &amp; Instructions menu has additional options. Use the spacebar to open the Forms &amp; Instructions sub menu or enter to navigate to the Forms &amp; Instructions page.\" role=\"application\" id=\"accessible-megamenu-nav-item-4\">Forms & Instructions</a>\n",
      "                                        <ul block=\"mainnavigationmobile_2\" class=\"menu dropdown-menu\" id=\"accessible-megamenu-forms &amp; instructions-submenu\" aria-expanded=\"false\" aria-hidden=\"true\" aria-labeledby=\"accessible-megamenu-nav-item-4\" role=\"region\">\n",
      "       <div class=\"mega-menu-container\">\n",
      "                                                                        <li><a href=\"/forms-instructions\" class=\"mobile-only-text\" id=\"accessible-megamenu-forms &amp; instructions-submenu-0\" data-drupal-link-system-path=\"node/6\">Overview</a>\n",
      "                  </li>\n",
      "                                                                                <div class=\"mega-menu-column\">\n",
      "                                                    <li><span class=\"mega-menu-column-header\" id=\"accessible-megamenu-forms &amp; instructions-submenu-1\">POPULAR FORMS & INSTRUCTIONS</span>\n",
      "                  </li>\n",
      "                                                                      <li><a href=\"/forms-pubs/about-form-1040\" title=\"Individual Tax Return\" id=\"accessible-megamenu-forms &amp; instructions-submenu-2\" data-drupal-link-system-path=\"node/16022\">Form 1040</a>\n",
      "                  </li>\n",
      "              <li class=\"mega-menu-helper-text\">\n",
      "          <span class=\"desktop-only-text\">\n",
      "            Individual Tax Return\n",
      "          </span>\n",
      "        </li>\n",
      "                                                                      <li><a href=\"/pub/irs-pdf/i1040gi.pdf\" title=\"Instructions for Form 1040 \" id=\"accessible-megamenu-forms &amp; instructions-submenu-3\">Form 1040 Instructions</a>\n",
      "                  </li>\n",
      "              <li class=\"mega-menu-helper-text\">\n",
      "          <span class=\"desktop-only-text\">\n",
      "            Instructions for Form 1040 \n",
      "          </span>\n",
      "        </li>\n",
      "                                                                      <li><a href=\"/forms-pubs/about-form-w-9\" title=\"Request for Taxpayer Identification Number (TIN) and Certification\" id=\"accessible-megamenu-forms &amp; instructions-submenu-4\" data-drupal-link-system-path=\"node/15825\">Form W-9</a>\n",
      "                  </li>\n",
      "              <li class=\"mega-menu-helper-text\">\n",
      "          <span class=\"desktop-only-text\">\n",
      "            Request for Taxpayer Identification Number (TIN) and Certification\n",
      "          </span>\n",
      "        </li>\n",
      "                                                                      <li><a href=\"/forms-pubs/about-form-4506-t\" title=\"Request for Transcript of Tax Return\" id=\"accessible-megamenu-forms &amp; instructions-submenu-5\" data-drupal-link-system-path=\"node/10554\">Form 4506-T</a>\n",
      "                  </li>\n",
      "              <li class=\"mega-menu-helper-text\">\n",
      "          <span class=\"desktop-only-text\">\n",
      "            Request for Transcript of Tax Return\n",
      "          </span>\n",
      "        </li>\n",
      "                                                          </div>\n",
      "                                      <div class=\"mega-menu-column extra-padding\">\n",
      "                                                    <li><a href=\"/forms-pubs/about-form-w-4\" class=\"mega-menu-column-header\" title=\"Employee&#039;s Withholding Certificate\" id=\"accessible-megamenu-forms &amp; instructions-submenu-6\" data-drupal-link-system-path=\"node/15498\">Form W-4</a>\n",
      "                  </li>\n",
      "              <li class=\"mega-menu-helper-text\">\n",
      "          <span class=\"desktop-only-text\">\n",
      "            Employee&#039;s Withholding Certificate\n",
      "          </span>\n",
      "        </li>\n",
      "                                                                      <li><a href=\"/forms-pubs/about-form-941\" title=\"Employer&#039;s Quarterly Federal Tax Return\" id=\"accessible-megamenu-forms &amp; instructions-submenu-7\" data-drupal-link-system-path=\"node/53446\">Form 941</a>\n",
      "                  </li>\n",
      "              <li class=\"mega-menu-helper-text\">\n",
      "          <span class=\"desktop-only-text\">\n",
      "            Employer&#039;s Quarterly Federal Tax Return\n",
      "          </span>\n",
      "        </li>\n",
      "                                                                      <li><a href=\"/forms-pubs/about-form-w-2\" title=\"Employers engaged in a trade or business who pay compensation\" id=\"accessible-megamenu-forms &amp; instructions-submenu-8\" data-drupal-link-system-path=\"node/5737\">Form W-2</a>\n",
      "                  </li>\n",
      "              <li class=\"mega-menu-helper-text\">\n",
      "          <span class=\"desktop-only-text\">\n",
      "            Employers engaged in a trade or business who pay compensation\n",
      "          </span>\n",
      "        </li>\n",
      "                                                                      <li><a href=\"/forms-pubs/about-form-9465\" title=\"Installment Agreement Request\" id=\"accessible-megamenu-forms &amp; instructions-submenu-9\" data-drupal-link-system-path=\"node/15532\">Form 9465</a>\n",
      "                  </li>\n",
      "              <li class=\"mega-menu-helper-text\">\n",
      "          <span class=\"desktop-only-text\">\n",
      "            Installment Agreement Request\n",
      "          </span>\n",
      "        </li>\n",
      "                                                          </div>\n",
      "                                                  <div class=\"mega-menu-column\">\n",
      "                                                    <li><span class=\"mega-menu-column-header\" id=\"accessible-megamenu-forms &amp; instructions-submenu-10\">POPULAR FOR TAX PROS</span>\n",
      "                  </li>\n",
      "                                                                      <li><a href=\"/forms-pubs/about-form-1040x\" title=\"Amend/Fix Return\" id=\"accessible-megamenu-forms &amp; instructions-submenu-11\" data-drupal-link-system-path=\"node/19996\">Form 1040-X</a>\n",
      "                  </li>\n",
      "              <li class=\"mega-menu-helper-text\">\n",
      "          <span class=\"desktop-only-text\">\n",
      "            Amend/Fix Return\n",
      "          </span>\n",
      "        </li>\n",
      "                                                                      <li><a href=\"/forms-pubs/about-form-2848\" title=\"Apply for Power of Attorney\" id=\"accessible-megamenu-forms &amp; instructions-submenu-12\" data-drupal-link-system-path=\"node/15839\">Form 2848</a>\n",
      "                  </li>\n",
      "              <li class=\"mega-menu-helper-text\">\n",
      "          <span class=\"desktop-only-text\">\n",
      "            Apply for Power of Attorney\n",
      "          </span>\n",
      "        </li>\n",
      "                                                                      <li><a href=\"/forms-pubs/about-form-w-7\" title=\"Apply for an ITIN\" id=\"accessible-megamenu-forms &amp; instructions-submenu-13\" data-drupal-link-system-path=\"node/15536\">Form W-7</a>\n",
      "                  </li>\n",
      "              <li class=\"mega-menu-helper-text\">\n",
      "          <span class=\"desktop-only-text\">\n",
      "            Apply for an ITIN\n",
      "          </span>\n",
      "        </li>\n",
      "                                                                      <li><a href=\"/pub/irs-pdf/pcir230.pdf\" title=\"Rules Governing Practice before IRS\" id=\"accessible-megamenu-forms &amp; instructions-submenu-14\">Circular 230</a>\n",
      "                  </li>\n",
      "              <li class=\"mega-menu-helper-text\">\n",
      "          <span class=\"desktop-only-text\">\n",
      "            Rules Governing Practice before IRS\n",
      "          </span>\n",
      "        </li>\n",
      "                    </div>\n",
      "        </ul>\n",
      "  \n",
      "            </li>\n",
      "                  </ul>\n",
      "  \n",
      "\n",
      "  </nav>\n",
      "  <div class=\"pup-site-header-search-block pup-search-box-hidden\">\n",
      "            <div class=\"pup-site-header-search-block__searchfield\">\n",
      "        <form block=\"pup_irs_exposedformpup_site_index_searchsite_search_srt_relevance_2\" action=\"/site-index-search\" method=\"get\" id=\"views-exposed-form-pup-site-index-search-site-search-srt-relevance\" accept-charset=\"UTF-8\" novalidate>\n",
      "  <div class=\"form--inline form-inline clearfix\">\n",
      "  \n",
      "\n",
      "\n",
      "\n",
      "\n",
      "\n",
      "\n",
      "\n",
      "\n",
      "<div class=\"form-item form-group js-form-item form-type-textfield js-form-type-textfield form-item-search js-form-item-search\">\n",
      "\n",
      "\n",
      "    \n",
      "    \n",
      "            <label for=\"search-main\" class=\"control-label\">Search</label>\n",
      "    \n",
      "    <input placeholder=\"Search\" aria-label=\"Search\" data-drupal-selector=\"edit-search\" class=\"form-text form-control\" type=\"text\" id=\"search-main\" name=\"search\" value=\"\" size=\"30\" maxlength=\"128\" />\n",
      "\n",
      "    \n",
      "\n",
      "</div>\n",
      "\n",
      "\n",
      "\n",
      "\n",
      "\n",
      "\n",
      "\n",
      "\n",
      "\n",
      "<div class=\"form-item form-group js-form-item form-type-select js-form-type-select form-item-field-pup-historical-1 js-form-item-field-pup-historical-1\">\n",
      "\n",
      "\n",
      "    \n",
      "    \n",
      "            <label for=\"edit-field-pup-historical-1\" class=\"control-label\">Include Historical Content</label>\n",
      "    \n",
      "    <div class=\"select-style select-wrapper\"><select data-drupal-selector=\"edit-field-pup-historical-1\" class=\"form-select form-control\" id=\"edit-field-pup-historical-1\" name=\"field_pup_historical_1\"><option value=\"All\">- Any -</option><option value=\"1\" selected=\"selected\">No</option></select></div>\n",
      "\n",
      "    \n",
      "\n",
      "</div>\n",
      "\n",
      "\n",
      "\n",
      "\n",
      "\n",
      "\n",
      "\n",
      "\n",
      "\n",
      "<div class=\"form-item form-group js-form-item form-type-select js-form-type-select form-item-field-pup-historical js-form-item-field-pup-historical\">\n",
      "\n",
      "\n",
      "    \n",
      "    \n",
      "            <label for=\"edit-field-pup-historical\" class=\"control-label\">Include Historical Content</label>\n",
      "    \n",
      "    <div class=\"select-style select-wrapper\"><select data-drupal-selector=\"edit-field-pup-historical\" class=\"form-select form-control\" id=\"edit-field-pup-historical\" name=\"field_pup_historical\"><option value=\"All\">- Any -</option><option value=\"1\" selected=\"selected\">No</option></select></div>\n",
      "\n",
      "    \n",
      "\n",
      "</div>\n",
      "<div data-drupal-selector=\"edit-actions\" class=\"form-actions form-group js-form-wrapper form-wrapper\" id=\"edit-actions\"><button title=\"Search\" data-drupal-selector=\"edit-submit-pup-site-index-search\" class=\"button js-form-submit form-submit btn-primary btn icon-before\" type=\"submit\" id=\"edit-submit-pup-site-index-search\" value=\"Search\" name=\"\"><span class=\"icon glyphicon glyphicon-search\" aria-hidden=\"true\"></span>\n",
      "Search</button></div>\n",
      "\n",
      "</div>\n",
      "\n",
      "</form>\n",
      "\n",
      "      </div>\n",
      "      </div>\n",
      "\n",
      "  </div>\n",
      "\n",
      "          </div>\n",
      "      </div>\n",
      "    \n",
      "          <div id=\"pup-info-menu-collapse\"  class=\"pup-header-content-rt col-xs-12 hidden-md hidden-lg collapse no-gutter\">\n",
      "          <div class=\"region region-info-menu-collapsible\">\n",
      "    <nav role=\"navigation\" aria-labelledby=\"block-pup-irs-informationmenu-menu\" id=\"block-pup-irs-informationmenu\" data-block-plugin-id=\"system_menu_block:pup-info-menu\" class=\"pup-nav-en\">\n",
      "            \n",
      "  <h2 class=\"visually-hidden\" id=\"block-pup-irs-informationmenu-menu\">Information Menu</h2>\n",
      "  \n",
      "\n",
      "        \n",
      "      <ul block=\"pup_irs_informationmenu\" class=\"menu menu--pup-info-menu nav\">\n",
      "                      <li class=\"first\">\n",
      "                                        <a href=\"/help/telephone-assistance\" title=\"Help\" data-drupal-link-system-path=\"node/16916\">Help</a>\n",
      "              </li>\n",
      "                      <li>\n",
      "                                        <a href=\"/newsroom\" title=\"News\" data-drupal-link-system-path=\"node/19646\">News</a>\n",
      "              </li>\n",
      "                      <li>\n",
      "                                        <a href=\"/charities-and-nonprofits\" data-drupal-link-system-path=\"node/58461\">Charities &amp; Nonprofits</a>\n",
      "              </li>\n",
      "                      <li class=\"last\">\n",
      "                                        <a href=\"/tax-professionals\" data-drupal-link-system-path=\"node/11\">Tax Pros</a>\n",
      "              </li>\n",
      "        </ul>\n",
      "  \n",
      "\n",
      "  </nav>\n",
      "\n",
      "  </div>\n",
      "\n",
      "      </div>\n",
      "    \n",
      "          <div id=\"pup-header-nav-collapse\"  class=\"pup-header-content-rt col-xs-12 hidden-md hidden-lg collapse no-gutter\">\n",
      "          <div class=\"region region-header-nav-collapsible\">\n",
      "    <section id=\"block-accordionmainnavigationmobile\" data-block-plugin-id=\"accordion_menus_block:main_mobile\" class=\"block block-accordion-menus block-accordion-menus-blockmain-mobile clearfix\">\n",
      "  \n",
      "    \n",
      "\n",
      "      <div class=\"accordion_menus_block_container main_mobile\">\n",
      "  <h2 class=\"accordion-title\">\n",
      "    <a href=\"#\">File</a>\n",
      "  </h2>\n",
      "  <div class=\"accordion_menus-block-content\">\n",
      "    <ul><li><a href=\"/filing\" class=\"mobile-only-text\">Overview</a></li><li><span class=\"mega-menu-column-header\">INFORMATION FOR…</span></li><li><a href=\"/individuals\">Individuals</a></li><li><a href=\"/businesses\">Business &amp; Self Employed</a></li><li><a href=\"/charities-and-nonprofits\">Charities and Nonprofits</a></li><li><a href=\"/individuals/international-taxpayers\">International Taxpayers</a></li><li><a href=\"/government-entities/federal-state-local-governments\">Federal State and Local Governments</a></li><li><a href=\"/government-entities/indian-tribal-governments\">Indian Tribal Governments</a></li><li><a href=\"/tax-exempt-bonds\">Tax Exempt Bonds</a></li><li><span class=\"mega-menu-column-header\">FILING FOR INDIVIDUALS</span></li><li><a href=\"/filing/individuals/who-should-file\">Who Should File</a></li><li><a href=\"/filing/individuals/how-to-file\">How to File</a></li><li><a href=\"/filing/individuals/when-to-file\">When to File</a></li><li><a href=\"/filing/where-to-file-tax-returns-addresses-listed-by-return-type\">Where to File</a></li><li><a href=\"/filing/individuals/update-my-information\">Update My Information</a></li><li><span class=\"mega-menu-column-header\">POPULAR</span></li><li><a href=\"/individuals/get-transcript\">Get Your Tax Record</a></li><li><a href=\"/businesses/small-businesses-self-employed/apply-for-an-employer-identification-number-ein-online\">Apply for an Employer ID Number (EIN)</a></li><li><a href=\"/filing/wheres-my-amended-return\">Check Your Amended Return Status</a></li><li><a href=\"/identity-theft-fraud-scams/get-an-identity-protection-pin\">Get an Identity Protection PIN (IP PIN)</a></li><li><a href=\"/filing/free-file-do-your-federal-taxes-for-free\">File Your Taxes for Free</a></li></ul>\n",
      "  </div>\n",
      "  <h2 class=\"accordion-title\">\n",
      "    <a href=\"#\">Pay</a>\n",
      "  </h2>\n",
      "  <div class=\"accordion_menus-block-content\">\n",
      "    <ul><li><a href=\"/payments\" class=\"mobile-only-text\">Overview</a></li><li><span class=\"mega-menu-column-header\">PAY BY</span></li><li><a href=\"/payments/direct-pay\">Bank Account (Direct Pay)</a></li><li><a href=\"/payments/pay-taxes-by-credit-or-debit-card\">Debit or Credit Card</a></li><li><a href=\"/payments/online-payment-agreement-application\">Payment Plan (Installment Agreement)</a></li><li><a href=\"/payments/eftps-the-electronic-federal-tax-payment-system\">Electronic Federal Tax Payment System (EFTPS)</a></li><li><span class=\"mega-menu-column-header\">POPULAR</span></li><li><a href=\"/payments/your-online-account\">Your Online Account</a></li><li><a href=\"/individuals/tax-withholding-estimator\">Tax Withholding Estimator</a></li><li><a href=\"/businesses/small-businesses-self-employed/estimated-taxes\">Estimated Taxes</a></li><li><a href=\"/payments/penalties\">Penalties</a></li></ul>\n",
      "  </div>\n",
      "  <h2 class=\"accordion-title\">\n",
      "    <a href=\"#\">Refunds</a>\n",
      "  </h2>\n",
      "  <div class=\"accordion_menus-block-content\">\n",
      "    <ul><li><a href=\"/refunds\" class=\"mobile-only-text\">Overview</a></li><li><a href=\"https://sa.www4.irs.gov/irfof/lang/en/irfofgetstatus.jsp\" class=\"mega-menu-column-header\">Where&#039;s My Refund</a></li><li><a href=\"/refunds/what-to-expect-for-refunds-this-year\">What to Expect</a></li><li><a href=\"/refunds/get-your-refund-faster-tell-irs-to-direct-deposit-your-refund-to-one-two-or-three-accounts\">Direct Deposit</a></li><li><a href=\"/taxtopics/tc203\">Reduced Refunds</a></li><li><a href=\"/forms-pubs/about-form-1040x\">Fix/Correct a Return</a></li></ul>\n",
      "  </div>\n",
      "  <h2 class=\"accordion-title\">\n",
      "    <a href=\"#\">Credits &amp; Deductions</a>\n",
      "  </h2>\n",
      "  <div class=\"accordion_menus-block-content\">\n",
      "    <ul><li><a href=\"/credits-and-deductions\" class=\"mobile-only-text\">Overview</a></li><li><span class=\"mega-menu-column-header\">INFORMATION FOR...</span></li><li><a href=\"/credits-deductions-for-individuals\" title=\"For you and your family\">Individuals</a></li><li><a href=\"/credits-deductions/businesses\" title=\"Standard mileage and other information\">Businesses &amp; Self-Employed</a></li><li><span class=\"mega-menu-column-header\">POPULAR</span></li><li><a href=\"/credits-deductions/individuals/earned-income-tax-credit-eitc\">Earned Income Credit (EITC)</a></li><li><a href=\"/credits-deductions/advance-child-tax-credit-payments-in-2021\">Advance Child Tax Credit</a></li><li><a href=\"/help/ita/how-much-is-my-standard-deduction\">Standard Deduction</a></li><li><a href=\"/credits-deductions/individuals/hctc\">Health Coverage</a></li><li><a href=\"/retirement-plans\">Retirement Plans</a></li></ul>\n",
      "  </div>\n",
      "  <h2 class=\"accordion-title\">\n",
      "    <a href=\"#\">Forms &amp; Instructions</a>\n",
      "  </h2>\n",
      "  <div class=\"accordion_menus-block-content\">\n",
      "    <ul><li><a href=\"/forms-instructions\" class=\"mobile-only-text\">Overview</a></li><li><span class=\"mega-menu-column-header\">POPULAR FORMS &amp; INSTRUCTIONS</span></li><li><a href=\"/forms-pubs/about-form-1040\" title=\"Individual Tax Return\">Form 1040</a></li><li><a href=\"/pub/irs-pdf/i1040gi.pdf\" title=\"Instructions for Form 1040 \">Form 1040 Instructions</a></li><li><a href=\"/forms-pubs/about-form-w-9\" title=\"Request for Taxpayer Identification Number (TIN) and Certification\">Form W-9</a></li><li><a href=\"/forms-pubs/about-form-4506-t\" title=\"Request for Transcript of Tax Return\">Form 4506-T</a></li><li><a href=\"/forms-pubs/about-form-w-4\" class=\"mega-menu-column-header\" title=\"Employee&#039;s Withholding Certificate\">Form W-4</a></li><li><a href=\"/forms-pubs/about-form-941\" title=\"Employer&#039;s Quarterly Federal Tax Return\">Form 941</a></li><li><a href=\"/forms-pubs/about-form-w-2\" title=\"Employers engaged in a trade or business who pay compensation\">Form W-2</a></li><li><a href=\"/forms-pubs/about-form-9465\" title=\"Installment Agreement Request\">Form 9465</a></li><li><span class=\"mega-menu-column-header\">POPULAR FOR TAX PROS</span></li><li><a href=\"/forms-pubs/about-form-1040x\" title=\"Amend/Fix Return\">Form 1040-X</a></li><li><a href=\"/forms-pubs/about-form-2848\" title=\"Apply for Power of Attorney\">Form 2848</a></li><li><a href=\"/forms-pubs/about-form-w-7\" title=\"Apply for an ITIN\">Form W-7</a></li><li><a href=\"/pub/irs-pdf/pcir230.pdf\" title=\"Rules Governing Practice before IRS\">Circular 230</a></li></ul>\n",
      "  </div>\n",
      "</div>\n",
      "\n",
      "  </section>\n",
      "\n",
      "<nav role=\"navigation\" aria-labelledby=\"block-mainnavigationmobile-menu\" id=\"block-mainnavigationmobile\" data-block-plugin-id=\"system_menu_block:main_mobile\">\n",
      "            \n",
      "  <h2 class=\"visually-hidden\" id=\"block-mainnavigationmobile-menu\">Main navigation mobile</h2>\n",
      "  \n",
      "\n",
      "        \n",
      "\n",
      "              <ul block=\"mainnavigationmobile\" class=\"menu nav\" id=\"accessible-megamenu-navigation\">\n",
      "        <a id=\"stickyNavLogo\" class=\"logo navbar-btn pull-left\" href=\"/\" title=\"Home\" rel=\"home\">\n",
      "          <img src=\"/themes/custom/pup_base/IRS-Logo.svg\" alt=\"Home\">\n",
      "          <img class=\"print-logo accessible-megamenu-panel\" src=\"/themes/custom/pup_irs/images/logo-print.svg\" alt=\"Home\" role=\"region\" aria-expanded=\"false\" aria-hidden=\"true\">\n",
      "        </a>\n",
      "                                                                <li class=\"expanded megamenu-top-nav-item dropdown\">\t\n",
      "          <a href=\"/filing\" aria-controls=\"accessible-megamenu-file-submenu\" aria-expanded=\"false\" aria-label=\"File menu has additional options. Use the spacebar to open the File sub menu or enter to navigate to the File page.\" role=\"application\" id=\"accessible-megamenu-nav-item-0\">File</a>\n",
      "                                        <ul block=\"mainnavigationmobile\" class=\"menu dropdown-menu\" id=\"accessible-megamenu-file-submenu\" aria-expanded=\"false\" aria-hidden=\"true\" aria-labeledby=\"accessible-megamenu-nav-item-0\" role=\"region\">\n",
      "       <div class=\"mega-menu-container\">\n",
      "                                                                        <li><a href=\"/filing\" class=\"mobile-only-text\" id=\"accessible-megamenu-file-submenu-0\" data-drupal-link-system-path=\"node/19656\">Overview</a>\n",
      "                  </li>\n",
      "                                                                                <div class=\"mega-menu-column\">\n",
      "                                                    <li><span class=\"mega-menu-column-header\" id=\"accessible-megamenu-file-submenu-1\">INFORMATION FOR…</span>\n",
      "                  </li>\n",
      "                                                                      <li><a href=\"/individuals\" id=\"accessible-megamenu-file-submenu-2\" data-drupal-link-system-path=\"node/19456\">Individuals</a>\n",
      "                  </li>\n",
      "                                                                      <li><a href=\"/businesses\" id=\"accessible-megamenu-file-submenu-3\" data-drupal-link-system-path=\"node/18976\">Business & Self Employed</a>\n",
      "                  </li>\n",
      "                                                                      <li><a href=\"/charities-and-nonprofits\" id=\"accessible-megamenu-file-submenu-4\" data-drupal-link-system-path=\"node/58461\">Charities and Nonprofits</a>\n",
      "                  </li>\n",
      "                                                                      <li><a href=\"/individuals/international-taxpayers\" id=\"accessible-megamenu-file-submenu-5\" data-drupal-link-system-path=\"node/19696\">International Taxpayers</a>\n",
      "                  </li>\n",
      "                                                                      <li><a href=\"/government-entities/federal-state-local-governments\" id=\"accessible-megamenu-file-submenu-6\" data-drupal-link-system-path=\"node/19446\">Federal State and Local Governments</a>\n",
      "                  </li>\n",
      "                                                                      <li><a href=\"/government-entities/indian-tribal-governments\" id=\"accessible-megamenu-file-submenu-7\" data-drupal-link-system-path=\"node/19601\">Indian Tribal Governments</a>\n",
      "                  </li>\n",
      "                                                                      <li><a href=\"/tax-exempt-bonds\" id=\"accessible-megamenu-file-submenu-8\" data-drupal-link-system-path=\"node/19671\">Tax Exempt Bonds</a>\n",
      "                  </li>\n",
      "                                                          </div>\n",
      "                                                  <div class=\"mega-menu-column\">\n",
      "                                                    <li><span class=\"mega-menu-column-header\" id=\"accessible-megamenu-file-submenu-9\">FILING FOR INDIVIDUALS</span>\n",
      "                  </li>\n",
      "                                                                      <li><a href=\"/filing/individuals/who-should-file\" id=\"accessible-megamenu-file-submenu-10\" data-drupal-link-system-path=\"node/105206\">Who Should File</a>\n",
      "                  </li>\n",
      "                                                                      <li><a href=\"/filing/individuals/how-to-file\" id=\"accessible-megamenu-file-submenu-11\" data-drupal-link-system-path=\"node/22856\">How to File</a>\n",
      "                  </li>\n",
      "                                                                      <li><a href=\"/filing/individuals/when-to-file\" id=\"accessible-megamenu-file-submenu-12\" data-drupal-link-system-path=\"node/22726\">When to File</a>\n",
      "                  </li>\n",
      "                                                                      <li><a href=\"/filing/where-to-file-tax-returns-addresses-listed-by-return-type\" id=\"accessible-megamenu-file-submenu-13\" data-drupal-link-system-path=\"node/2442\">Where to File</a>\n",
      "                  </li>\n",
      "                                                                      <li><a href=\"/filing/individuals/update-my-information\" id=\"accessible-megamenu-file-submenu-14\" data-drupal-link-system-path=\"node/22861\">Update My Information</a>\n",
      "                  </li>\n",
      "                                                          </div>\n",
      "                                                  <div class=\"mega-menu-column\">\n",
      "                                                    <li><span class=\"mega-menu-column-header\" id=\"accessible-megamenu-file-submenu-15\">POPULAR</span>\n",
      "                  </li>\n",
      "                                                                      <li><a href=\"/individuals/get-transcript\" id=\"accessible-megamenu-file-submenu-16\" data-drupal-link-system-path=\"node/64256\">Get Your Tax Record</a>\n",
      "                  </li>\n",
      "                                                                      <li><a href=\"/businesses/small-businesses-self-employed/apply-for-an-employer-identification-number-ein-online\" id=\"accessible-megamenu-file-submenu-17\" data-drupal-link-system-path=\"node/17153\">Apply for an Employer ID Number (EIN)</a>\n",
      "                  </li>\n",
      "                                                                      <li><a href=\"/filing/wheres-my-amended-return\" id=\"accessible-megamenu-file-submenu-18\" data-drupal-link-system-path=\"node/17175\">Check Your Amended Return Status</a>\n",
      "                  </li>\n",
      "                                                                      <li><a href=\"/identity-theft-fraud-scams/get-an-identity-protection-pin\" id=\"accessible-megamenu-file-submenu-19\" data-drupal-link-system-path=\"node/16696\">Get an Identity Protection PIN (IP PIN)</a>\n",
      "                  </li>\n",
      "                                                                      <li><a href=\"/filing/free-file-do-your-federal-taxes-for-free\" id=\"accessible-megamenu-file-submenu-20\" data-drupal-link-system-path=\"node/54546\">File Your Taxes for Free</a>\n",
      "                  </li>\n",
      "                    </div>\n",
      "        </ul>\n",
      "  \n",
      "            </li>\n",
      "                                                              <li class=\"expanded megamenu-top-nav-item dropdown\">\t\n",
      "          <a href=\"/payments\" aria-controls=\"accessible-megamenu-pay-submenu\" aria-expanded=\"false\" aria-label=\"Pay menu has additional options. Use the spacebar to open the Pay sub menu or enter to navigate to the Pay page.\" role=\"application\" id=\"accessible-megamenu-nav-item-1\">Pay</a>\n",
      "                                        <ul block=\"mainnavigationmobile\" class=\"menu dropdown-menu\" id=\"accessible-megamenu-pay-submenu\" aria-expanded=\"false\" aria-hidden=\"true\" aria-labeledby=\"accessible-megamenu-nav-item-1\" role=\"region\">\n",
      "       <div class=\"mega-menu-container\">\n",
      "                                                                        <li><a href=\"/payments\" class=\"mobile-only-text\" id=\"accessible-megamenu-pay-submenu-0\" data-drupal-link-system-path=\"node/19551\">Overview</a>\n",
      "                  </li>\n",
      "                                                                                <div class=\"mega-menu-column\">\n",
      "                                                    <li><span class=\"mega-menu-column-header\" id=\"accessible-megamenu-pay-submenu-1\">PAY BY</span>\n",
      "                  </li>\n",
      "                                                                      <li><a href=\"/payments/direct-pay\" id=\"accessible-megamenu-pay-submenu-2\" data-drupal-link-system-path=\"node/10224\">Bank Account (Direct Pay)</a>\n",
      "                  </li>\n",
      "                                                                      <li><a href=\"/payments/pay-taxes-by-credit-or-debit-card\" id=\"accessible-megamenu-pay-submenu-3\" data-drupal-link-system-path=\"node/15583\">Debit or Credit Card</a>\n",
      "                  </li>\n",
      "                                                                      <li><a href=\"/payments/online-payment-agreement-application\" id=\"accessible-megamenu-pay-submenu-4\" data-drupal-link-system-path=\"node/16716\">Payment Plan (Installment Agreement)</a>\n",
      "                  </li>\n",
      "                                                                      <li><a href=\"/payments/eftps-the-electronic-federal-tax-payment-system\" id=\"accessible-megamenu-pay-submenu-5\" data-drupal-link-system-path=\"node/15488\">Electronic Federal Tax Payment System (EFTPS)</a>\n",
      "                  </li>\n",
      "                                                          </div>\n",
      "                                                  <div class=\"mega-menu-column\">\n",
      "                                                    <li><span class=\"mega-menu-column-header\" id=\"accessible-megamenu-pay-submenu-6\">POPULAR</span>\n",
      "                  </li>\n",
      "                                                                      <li><a href=\"/payments/your-online-account\" id=\"accessible-megamenu-pay-submenu-7\" data-drupal-link-system-path=\"node/11608\">Your Online Account</a>\n",
      "                  </li>\n",
      "                                                                      <li><a href=\"/individuals/tax-withholding-estimator\" id=\"accessible-megamenu-pay-submenu-8\" data-drupal-link-system-path=\"node/107181\">Tax Withholding Estimator</a>\n",
      "                  </li>\n",
      "                                                                      <li><a href=\"/businesses/small-businesses-self-employed/estimated-taxes\" id=\"accessible-megamenu-pay-submenu-9\" data-drupal-link-system-path=\"node/17135\">Estimated Taxes</a>\n",
      "                  </li>\n",
      "                                                                      <li><a href=\"/payments/penalties\" id=\"accessible-megamenu-pay-submenu-10\" data-drupal-link-system-path=\"node/91826\">Penalties</a>\n",
      "                  </li>\n",
      "                    </div>\n",
      "        </ul>\n",
      "  \n",
      "            </li>\n",
      "                                                              <li class=\"expanded megamenu-top-nav-item dropdown\">\t\n",
      "          <a href=\"/refunds\" aria-controls=\"accessible-megamenu-refunds-submenu\" aria-expanded=\"false\" aria-label=\"Refunds menu has additional options. Use the spacebar to open the Refunds sub menu or enter to navigate to the Refunds page.\" role=\"application\" id=\"accessible-megamenu-nav-item-2\">Refunds</a>\n",
      "                                        <ul block=\"mainnavigationmobile\" class=\"menu dropdown-menu\" id=\"accessible-megamenu-refunds-submenu\" aria-expanded=\"false\" aria-hidden=\"true\" aria-labeledby=\"accessible-megamenu-nav-item-2\" role=\"region\">\n",
      "       <div class=\"mega-menu-container\">\n",
      "                                                                        <li><a href=\"/refunds\" class=\"mobile-only-text\" id=\"accessible-megamenu-refunds-submenu-0\" data-drupal-link-system-path=\"node/19556\">Overview</a>\n",
      "                  </li>\n",
      "                                                                    <div class=\"mega-menu-column no-header-extra-padding\">\n",
      "                                                    <li><a href=\"https://sa.www4.irs.gov/irfof/lang/en/irfofgetstatus.jsp\" class=\"mega-menu-column-header\" id=\"accessible-megamenu-refunds-submenu-1\">Where's My Refund</a>\n",
      "                  </li>\n",
      "                                                                      <li><a href=\"/refunds/what-to-expect-for-refunds-this-year\" id=\"accessible-megamenu-refunds-submenu-2\" data-drupal-link-system-path=\"node/9503\">What to Expect</a>\n",
      "                  </li>\n",
      "                                                                      <li><a href=\"/refunds/get-your-refund-faster-tell-irs-to-direct-deposit-your-refund-to-one-two-or-three-accounts\" id=\"accessible-megamenu-refunds-submenu-3\" data-drupal-link-system-path=\"node/10971\">Direct Deposit</a>\n",
      "                  </li>\n",
      "                                                                      <li><a href=\"/taxtopics/tc203\" id=\"accessible-megamenu-refunds-submenu-4\" data-drupal-link-system-path=\"node/67936\">Reduced Refunds</a>\n",
      "                  </li>\n",
      "                                                                      <li><a href=\"/forms-pubs/about-form-1040x\" id=\"accessible-megamenu-refunds-submenu-5\" data-drupal-link-system-path=\"node/19996\">Fix/Correct a Return</a>\n",
      "                  </li>\n",
      "                    </div>\n",
      "        </ul>\n",
      "  \n",
      "            </li>\n",
      "                                                              <li class=\"expanded megamenu-top-nav-item dropdown\">\t\n",
      "          <a href=\"/credits-and-deductions\" aria-controls=\"accessible-megamenu-credits &amp; deductions-submenu\" aria-expanded=\"false\" aria-label=\"Credits &amp; Deductions menu has additional options. Use the spacebar to open the Credits &amp; Deductions sub menu or enter to navigate to the Credits &amp; Deductions page.\" role=\"application\" id=\"accessible-megamenu-nav-item-3\">Credits & Deductions</a>\n",
      "                                        <ul block=\"mainnavigationmobile\" class=\"menu dropdown-menu\" id=\"accessible-megamenu-credits &amp; deductions-submenu\" aria-expanded=\"false\" aria-hidden=\"true\" aria-labeledby=\"accessible-megamenu-nav-item-3\" role=\"region\">\n",
      "       <div class=\"mega-menu-container\">\n",
      "                                                                        <li><a href=\"/credits-and-deductions\" class=\"mobile-only-text\" id=\"accessible-megamenu-credits &amp; deductions-submenu-0\" data-drupal-link-system-path=\"node/80206\">Overview</a>\n",
      "                  </li>\n",
      "                                                                                <div class=\"mega-menu-column\">\n",
      "                                                    <li><span class=\"mega-menu-column-header\" id=\"accessible-megamenu-credits &amp; deductions-submenu-1\">INFORMATION FOR...</span>\n",
      "                  </li>\n",
      "                                                                      <li><a href=\"/credits-deductions-for-individuals\" title=\"For you and your family\" id=\"accessible-megamenu-credits &amp; deductions-submenu-2\" data-drupal-link-system-path=\"node/5\">Individuals</a>\n",
      "                  </li>\n",
      "              <li class=\"mega-menu-helper-text\">\n",
      "          <span class=\"desktop-only-text\">\n",
      "            For you and your family\n",
      "          </span>\n",
      "        </li>\n",
      "                                                                      <li><a href=\"/credits-deductions/businesses\" title=\"Standard mileage and other information\" id=\"accessible-megamenu-credits &amp; deductions-submenu-3\" data-drupal-link-system-path=\"node/19941\">Businesses & Self-Employed</a>\n",
      "                  </li>\n",
      "              <li class=\"mega-menu-helper-text\">\n",
      "          <span class=\"desktop-only-text\">\n",
      "            Standard mileage and other information\n",
      "          </span>\n",
      "        </li>\n",
      "                                                          </div>\n",
      "                                                  <div class=\"mega-menu-column\">\n",
      "                                                    <li><span class=\"mega-menu-column-header\" id=\"accessible-megamenu-credits &amp; deductions-submenu-4\">POPULAR</span>\n",
      "                  </li>\n",
      "                                                                      <li><a href=\"/credits-deductions/individuals/earned-income-tax-credit-eitc\" id=\"accessible-megamenu-credits &amp; deductions-submenu-5\" data-drupal-link-system-path=\"node/18966\">Earned Income Credit (EITC)</a>\n",
      "                  </li>\n",
      "                                                                      <li><a href=\"/credits-deductions/advance-child-tax-credit-payments-in-2021\" id=\"accessible-megamenu-credits &amp; deductions-submenu-6\" data-drupal-link-system-path=\"node/95076\">Advance Child Tax Credit</a>\n",
      "                  </li>\n",
      "                                                                      <li><a href=\"/help/ita/how-much-is-my-standard-deduction\" id=\"accessible-megamenu-credits &amp; deductions-submenu-7\" data-drupal-link-system-path=\"node/5229\">Standard Deduction</a>\n",
      "                  </li>\n",
      "                                                                      <li><a href=\"/credits-deductions/individuals/hctc\" id=\"accessible-megamenu-credits &amp; deductions-submenu-8\" data-drupal-link-system-path=\"node/17082\">Health Coverage</a>\n",
      "                  </li>\n",
      "                                                                      <li><a href=\"/retirement-plans\" id=\"accessible-megamenu-credits &amp; deductions-submenu-9\" data-drupal-link-system-path=\"node/19741\">Retirement Plans</a>\n",
      "                  </li>\n",
      "                    </div>\n",
      "        </ul>\n",
      "  \n",
      "            </li>\n",
      "                                                              <li class=\"expanded megamenu-top-nav-item dropdown\">\t\n",
      "          <a href=\"/forms-instructions\" aria-controls=\"accessible-megamenu-forms &amp; instructions-submenu\" aria-expanded=\"false\" aria-label=\"Forms &amp; Instructions menu has additional options. Use the spacebar to open the Forms &amp; Instructions sub menu or enter to navigate to the Forms &amp; Instructions page.\" role=\"application\" id=\"accessible-megamenu-nav-item-4\">Forms & Instructions</a>\n",
      "                                        <ul block=\"mainnavigationmobile\" class=\"menu dropdown-menu\" id=\"accessible-megamenu-forms &amp; instructions-submenu\" aria-expanded=\"false\" aria-hidden=\"true\" aria-labeledby=\"accessible-megamenu-nav-item-4\" role=\"region\">\n",
      "       <div class=\"mega-menu-container\">\n",
      "                                                                        <li><a href=\"/forms-instructions\" class=\"mobile-only-text\" id=\"accessible-megamenu-forms &amp; instructions-submenu-0\" data-drupal-link-system-path=\"node/6\">Overview</a>\n",
      "                  </li>\n",
      "                                                                                <div class=\"mega-menu-column\">\n",
      "                                                    <li><span class=\"mega-menu-column-header\" id=\"accessible-megamenu-forms &amp; instructions-submenu-1\">POPULAR FORMS & INSTRUCTIONS</span>\n",
      "                  </li>\n",
      "                                                                      <li><a href=\"/forms-pubs/about-form-1040\" title=\"Individual Tax Return\" id=\"accessible-megamenu-forms &amp; instructions-submenu-2\" data-drupal-link-system-path=\"node/16022\">Form 1040</a>\n",
      "                  </li>\n",
      "              <li class=\"mega-menu-helper-text\">\n",
      "          <span class=\"desktop-only-text\">\n",
      "            Individual Tax Return\n",
      "          </span>\n",
      "        </li>\n",
      "                                                                      <li><a href=\"/pub/irs-pdf/i1040gi.pdf\" title=\"Instructions for Form 1040 \" id=\"accessible-megamenu-forms &amp; instructions-submenu-3\">Form 1040 Instructions</a>\n",
      "                  </li>\n",
      "              <li class=\"mega-menu-helper-text\">\n",
      "          <span class=\"desktop-only-text\">\n",
      "            Instructions for Form 1040 \n",
      "          </span>\n",
      "        </li>\n",
      "                                                                      <li><a href=\"/forms-pubs/about-form-w-9\" title=\"Request for Taxpayer Identification Number (TIN) and Certification\" id=\"accessible-megamenu-forms &amp; instructions-submenu-4\" data-drupal-link-system-path=\"node/15825\">Form W-9</a>\n",
      "                  </li>\n",
      "              <li class=\"mega-menu-helper-text\">\n",
      "          <span class=\"desktop-only-text\">\n",
      "            Request for Taxpayer Identification Number (TIN) and Certification\n",
      "          </span>\n",
      "        </li>\n",
      "                                                                      <li><a href=\"/forms-pubs/about-form-4506-t\" title=\"Request for Transcript of Tax Return\" id=\"accessible-megamenu-forms &amp; instructions-submenu-5\" data-drupal-link-system-path=\"node/10554\">Form 4506-T</a>\n",
      "                  </li>\n",
      "              <li class=\"mega-menu-helper-text\">\n",
      "          <span class=\"desktop-only-text\">\n",
      "            Request for Transcript of Tax Return\n",
      "          </span>\n",
      "        </li>\n",
      "                                                          </div>\n",
      "                                      <div class=\"mega-menu-column extra-padding\">\n",
      "                                                    <li><a href=\"/forms-pubs/about-form-w-4\" class=\"mega-menu-column-header\" title=\"Employee&#039;s Withholding Certificate\" id=\"accessible-megamenu-forms &amp; instructions-submenu-6\" data-drupal-link-system-path=\"node/15498\">Form W-4</a>\n",
      "                  </li>\n",
      "              <li class=\"mega-menu-helper-text\">\n",
      "          <span class=\"desktop-only-text\">\n",
      "            Employee&#039;s Withholding Certificate\n",
      "          </span>\n",
      "        </li>\n",
      "                                                                      <li><a href=\"/forms-pubs/about-form-941\" title=\"Employer&#039;s Quarterly Federal Tax Return\" id=\"accessible-megamenu-forms &amp; instructions-submenu-7\" data-drupal-link-system-path=\"node/53446\">Form 941</a>\n",
      "                  </li>\n",
      "              <li class=\"mega-menu-helper-text\">\n",
      "          <span class=\"desktop-only-text\">\n",
      "            Employer&#039;s Quarterly Federal Tax Return\n",
      "          </span>\n",
      "        </li>\n",
      "                                                                      <li><a href=\"/forms-pubs/about-form-w-2\" title=\"Employers engaged in a trade or business who pay compensation\" id=\"accessible-megamenu-forms &amp; instructions-submenu-8\" data-drupal-link-system-path=\"node/5737\">Form W-2</a>\n",
      "                  </li>\n",
      "              <li class=\"mega-menu-helper-text\">\n",
      "          <span class=\"desktop-only-text\">\n",
      "            Employers engaged in a trade or business who pay compensation\n",
      "          </span>\n",
      "        </li>\n",
      "                                                                      <li><a href=\"/forms-pubs/about-form-9465\" title=\"Installment Agreement Request\" id=\"accessible-megamenu-forms &amp; instructions-submenu-9\" data-drupal-link-system-path=\"node/15532\">Form 9465</a>\n",
      "                  </li>\n",
      "              <li class=\"mega-menu-helper-text\">\n",
      "          <span class=\"desktop-only-text\">\n",
      "            Installment Agreement Request\n",
      "          </span>\n",
      "        </li>\n",
      "                                                          </div>\n",
      "                                                  <div class=\"mega-menu-column\">\n",
      "                                                    <li><span class=\"mega-menu-column-header\" id=\"accessible-megamenu-forms &amp; instructions-submenu-10\">POPULAR FOR TAX PROS</span>\n",
      "                  </li>\n",
      "                                                                      <li><a href=\"/forms-pubs/about-form-1040x\" title=\"Amend/Fix Return\" id=\"accessible-megamenu-forms &amp; instructions-submenu-11\" data-drupal-link-system-path=\"node/19996\">Form 1040-X</a>\n",
      "                  </li>\n",
      "              <li class=\"mega-menu-helper-text\">\n",
      "          <span class=\"desktop-only-text\">\n",
      "            Amend/Fix Return\n",
      "          </span>\n",
      "        </li>\n",
      "                                                                      <li><a href=\"/forms-pubs/about-form-2848\" title=\"Apply for Power of Attorney\" id=\"accessible-megamenu-forms &amp; instructions-submenu-12\" data-drupal-link-system-path=\"node/15839\">Form 2848</a>\n",
      "                  </li>\n",
      "              <li class=\"mega-menu-helper-text\">\n",
      "          <span class=\"desktop-only-text\">\n",
      "            Apply for Power of Attorney\n",
      "          </span>\n",
      "        </li>\n",
      "                                                                      <li><a href=\"/forms-pubs/about-form-w-7\" title=\"Apply for an ITIN\" id=\"accessible-megamenu-forms &amp; instructions-submenu-13\" data-drupal-link-system-path=\"node/15536\">Form W-7</a>\n",
      "                  </li>\n",
      "              <li class=\"mega-menu-helper-text\">\n",
      "          <span class=\"desktop-only-text\">\n",
      "            Apply for an ITIN\n",
      "          </span>\n",
      "        </li>\n",
      "                                                                      <li><a href=\"/pub/irs-pdf/pcir230.pdf\" title=\"Rules Governing Practice before IRS\" id=\"accessible-megamenu-forms &amp; instructions-submenu-14\">Circular 230</a>\n",
      "                  </li>\n",
      "              <li class=\"mega-menu-helper-text\">\n",
      "          <span class=\"desktop-only-text\">\n",
      "            Rules Governing Practice before IRS\n",
      "          </span>\n",
      "        </li>\n",
      "                    </div>\n",
      "        </ul>\n",
      "  \n",
      "            </li>\n",
      "                  </ul>\n",
      "  \n",
      "\n",
      "  </nav>\n",
      "<nav role=\"navigation\" aria-labelledby=\"block-pup-irs-mainnavigation-menu\" id=\"block-pup-irs-mainnavigation\" data-block-plugin-id=\"system_menu_block:main\">\n",
      "            <h2 class=\"sr-only\" id=\"block-pup-irs-mainnavigation-menu\">Main navigation</h2>\n",
      "\n",
      "      \n",
      "        <ul block=\"pup_irs_mainnavigation\" class=\"menu nav navbar-nav\">\n",
      "                                          <li>\n",
      "            <a href=\"/filing\" class=\"top-level-nav-item\">File</a>\n",
      "                            </li>\n",
      "                                      <li>\n",
      "            <a href=\"/payments\" class=\"top-level-nav-item\">Pay</a>\n",
      "                            </li>\n",
      "                                      <li>\n",
      "            <a href=\"/refunds\" class=\"top-level-nav-item\">Refunds</a>\n",
      "                            </li>\n",
      "                                      <li>\n",
      "            <a href=\"/credits-and-deductions\" class=\"top-level-nav-item\">Credits &amp; Deductions</a>\n",
      "                            </li>\n",
      "                                      <li>\n",
      "            <a href=\"/forms-instructions\" class=\"top-level-nav-item\">Forms &amp; Instructions</a>\n",
      "                            </li>\n",
      "        </ul>\n",
      "        \n",
      "\n",
      "\n",
      "\n",
      "  </nav>\n",
      "<nav role=\"navigation\" aria-labelledby=\"block-pup-irs-infomenumobile-menu\" id=\"block-pup-irs-infomenumobile\" data-block-plugin-id=\"system_menu_block:info-menu-mobile\">\n",
      "            \n",
      "  <h2 class=\"visually-hidden\" id=\"block-pup-irs-infomenumobile-menu\">Info Menu Mobile</h2>\n",
      "  \n",
      "\n",
      "        \n",
      "      <ul block=\"pup_irs_infomenumobile\" class=\"menu menu--info-menu-mobile nav\">\n",
      "                      <li class=\"first\">\n",
      "                                        <a href=\"/help/telephone-assistance\" title=\"Help\" data-drupal-link-system-path=\"node/16916\">Help</a>\n",
      "              </li>\n",
      "                      <li>\n",
      "                                        <a href=\"/newsroom\" title=\"News\" data-drupal-link-system-path=\"node/19646\">News</a>\n",
      "              </li>\n",
      "                      <li>\n",
      "                                        <a href=\"/charities-and-nonprofits\" data-drupal-link-system-path=\"node/58461\">Charities &amp; Nonprofits</a>\n",
      "              </li>\n",
      "                      <li class=\"last\">\n",
      "                                        <a href=\"/tax-professionals\" title=\"Tax Pros\" data-drupal-link-system-path=\"node/11\">Tax Pros</a>\n",
      "              </li>\n",
      "        </ul>\n",
      "  \n",
      "\n",
      "  </nav>\n",
      "\n",
      "  </div>\n",
      "\n",
      "      </div>\n",
      "    \n",
      "   </header>\n",
      "\n",
      "<div class=\"pup-page-node-type-article-page__banner\">\n",
      "  <div class=\"container\">\n",
      "    <div class=\"row\">\n",
      "      <div class=\"col-md-12\">\n",
      "                            <div class=\"region region-breadcrumbs\">\n",
      "        <nav aria-label=\"Breadcrumbs\">\n",
      "    <ol class=\"breadcrumb\">\n",
      "      <li lang=en xml:lang=en ><a href=\"/node/58476\" lang=en xml:lang=en >Home</a></li><li lang=en xml:lang=en ><a href=\"/about-irs\" lang=en xml:lang=en >Our Agency</a></li><li lang=en xml:lang=en ><a href=\"/statistics\" lang=en xml:lang=en >Tax Statistics</a></li><li lang=en xml:lang=en ><a href=\"/statistics/soi-tax-stats-individual-tax-statistics\" lang=en xml:lang=en >Individual Tax Statistics</a></li><li lang=en xml:lang=en ><a href=\"/statistics/soi-tax-stats-data-by-geographic-area\" lang=en xml:lang=en >Data by Geographic Areas</a></li><li  class=\"active\">            SOI Tax Stats - Individual Income Tax Statistics - ZIP Code Data (SOI)\n",
      "            </li>\n",
      "    </ol>\n",
      "  </nav>\n",
      "\n",
      "\n",
      "  </div>\n",
      "\n",
      "                          <h1 class=\"pup-page-node-type-article-page__title\">SOI Tax Stats - Individual Income Tax Statistics - ZIP Code Data (SOI)</h1>\n",
      "              </div>\n",
      "    </div>\n",
      "  </div>\n",
      "</div>\n",
      "<div class=\"container\">\n",
      "  <div class=\"row\">\n",
      "          <div class=\"col-sm-12\">\n",
      "          <div class=\"region region-language-switcher\">\n",
      "    <section id=\"block-pup-irs-languageswitchercontent\" data-block-plugin-id=\"pup_language_switcher:language_interface\" class=\"block block-pup-language-switcher block-pup-language-switcherlanguage-interface clearfix\">\n",
      "  \n",
      "    \n",
      "\n",
      "      &nbsp;\n",
      "  </section>\n",
      "\n",
      "\n",
      "  </div>\n",
      "\n",
      "      </div>\n",
      "      </div>\n",
      "</div>\n",
      "\n",
      "<div class=\"pup-main-container container\">\n",
      "  <div class=\"row\">\n",
      "\n",
      "                    <div class=\"sidebar-left col-sm-12 col-md-3 col-lg-3\">\n",
      "          <div class=\"region region-sidebar-first\">\n",
      "    <section id=\"block-pup-irs-puphierarchicaltaxonomymenu\" data-block-plugin-id=\"pup_hierarchical_taxonomy_menu\" class=\"block block-pup-hierarchical-taxonomy-menu clearfix\">\n",
      "  \n",
      "    \n",
      "\n",
      "      \n",
      "\n",
      "\n",
      "              <div class=\"pup-second-nav-header\">\n",
      "        <h3 class=\"pup-second-nav-heading\">More In Our Agency</h3>\n",
      "\t\t<button id=\"pup-snav\" class=\"pup-second-nav-btn hidden-md hidden-lg\" aria-label=\"Collapsed menu button. Press space to activate the menu. Then navigate using the tab key.\" aria-expanded=\"false\" type=\"button\">\n",
      "          <i class=\"fa fa-plus\"></i>\n",
      "        </button>\n",
      "      </div>\n",
      "      <ul class=\"menu nav pup-second-nav\">\n",
      "              <li class=\"level-2\" data-indent-level=\"2\">\n",
      "        <a href=\"/about-irs/todays-irs-organization\" title=\"IRS Organization\" id=\"term-29326\" rel=\"child\" lang=\"en\" xml:lang=\"en\" hreflang=\"en\">IRS Organization</a>\n",
      "              </li>\n",
      "          <li class=\"level-2\" data-indent-level=\"2\">\n",
      "        <a href=\"/a-closer-look\" title=\"A Closer Look\" id=\"term-28401\" rel=\"child\" lang=\"en\" xml:lang=\"en\" hreflang=\"en\">A Closer Look</a>\n",
      "              </li>\n",
      "          <li class=\"level-2 is-active-trail\" data-indent-level=\"2\">\n",
      "        <a href=\"/statistics\" title=\"Tax Statistics\" id=\"term-18801\" rel=\"parent\" lang=\"en\" xml:lang=\"en\" hreflang=\"en\">Tax Statistics</a>\n",
      "                                <ul class=\"inner\">\n",
      "              <li class=\"level-3\" data-indent-level=\"3\">\n",
      "        <a href=\"/statistics/soi-tax-stats-products-publications-and-papers\" title=\"Products and Publications\" id=\"term-18831\" rel=\"child\" lang=\"en\" xml:lang=\"en\" hreflang=\"en\">Products and Publications</a>\n",
      "              </li>\n",
      "          <li class=\"level-3 is-active-parent\" data-indent-level=\"3\">\n",
      "        <a href=\"/statistics/soi-tax-stats-individual-tax-statistics\" title=\"Individual Tax Statistics\" id=\"term-18826\" rel=\"parent\" lang=\"en\" xml:lang=\"en\" hreflang=\"en\">Individual Tax Statistics</a>\n",
      "                                <ul class=\"inner\">\n",
      "              <li class=\"level-4\" data-indent-level=\"4\">\n",
      "        <a href=\"/statistics/soi-tax-stats-individual-tax-statistics\" title=\"Individual Income Tax Statistics\" id=\"term-28571\" rel=\"child\" lang=\"en\" xml:lang=\"en\" hreflang=\"en\">Individual Income Tax Statistics</a>\n",
      "              </li>\n",
      "          <li class=\"level-4\" data-indent-level=\"4\">\n",
      "        <a href=\"/statistics/soi-tax-stats-international-individual-tax-statistics\" title=\"International Individual Tax Statistics\" id=\"term-28576\" rel=\"child\" lang=\"en\" xml:lang=\"en\" hreflang=\"en\">International Individual Tax Statistics</a>\n",
      "              </li>\n",
      "          <li class=\"level-4\" data-indent-level=\"4\">\n",
      "        <a href=\"/statistics/soi-tax-stats-personal-wealth-statistics\" title=\"Personal Wealth Statistics\" id=\"term-28581\" rel=\"child\" lang=\"en\" xml:lang=\"en\" hreflang=\"en\">Personal Wealth Statistics</a>\n",
      "              </li>\n",
      "          <li class=\"level-4\" data-indent-level=\"4\">\n",
      "        <a href=\"/statistics/filing-season-statistics\" title=\"Filing Season Statistics\" id=\"term-28586\" rel=\"child\" lang=\"en\" xml:lang=\"en\" hreflang=\"en\">Filing Season Statistics</a>\n",
      "              </li>\n",
      "          <li class=\"level-4 is-active\" data-indent-level=\"4\">\n",
      "        <a href=\"/statistics/soi-tax-stats-data-by-geographic-area\" title=\"Data by Geographic Areas\" id=\"term-28596\" rel=\"parent\" lang=\"en\" xml:lang=\"en\" hreflang=\"en\">Data by Geographic Areas</a>\n",
      "              </li>\n",
      "        </ul>\n",
      "  \n",
      "              </li>\n",
      "          <li class=\"level-3\" data-indent-level=\"3\">\n",
      "        <a href=\"/statistics/soi-tax-stats-business-tax-statistics\" title=\"Business Tax Statistics\" id=\"term-18806\" rel=\"child\" lang=\"en\" xml:lang=\"en\" hreflang=\"en\">Business Tax Statistics</a>\n",
      "              </li>\n",
      "          <li class=\"level-3\" data-indent-level=\"3\">\n",
      "        <a href=\"/statistics/soi-tax-stats-charitable-and-exempt-organizations-statistics\" title=\"Charitable and Exempt Organizations Statistics\" id=\"term-18816\" rel=\"child\" lang=\"en\" xml:lang=\"en\" hreflang=\"en\">Charitable and Exempt Organizations Statistics</a>\n",
      "              </li>\n",
      "          <li class=\"level-3\" data-indent-level=\"3\">\n",
      "        <a href=\"/statistics/soi-tax-stats-estate-gift-and-trust-statistics\" title=\"Estate, Gift and Trust Statistics\" id=\"term-18821\" rel=\"child\" lang=\"en\" xml:lang=\"en\" hreflang=\"en\">Estate, Gift and Trust Statistics</a>\n",
      "              </li>\n",
      "          <li class=\"level-3\" data-indent-level=\"3\">\n",
      "        <a href=\"/statistics/soi-tax-stats-irs-data-book\" title=\"IRS Data Book\" id=\"term-24786\" rel=\"child\" lang=\"en\" xml:lang=\"en\" hreflang=\"en\">IRS Data Book</a>\n",
      "              </li>\n",
      "          <li class=\"level-3\" data-indent-level=\"3\">\n",
      "        <a href=\"/statistics/soi-tax-stats-irs-operations-and-budget\" title=\"IRS Operations and Budget\" id=\"term-28561\" rel=\"child\" lang=\"en\" xml:lang=\"en\" hreflang=\"en\">IRS Operations and Budget</a>\n",
      "              </li>\n",
      "          <li class=\"level-3\" data-indent-level=\"3\">\n",
      "        <a href=\"/statistics/irs-other-irs-data-and-research\" title=\"Taxpayer Research and IRS Data\" id=\"term-28771\" rel=\"child\" lang=\"en\" xml:lang=\"en\" hreflang=\"en\">Taxpayer Research and IRS Data</a>\n",
      "              </li>\n",
      "          <li class=\"level-3\" data-indent-level=\"3\">\n",
      "        <a href=\"/statistics/soi-tax-stats-about-soi\" title=\"About Statistics of Income (SOI)\" id=\"term-28566\" rel=\"child\" lang=\"en\" xml:lang=\"en\" hreflang=\"en\">About Statistics of Income (SOI)</a>\n",
      "              </li>\n",
      "        </ul>\n",
      "  \n",
      "              </li>\n",
      "          <li class=\"level-2\" data-indent-level=\"2\">\n",
      "        <a href=\"/about-irs/procurement\" title=\"Do Business with the IRS\" id=\"term-18776\" rel=\"child\" lang=\"en\" xml:lang=\"en\" hreflang=\"en\">Do Business with the IRS</a>\n",
      "              </li>\n",
      "          <li class=\"level-2\" data-indent-level=\"2\">\n",
      "        <a href=\"/compliance/criminal-investigation\" title=\"Criminal Investigation\" id=\"term-18731\" rel=\"child\" lang=\"en\" xml:lang=\"en\" hreflang=\"en\">Criminal Investigation</a>\n",
      "              </li>\n",
      "          <li class=\"level-2\" data-indent-level=\"2\">\n",
      "        <a href=\"/individuals/irs-tax-volunteers\" title=\"Volunteer\" id=\"term-18841\" rel=\"child\" lang=\"en\" xml:lang=\"en\" hreflang=\"en\">Volunteer</a>\n",
      "              </li>\n",
      "          <li class=\"level-2\" data-indent-level=\"2\">\n",
      "        <a href=\"/privacy-disclosure/irs-freedom-of-information\" title=\"Freedom of Information Act\" id=\"term-18751\" rel=\"child\" lang=\"en\" xml:lang=\"en\" hreflang=\"en\">Freedom of Information Act</a>\n",
      "              </li>\n",
      "          <li class=\"level-2\" data-indent-level=\"2\">\n",
      "        <a href=\"/privacy-disclosure/irs-privacy-policy\" title=\"Privacy Policy\" id=\"term-18756\" rel=\"child\" lang=\"en\" xml:lang=\"en\" hreflang=\"en\">Privacy Policy</a>\n",
      "              </li>\n",
      "          <li class=\"level-2\" data-indent-level=\"2\">\n",
      "        <a href=\"/about-irs/protecting-taxpayer-civil-rights\" title=\"Civil Rights\" id=\"term-18726\" rel=\"child\" lang=\"en\" xml:lang=\"en\" hreflang=\"en\">Civil Rights</a>\n",
      "              </li>\n",
      "          <li class=\"level-2\" data-indent-level=\"2\">\n",
      "        <a href=\"/about-irs/vulnerability-disclosure-policy\" title=\"Vulnerability Disclosure Policy\" id=\"term-28991\" rel=\"child\" lang=\"en\" xml:lang=\"en\" hreflang=\"en\">Vulnerability Disclosure Policy</a>\n",
      "              </li>\n",
      "        </ul>\n",
      "  \n",
      "\n",
      "\n",
      "  </section>\n",
      "\n",
      "\n",
      "  </div>\n",
      "\n",
      "    </div>\n",
      "    \n",
      "        \n",
      "    <div  class=\"pup-header-content-rt no-gutter col-sm-12 col-md-9\">\n",
      "      <a id=\"main-content\"></a>\n",
      "\n",
      "                    <div class=\"region region-content\">\n",
      "    <div data-drupal-messages-fallback class=\"hidden\"></div>  \n",
      "\n",
      "\n",
      "<article role=\"article\" about=\"/statistics/soi-tax-stats-individual-income-tax-statistics-zip-code-data-soi\" class=\"pup-article full clearfix row\">\n",
      "\n",
      "  \n",
      "    \n",
      "\n",
      "  \n",
      "            <div class=\"col-md-12 col-sm-12 col-xs-12\">\n",
      "        \n",
      "            <div class=\"field field--name-body field--type-text-with-summary field--label-hidden field--item\"><h2>Individual Income Tax ZIP Code Data</h2>\n",
      "\n",
      "<p>ZIP Code data show selected income and tax items classified by State, ZIP Code, and size of adjusted gross income. Data are based on individual income tax returns filed with the IRS and are available for Tax Years 1998, 2001, and 2004 through 2020. The data include items, such as:</p>\n",
      "\n",
      "<ul><li>Number of returns, which approximates the number of households</li>\n",
      "\t<li>Number of personal exemptions, which approximates the population</li>\n",
      "\t<li>Adjusted gross income </li>\n",
      "\t<li>Wages and salaries</li>\n",
      "\t<li>Dividends before exclusion</li>\n",
      "\t<li>Interest received  </li>\n",
      "</ul><p>ZIP Code data for years 1998, 2001, and 2004 through 2020 are available as single Zip files containing all State Excel files. The files are compressed using the WinZip utility and must be downloaded and extracted before viewing or loading into any application. A <a data-entity-substitution=\"pup_linkit_media\" data-entity-type=\"media\" data-entity-uuid=\"1d8c39a3-3248-490a-9630-9b1d2101f032\" href=\"http://www.winzip.com/\" title=\"WinZip Link\">free WinZip utility</a> is available, if needed.</p>\n",
      "\n",
      "<div class=\"accordion-list\">\n",
      "<div class=\"table-responsive\">\n",
      "<div aria-multiselectable=\"true\" class=\"panel-group accordion-list-group accordion-list-items\" id=\"accordion1670260975323\" role=\"tablist\">\n",
      "<div class=\"collapsible-item panel panel-default\" id=\"Collapsible1671119803984\">\n",
      "<div class=\"collapsible-item-heading panel-heading\" id=\"headingCollapsible1671119803984\" role=\"tab\">\n",
      "<h4 class=\"collapsible-item-title panel-title\"><a aria-controls=\"collapseCollapsible1671119803984\" aria-expanded=\"false\" class=\"collapsed collapsible-item-title-link\" data-toggle=\"collapse\" href=\"#collapseCollapsible1671119803984\" role=\"button\"><span>ZIP Code Data 2011 – Recent</span></a></h4>\n",
      "</div>\n",
      "\n",
      "<div aria-labelledby=\"headingCollapsible1671119803984\" class=\"collapse collapsible-item-collapse panel-collapse\" id=\"collapseCollapsible1671119803984\" role=\"tabpanel\">\n",
      "<div class=\"table-responsive\">\n",
      "<div class=\"collapsible-item-body panel-body\">\n",
      "<ul><li><a data-entity-substitution=\"canonical\" data-entity-type=\"node\" data-entity-uuid=\"89cae767-be48-4c38-b258-77bf153d2621\" href=\"/statistics/soi-tax-stats-individual-income-tax-statistics-2020-zip-code-data-soi\" title=\"SOI Tax Stats - Individual Income Tax Statistics - 2020 ZIP Code Data (SOI) \">2020</a></li>\n",
      "\t<li><a data-entity-substitution=\"canonical\" data-entity-type=\"node\" data-entity-uuid=\"f0e67adb-ce6b-4d1a-9ba8-54eb5dbe70a6\" href=\"/statistics/soi-tax-stats-individual-income-tax-statistics-2019-zip-code-data-soi\" title=\"SOI Tax Stats - Individual Income Tax Statistics - 2019 ZIP Code Data (SOI)\">2019</a></li>\n",
      "\t<li><a data-entity-substitution=\"canonical\" data-entity-type=\"node\" data-entity-uuid=\"39f211d4-1e33-4712-8017-0f3184964e3d\" href=\"/statistics/soi-tax-stats-individual-income-tax-statistics-2018-zip-code-data-soi\" title=\"2018 Zip Code Data (SOI)\">2018</a></li>\n",
      "\t<li><a data-entity-substitution=\"canonical\" data-entity-type=\"node\" data-entity-uuid=\"42a60da4-4f59-4166-bdc3-149ced8eace0\" href=\"/statistics/soi-tax-stats-individual-income-tax-statistics-2017-zip-code-data-soi\" title=\"2017 Zip Code Data (SOI)\">2017</a></li>\n",
      "\t<li><a data-entity-substitution=\"canonical\" data-entity-type=\"node\" data-entity-uuid=\"341a0f4f-e636-4327-8c6f-0890cd201f1f\" href=\"/statistics/soi-tax-stats-individual-income-tax-statistics-2016-zip-code-data-soi\" title=\"SOI Tax Stats - Individual Income Tax Statistics - 2016 ZIP Code Data (SOI)\">2016</a></li>\n",
      "\t<li><a data-entity-substitution=\"canonical\" data-entity-type=\"node\" data-entity-uuid=\"444deefc-0f87-4010-bdd0-b49f6667ffcc\" href=\"/statistics/soi-tax-stats-individual-income-tax-statistics-2015-zip-code-data-soi\" title=\"SOI Tax Stats - Individual Income Tax Statistics - 2015 ZIP Code Data (SOI)\">2015</a></li>\n",
      "\t<li><a data-entity-substitution=\"canonical\" data-entity-type=\"node\" data-entity-uuid=\"16b285f2-a502-4f28-97fe-709b15ae4854\" href=\"/statistics/soi-tax-stats-individual-income-tax-statistics-2014-zip-code-data-soi\" title=\"SOI Tax Stats Individual Income Tax Statistics 2014 ZIP Code Data SOI\">2014</a></li>\n",
      "\t<li><a data-entity-substitution=\"canonical\" data-entity-type=\"node\" data-entity-uuid=\"47a02797-555e-4ca9-a378-6a811863d9ad\" href=\"/statistics/soi-tax-stats-individual-income-tax-statistics-2013-zip-code-data-soi\" title=\"SOI Tax Stats Individual Income Tax Statistics 2013 ZIP Code Data SOI\">2013</a></li>\n",
      "\t<li><a data-entity-substitution=\"canonical\" data-entity-type=\"node\" data-entity-uuid=\"facf6ff3-2fb7-4905-b2a8-146691359a7e\" href=\"/statistics/soi-tax-stats-individual-income-tax-statistics-2012-zip-code-data-soi\" title=\"SOI Tax Stats Individual Income Tax Statistics 2012 ZIP Code Data (SOI)\">2012</a></li>\n",
      "\t<li><a data-entity-substitution=\"canonical\" data-entity-type=\"node\" data-entity-uuid=\"1f4a6d72-4ac0-485d-b5e8-ffd759972151\" href=\"/statistics/soi-tax-stats-individual-income-tax-statistics-2011-zip-code-data-soi\" title=\"SOI Tax Stats Individual Income Tax Statistics 2011 ZIP Code Data (SOI)\">2011</a></li>\n",
      "</ul></div>\n",
      "</div>\n",
      "</div>\n",
      "</div>\n",
      "\n",
      "<div class=\"collapsible-item panel panel-default\" id=\"Collapsible1671119803980\">\n",
      "<div class=\"collapsible-item-heading panel-heading\" id=\"headingCollapsible1671119803980\" role=\"tab\">\n",
      "<h4 class=\"collapsible-item-title panel-title\"><a aria-controls=\"collapseCollapsible1671119803980\" aria-expanded=\"false\" class=\"collapsed collapsible-item-title-link\" data-toggle=\"collapse\" href=\"#collapseCollapsible1671119803980\" role=\"button\">ZIP Code Data 1998 – 2010 (Downloadable)</a></h4>\n",
      "</div>\n",
      "\n",
      "<div aria-labelledby=\"headingCollapsible1671119803980\" class=\"collapse collapsible-item-collapse panel-collapse\" id=\"collapseCollapsible1671119803980\" role=\"tabpanel\">\n",
      "<div class=\"table-responsive\">\n",
      "<div class=\"collapsible-item-body panel-body\">\n",
      "<ul><li><a data-entity-substitution=\"pup_linkit_media\" data-entity-type=\"media\" data-entity-uuid=\"437f5238-e146-41e9-aad3-5741e4882acc\" href=\"https://www.irs.gov/pub/irs-soi/2010zipcode.zip\" title=\"2010zipcode.zip\">2010</a><span class=\"link-label label-file label-file-zip\" title=\"Download zip file\" aria-label=\"press enter to download zip file\">ZIP</span></li>\n",
      "\t<li><a data-entity-substitution=\"pup_linkit_media\" data-entity-type=\"media\" data-entity-uuid=\"d6b21686-9427-48d6-af0d-d301654a15d6\" href=\"https://www.irs.gov/pub/irs-soi/2009zipcode.zip\" title=\"2009zipcode.zip\">2009</a><span class=\"link-label label-file label-file-zip\" title=\"Download zip file\" aria-label=\"press enter to download zip file\">ZIP</span></li>\n",
      "\t<li><a data-entity-substitution=\"pup_linkit_media\" data-entity-type=\"media\" data-entity-uuid=\"7c2d8d0a-c92a-4de9-8fcf-b8270c0ff6bb\" href=\"https://www.irs.gov/pub/irs-soi/2008zipcode.zip\" title=\"2008zipcode.zip\">2008</a><span class=\"link-label label-file label-file-zip\" title=\"Download zip file\" aria-label=\"press enter to download zip file\">ZIP</span></li>\n",
      "\t<li><a data-entity-substitution=\"pup_linkit_media\" data-entity-type=\"media\" data-entity-uuid=\"d81e5043-f8dc-4de6-b79e-010de56f8363\" href=\"https://www.irs.gov/pub/irs-soi/2007zipcode.zip\" title=\"2007zipcode.zip\">2007</a><span class=\"link-label label-file label-file-zip\" title=\"Download zip file\" aria-label=\"press enter to download zip file\">ZIP</span></li>\n",
      "\t<li><a data-entity-substitution=\"pup_linkit_media\" data-entity-type=\"media\" data-entity-uuid=\"407708cd-c885-44b6-a357-919f898b75c3\" href=\"https://www.irs.gov/pub/irs-soi/2006zipcode.zip\" title=\"2006zipcode.zip\">2006</a><span class=\"link-label label-file label-file-zip\" title=\"Download zip file\" aria-label=\"press enter to download zip file\">ZIP</span></li>\n",
      "\t<li><a data-entity-substitution=\"pup_linkit_media\" data-entity-type=\"media\" data-entity-uuid=\"ca9a4da0-2b70-44c7-8feb-6cd7741be9ec\" href=\"https://www.irs.gov/pub/irs-soi/2005zipcode.zip\" title=\"2005zipcode.zip\">2005</a><span class=\"link-label label-file label-file-zip\" title=\"Download zip file\" aria-label=\"press enter to download zip file\">ZIP</span></li>\n",
      "\t<li><a data-entity-substitution=\"pup_linkit_media\" data-entity-type=\"media\" data-entity-uuid=\"e8e8a62d-e3f9-4129-a8f7-039498adcd61\" href=\"https://www.irs.gov/pub/irs-soi/2004zipcode.zip\" title=\"2004zipcode.zip\">2004</a><span class=\"link-label label-file label-file-zip\" title=\"Download zip file\" aria-label=\"press enter to download zip file\">ZIP</span></li>\n",
      "\t<li><a data-entity-substitution=\"pup_linkit_media\" data-entity-type=\"media\" data-entity-uuid=\"7c05be6c-63a0-4b42-8645-35f2d7ed2890\" href=\"https://www.irs.gov/pub/irs-soi/2002zipcode.zip\" title=\"2002zipcode.zip\">2002</a><span class=\"link-label label-file label-file-zip\" title=\"Download zip file\" aria-label=\"press enter to download zip file\">ZIP</span></li>\n",
      "\t<li><a data-entity-substitution=\"pup_linkit_media\" data-entity-type=\"media\" data-entity-uuid=\"5d7989e2-c9d1-4f4e-bc07-ed8554abad06\" href=\"https://www.irs.gov/pub/irs-soi/2001zipcode.zip\" title=\"2001zipcode.zip\">2001</a><span class=\"link-label label-file label-file-zip\" title=\"Download zip file\" aria-label=\"press enter to download zip file\">ZIP</span></li>\n",
      "\t<li><a data-entity-substitution=\"pup_linkit_media\" data-entity-type=\"media\" data-entity-uuid=\"ea6aec5f-4467-4336-8614-7d4835d3d0e4\" href=\"https://www.irs.gov/pub/irs-soi/1998zipcode.zip\" title=\"1998zipcode.zip\">1998</a><span class=\"link-label label-file label-file-zip\" title=\"Download zip file\" aria-label=\"press enter to download zip file\">ZIP</span></li>\n",
      "</ul></div>\n",
      "</div>\n",
      "</div>\n",
      "</div>\n",
      "</div>\n",
      "</div>\n",
      "</div>\n",
      "\n",
      "<h2>WinZip Instructions</h2>\n",
      "\n",
      "<p>Follow these steps to extract files for the entire year (all States) or for an individual State.</p>\n",
      "\n",
      "<h3>To extract an entire year (all States) using WinZip:</h3>\n",
      "\n",
      "<ol><li>Double click the Zip file to open the WinZip utility.</li>\n",
      "\t<li>Click and drag the folder to your desktop.</li>\n",
      "</ol><p style=\"margin-left: 80px;\"><strong>OR</strong></p>\n",
      "\n",
      "<ol><li>Double click the Zip file to open the WinZip utility (NOTE: SecureZIP users should follow the following steps).</li>\n",
      "\t<li>Click the ‘Extract’ button. Ensure that the radio button, ‘All Files in Archive Selected’, is selected.</li>\n",
      "\t<li>Select a destination folder.</li>\n",
      "\t<li>Click the ‘Extract’ button.</li>\n",
      "</ol><h3>To extract an individual State using WinZip:</h3>\n",
      "\n",
      "<ol><li>Double click the Zip file to open the WinZip utility.</li>\n",
      "\t<li>Double click the folder.</li>\n",
      "\t<li>Click and drag the desired Excel file(s) to your desktop.</li>\n",
      "</ol><p style=\"margin-left: 80px;\"><strong>OR</strong></p>\n",
      "\n",
      "<ol><li>Double click the Zip file to open the WinZip utility (NOTE: SecureZIP users should follow the following steps).</li>\n",
      "\t<li>Highlight the desired Excel file(s).</li>\n",
      "\t<li>Click the ‘Extract’ button. Ensure that radio button, ‘Selected Files/Folder’, is selected.</li>\n",
      "\t<li>Select a destination folder.</li>\n",
      "\t<li>Click the ‘Extract’ button.</li>\n",
      "</ol></div>\n",
      "      \n",
      "      </div>\n",
      "      \n",
      "</article>\n",
      "\n",
      "\n",
      "  </div>\n",
      "\n",
      "          </div>\n",
      "\n",
      "    \n",
      "      </div>\n",
      "</div>\n",
      "\n",
      "<div class=\"container\">\n",
      "    <div class=\"pup-bodycopy-footer\">\n",
      "      <div class='pup-content-revision col-xs-12 col-sm-6'>\n",
      "                Page Last Reviewed or Updated: 15-Dec-2022\n",
      "      </div>\n",
      "            <div class='pup-share-menu col-xs-12 col-sm-6'>  <div class=\"region region-share-content\">\n",
      "    <section id=\"block-pup-irs-addtoanybuttons\" data-block-plugin-id=\"addtoany_block\" class=\"block block-addtoany block-addtoany-block clearfix\">\n",
      "  \n",
      "    \n",
      "\n",
      "      <span class=\"a2a_kit a2a_kit_size_24 addtoany_list\" data-a2a-url=\"https://www.irs.gov/statistics/soi-tax-stats-individual-income-tax-statistics-zip-code-data-soi\" data-a2a-title=\"SOI Tax Stats - Individual Income Tax Statistics - ZIP Code Data (SOI)\"><div class=\"pup-share-items\"><ul class=\"nav navbar-nav navbar-right\"><li class=\"dropdown\"><a href=\"#\" class=\"dropdown-toggle pup-share-link\" data-toggle=\"dropdown\" role=\"button\" aria-haspopup=\"true\" aria-expanded=\"false\">Share</a><ul class=\"dropdown-menu\"><li><a class=\"a2a_button_facebook pup-social-title\">&nbsp;Facebook</a></li><li><a class=\"a2a_button_twitter pup-social-title\">&nbsp;Twitter</a></li><li><a class=\"a2a_button_linkedin pup-social-title\">&nbsp;Linkedin</a></li><li role=\"separator\" class=\"divider\"></li></ul></li><li><button class=\"pup-print\" type=\"button\" onclick=\"javascript:print(); ga('send', 'event', 'Print Button', 'Print', 'Print Page');\">Print</button></li></ul></div></span>\n",
      "  </section>\n",
      "\n",
      "\n",
      "  </div>\n",
      "</div>\n",
      "          </div>\n",
      "</div>\n",
      "  <footer class=\"pup-footer\" role=\"contentinfo\" aria-label=\"footer\">\n",
      "    <section class=\"container\" role=\"tablist\" aria-multiselectable=\"true\">\n",
      "              <div class=\"row menu\">\n",
      "            <div class=\"region region-footer-first\">\n",
      "    <nav role=\"navigation\" aria-labelledby=\"block-footernavigation-2-menu\" id=\"block-footernavigation-2\" data-block-plugin-id=\"system_menu_block:pup-footer-navigation\">\n",
      "            \n",
      "  <h2 class=\"visually-hidden\" id=\"block-footernavigation-2-menu\">Footer Navigation</h2>\n",
      "  \n",
      "\n",
      "        \n",
      "      <ul block=\"footernavigation_2\" class=\"menu menu--pup-footer-navigation nav\">\n",
      "                      <li class=\"expanded dropdown first\">\n",
      "                                                                    <span class=\"footer-column-header navbar-text dropdown-toggle\" data-toggle=\"dropdown\">Our Agency <span class=\"caret\"></span></span>\n",
      "                        <ul block=\"footernavigation_2\" class=\"dropdown-menu\">\n",
      "                      <li class=\"first\">\n",
      "                                        <a href=\"/about-irs\" data-drupal-link-system-path=\"node/18841\">About IRS</a>\n",
      "              </li>\n",
      "                      <li>\n",
      "                                        <a href=\"https://jobs.irs.gov/\">Careers</a>\n",
      "              </li>\n",
      "                      <li>\n",
      "                                        <a href=\"/statistics/soi-tax-stats-irs-operations-and-budget\" data-drupal-link-system-path=\"node/506\">Operations and Budget</a>\n",
      "              </li>\n",
      "                      <li>\n",
      "                                        <a href=\"/statistics\" data-drupal-link-system-path=\"node/19746\">Tax Statistics</a>\n",
      "              </li>\n",
      "                      <li>\n",
      "                                        <a href=\"/help/telephone-assistance\" data-drupal-link-system-path=\"node/16916\">Help</a>\n",
      "              </li>\n",
      "                      <li class=\"last\">\n",
      "                                        <a href=\"/help/contact-your-local-irs-office\" data-drupal-link-system-path=\"node/16903\">Find a Local Office</a>\n",
      "              </li>\n",
      "        </ul>\n",
      "  \n",
      "              </li>\n",
      "                      <li class=\"expanded dropdown\">\n",
      "                                                                    <span class=\"footer-column-header navbar-text dropdown-toggle\" data-toggle=\"dropdown\">Know Your Rights <span class=\"caret\"></span></span>\n",
      "                        <ul block=\"footernavigation_2\" class=\"dropdown-menu\">\n",
      "                      <li class=\"first\">\n",
      "                                        <a href=\"/taxpayer-bill-of-rights\" data-drupal-link-system-path=\"node/19686\">Taxpayer Bill of Rights</a>\n",
      "              </li>\n",
      "                      <li>\n",
      "                                        <a href=\"/taxpayer-advocate\" data-drupal-link-system-path=\"node/18846\">Taxpayer Advocate Service</a>\n",
      "              </li>\n",
      "                      <li>\n",
      "                                        <a href=\"/appeals\" data-drupal-link-system-path=\"node/19036\">Independent Office of Appeals</a>\n",
      "              </li>\n",
      "                      <li>\n",
      "                                        <a href=\"/about-irs/protecting-taxpayer-civil-rights\" data-drupal-link-system-path=\"node/15736\">Civil Rights </a>\n",
      "              </li>\n",
      "                      <li>\n",
      "                                        <a href=\"/privacy-disclosure/irs-freedom-of-information\" data-drupal-link-system-path=\"node/10662\">FOIA</a>\n",
      "              </li>\n",
      "                      <li class=\"last\">\n",
      "                                        <a href=\"https://home.treasury.gov/footer/no-fear-act\">No FEAR Act Data</a>\n",
      "              </li>\n",
      "        </ul>\n",
      "  \n",
      "              </li>\n",
      "                      <li class=\"expanded dropdown\">\n",
      "                                                                    <span class=\"footer-column-header navbar-text dropdown-toggle\" data-toggle=\"dropdown\">Resolve an Issue <span class=\"caret\"></span></span>\n",
      "                        <ul block=\"footernavigation_2\" class=\"dropdown-menu\">\n",
      "                      <li class=\"first\">\n",
      "                                        <a href=\"/individuals/understanding-your-irs-notice-or-letter\" data-drupal-link-system-path=\"node/16683\">IRS Notices and Letters</a>\n",
      "              </li>\n",
      "                      <li>\n",
      "                                        <a href=\"/identity-theft-central\" data-drupal-link-system-path=\"node/19616\">Identity Theft</a>\n",
      "              </li>\n",
      "                      <li>\n",
      "                                        <a href=\"/privacy-disclosure/report-phishing\" data-drupal-link-system-path=\"node/15745\">Phishing</a>\n",
      "              </li>\n",
      "                      <li>\n",
      "                                        <a href=\"/compliance/criminal-investigation/tax-fraud-alerts\" data-drupal-link-system-path=\"node/15416\">Tax Fraud</a>\n",
      "              </li>\n",
      "                      <li>\n",
      "                                        <a href=\"/compliance/criminal-investigation\" data-drupal-link-system-path=\"node/19091\">Criminal Investigation</a>\n",
      "              </li>\n",
      "                      <li class=\"last\">\n",
      "                                        <a href=\"/compliance/whistleblower-office\" data-drupal-link-system-path=\"node/7935\">Whistleblower Office</a>\n",
      "              </li>\n",
      "        </ul>\n",
      "  \n",
      "              </li>\n",
      "                      <li class=\"expanded dropdown\">\n",
      "                                                                    <span class=\"footer-column-header navbar-text dropdown-toggle\" data-toggle=\"dropdown\">Languages <span class=\"caret\"></span></span>\n",
      "                        <ul block=\"footernavigation_2\" class=\"dropdown-menu\">\n",
      "                      <li class=\"first\">\n",
      "                                        <a href=\"https://www.irs.gov/es\">Español</a>\n",
      "              </li>\n",
      "                      <li>\n",
      "                                        <a href=\"https://www.irs.gov/zh-hans\">中文 (简体)</a>\n",
      "              </li>\n",
      "                      <li>\n",
      "                                        <a href=\"https://www.irs.gov/zh-hant\">中文 (繁體)</a>\n",
      "              </li>\n",
      "                      <li>\n",
      "                                        <a href=\"https://www.irs.gov/ko\">한국어</a>\n",
      "              </li>\n",
      "                      <li>\n",
      "                                        <a href=\"https://www.irs.gov/ru\">Pусский</a>\n",
      "              </li>\n",
      "                      <li>\n",
      "                                        <a href=\"https://www.irs.gov/vi\">Tiếng Việt</a>\n",
      "              </li>\n",
      "                      <li>\n",
      "                                        <a href=\"https://www.irs.gov/ht\">Kreyòl ayisyen</a>\n",
      "              </li>\n",
      "                      <li>\n",
      "                                        <a href=\"https://www.irs.gov\">English</a>\n",
      "              </li>\n",
      "                      <li class=\"last\">\n",
      "                                        <a href=\"/help/languages\" data-drupal-link-system-path=\"node/80696\">Other Languages</a>\n",
      "              </li>\n",
      "        </ul>\n",
      "  \n",
      "              </li>\n",
      "                      <li class=\"expanded dropdown last\">\n",
      "                                                                    <span class=\"footer-column-header navbar-text dropdown-toggle\" data-toggle=\"dropdown\">Related Sites <span class=\"caret\"></span></span>\n",
      "                        <ul block=\"footernavigation_2\" class=\"dropdown-menu\">\n",
      "                      <li class=\"first\">\n",
      "                                        <a href=\"https://www.treasury.gov/\">U.S. Treasury</a>\n",
      "              </li>\n",
      "                      <li>\n",
      "                                        <a href=\"https://www.treasury.gov/tigta/\">Treasury Inspector General for Tax Administration</a>\n",
      "              </li>\n",
      "                      <li>\n",
      "                                        <a href=\"https://www.usa.gov/\">USA.gov</a>\n",
      "              </li>\n",
      "                      <li class=\"last\">\n",
      "                                        <a href=\"https://www.usaspending.gov\">USAspending.gov</a>\n",
      "              </li>\n",
      "        </ul>\n",
      "  \n",
      "              </li>\n",
      "        </ul>\n",
      "  \n",
      "\n",
      "  </nav>\n",
      "\n",
      "  </div>\n",
      "\n",
      "        </div>\n",
      "          </section>\n",
      "    <div class=\"container\">\n",
      "      <div class=\"row pup-footer-social-media-links\">\n",
      "          <div class=\"region region-social-media-footer pull-right\">\n",
      "    <section id=\"block-socialmediaforfooter\" data-block-plugin-id=\"block_content:40b0cf2e-cb49-4f62-888d-000cf00eb582\" class=\"block block-block-content block-block-content40b0cf2e-cb49-4f62-888d-000cf00eb582 clearfix\">\n",
      "  \n",
      "    \n",
      "\n",
      "        <div class=\"row\">\n",
      "          <div class=\"social-icon\">  <div class=\"paragraph paragraph--type--social-media-footer paragraph--view-mode--default\">\n",
      "    \t\t          <a href=\"https://www.facebook.com/IRS\" aria-label=\"fa-facebook-square\"> \n",
      "\t\t\t\t  <i aria-hidden class=\"fa fa-facebook-square\"></i>\n",
      "\t\t\t  </a>\n",
      "\t\t        </div>\n",
      "</div>\n",
      "          <div class=\"social-icon\">  <div class=\"paragraph paragraph--type--social-media-footer paragraph--view-mode--default\">\n",
      "    \t\t          <a href=\"https://www.twitter.com/IRSnews\" aria-label=\"fa-twitter-square\"> \n",
      "\t\t\t\t  <i aria-hidden class=\"fa fa-twitter-square\"></i>\n",
      "\t\t\t  </a>\n",
      "\t\t        </div>\n",
      "</div>\n",
      "          <div class=\"social-icon\">  <div class=\"paragraph paragraph--type--social-media-footer paragraph--view-mode--default\">\n",
      "    \t\t          <a href=\"https://www.instagram.com/irsnews\" aria-label=\"fa-instagram\"> \n",
      "\t\t\t\t  <i aria-hidden class=\"fa fa-instagram\"></i>\n",
      "\t\t\t  </a>\n",
      "\t\t        </div>\n",
      "</div>\n",
      "          <div class=\"social-icon\">  <div class=\"paragraph paragraph--type--social-media-footer paragraph--view-mode--default\">\n",
      "    \t\t          <a href=\"https://www.linkedin.com/company/irs\" aria-label=\"fa-linkedin\"> \n",
      "\t\t\t\t  <i aria-hidden class=\"fa fa-linkedin\"></i>\n",
      "\t\t\t  </a>\n",
      "\t\t        </div>\n",
      "</div>\n",
      "          <div class=\"social-icon\">  <div class=\"paragraph paragraph--type--social-media-footer paragraph--view-mode--default\">\n",
      "    \t\t          <a href=\"https://www.youtube.com/user/irsvideos\" aria-label=\"fa-youtube-play\"> \n",
      "\t\t\t\t  <i aria-hidden class=\"fa fa-youtube-play\"></i>\n",
      "\t\t\t  </a>\n",
      "\t\t        </div>\n",
      "</div>\n",
      "      </div>\n",
      "\n",
      "  </section>\n",
      "\n",
      "\n",
      "  </div>\n",
      "\n",
      "      </div>\n",
      "    </div>  \n",
      "    <div class=\"pup-footer-bottom\">\n",
      "      <div class=\"container\">\n",
      "        <div class=\"pup-footer-logo\">\n",
      "          <a href=\"/\"><img class=\"pup-footer-logo-img\" src=\"/themes/custom/pup_base/IRS-Logo.svg\" alt=\"Home\"></a>\n",
      "        </div>\n",
      "        <div class=\"subfooter-menu\">\n",
      "            <div class=\"region region-subfooter\">\n",
      "    <nav role=\"navigation\" aria-labelledby=\"block-subfooter-menu\" id=\"block-subfooter\" data-block-plugin-id=\"system_menu_block:subfooter\">\n",
      "            \n",
      "  <h2 class=\"visually-hidden\" id=\"block-subfooter-menu\">Subfooter</h2>\n",
      "  \n",
      "\n",
      "        \n",
      "      <ul block=\"subfooter\" class=\"menu menu--subfooter nav\">\n",
      "                      <li class=\"first\">\n",
      "                                        <a href=\"/privacy-disclosure/irs-privacy-policy\" data-drupal-link-system-path=\"node/15856\">Privacy Policy</a>\n",
      "              </li>\n",
      "                      <li class=\"last\">\n",
      "                                        <a href=\"/accessibility\" data-drupal-link-system-path=\"node/82611\">Accessibility</a>\n",
      "              </li>\n",
      "        </ul>\n",
      "  \n",
      "\n",
      "  </nav>\n",
      "\n",
      "  </div>\n",
      "\n",
      "        </div>\n",
      "      </div>\n",
      "    </div>\n",
      "  </footer>\n",
      "<!-- Start GA AutoTracker Code -->\n",
      "<script src='/static_assets/js/libs/jquery.min.js' type='text/javascript'></script>\n",
      "<script type='text/javascript' src='/static_assets/js/reporting/autotracker.js'></script>\n",
      "<script type='text/javascript'>addLinkerEvents();</script> <!--End AutoTracker Code -->\n",
      "<!--412017-->\n",
      "\n",
      "  </div>\n",
      "\n",
      "    \n",
      "    <script type=\"application/json\" data-drupal-selector=\"drupal-settings-json\">{\"path\":{\"baseUrl\":\"\\/\",\"scriptPath\":null,\"pathPrefix\":\"\",\"currentPath\":\"node\\/102\",\"currentPathIsAdmin\":false,\"isFront\":false,\"currentLanguage\":\"en\"},\"pluralDelimiter\":\"\\u0003\",\"suppressDeprecationErrors\":true,\"dataLayer\":{\"defaultLang\":\"en\",\"languages\":{\"en\":{\"id\":\"en\",\"name\":\"English\",\"direction\":\"ltr\",\"weight\":-10},\"es\":{\"id\":\"es\",\"name\":\"Spanish\",\"direction\":\"ltr\",\"weight\":-9},\"zh-hans\":{\"id\":\"zh-hans\",\"name\":\"Chinese, Simplified\",\"direction\":\"ltr\",\"weight\":-8},\"zh-hant\":{\"id\":\"zh-hant\",\"name\":\"Chinese, Traditional\",\"direction\":\"ltr\",\"weight\":-7},\"ko\":{\"id\":\"ko\",\"name\":\"Korean\",\"direction\":\"ltr\",\"weight\":-6},\"ru\":{\"id\":\"ru\",\"name\":\"Russian\",\"direction\":\"ltr\",\"weight\":-5},\"vi\":{\"id\":\"vi\",\"name\":\"Vietnamese\",\"direction\":\"ltr\",\"weight\":-4},\"ht\":{\"id\":\"ht\",\"name\":\"Haitian Creole\",\"direction\":\"ltr\",\"weight\":-3}}},\"data\":{\"extlink\":{\"extTarget\":false,\"extTargetNoOverride\":false,\"extNofollow\":false,\"extNoreferrer\":false,\"extFollowNoOverride\":false,\"extClass\":\"ext\",\"extLabel\":\"(link is external)\",\"extImgClass\":true,\"extSubdomains\":true,\"extExclude\":\"\",\"extInclude\":\"\",\"extCssExclude\":\".paragraph--type--social-media-footer, .btn-primary, .btn-secondary\",\"extCssExplicit\":\"\",\"extAlert\":false,\"extAlertText\":\"\",\"mailtoClass\":\"mailto\",\"mailtoLabel\":\"(link sends email)\",\"extUseFontAwesome\":true,\"extIconPlacement\":\"append\",\"extFaLinkClasses\":\"fa fa-external-link fa-external-link-alt\",\"extFaMailtoClasses\":\"fa fa-envelope-o\",\"whitelistedDomains\":[]}},\"bootstrap\":{\"forms_has_error_value_toggle\":1,\"modal_animation\":1,\"modal_backdrop\":\"true\",\"modal_focus_input\":1,\"modal_keyboard\":1,\"modal_select_text\":1,\"modal_show\":1,\"modal_size\":\"\",\"popover_enabled\":1,\"popover_animation\":1,\"popover_auto_close\":1,\"popover_container\":\"body\",\"popover_content\":\"\",\"popover_delay\":\"0\",\"popover_html\":0,\"popover_placement\":\"right\",\"popover_selector\":\"\",\"popover_title\":\"\",\"popover_trigger\":\"click\",\"tooltip_enabled\":1,\"tooltip_animation\":1,\"tooltip_container\":\"body\",\"tooltip_delay\":\"0\",\"tooltip_html\":0,\"tooltip_placement\":\"auto left\",\"tooltip_selector\":\"\",\"tooltip_trigger\":\"hover\"},\"accordion_menus\":{\"accordion_closed\":{\"main_mobile\":\"main_mobile\"}},\"ajaxTrustedUrl\":{\"\\/site-index-search\":true},\"chosen\":{\"selector\":\"select:not(:hidden,[id*=\\u0027edit-state\\u0027])\",\"minimum_single\":25,\"minimum_multiple\":20,\"minimum_width\":200,\"use_relative_width\":false,\"options\":{\"disable_search\":false,\"disable_search_threshold\":0,\"allow_single_deselect\":false,\"search_contains\":true,\"placeholder_text_multiple\":\"Choose some option\",\"placeholder_text_single\":\"Choose an option\",\"no_results_text\":\"No results match\",\"max_shown_results\":null,\"inherit_select_classes\":true}},\"ajax\":[],\"user\":{\"uid\":0,\"permissionsHash\":\"0739e2e380d53f0273523af86d956743aeea46d433d5bf14a6c903a67516a208\"}}</script>\n",
      "<script src=\"/pub/js/js_c0CjupBxNDrP3O9COHMc5JBxLnqmnoknxSH8NGyIe20.js\"></script>\n",
      "<script src=\"https://static.addtoany.com/menu/page.js\" async></script>\n",
      "<script src=\"/pub/js/js_gPI6CdIMymzna4B-9AZ47TjEWDpUIsZyDsV8-ugFUxM.js\"></script>\n",
      "\n",
      "  <script type=\"text/javascript\">window.NREUM||(NREUM={});NREUM.info={\"beacon\":\"bam.nr-data.net\",\"licenseKey\":\"b67fc6a152\",\"applicationID\":\"70700070\",\"transactionName\":\"blMHY0AHDUcDUEZQWFcZJFRGDwxaTXdATEdYWjlZXQIGaCFcXE1FVloJUkA6LVsGVmRQUk51CllGFAxYDlZAFAlPXwBA\",\"queueTime\":2,\"applicationTime\":1710,\"atts\":\"QhQEFQgdHkk=\",\"errorBeacon\":\"bam.nr-data.net\",\"agent\":\"\"}</script></body>\n",
      "</html>\n"
     ]
    }
   ],
   "source": [
    "%%bash\n",
    "\n",
    "wget -q -O - https://www.irs.gov/statistics/soi-tax-stats-individual-income-tax-statistics-zip-code-data-soi \\\n",
    "#     | grep 'zipcode.zip' \\\n",
    "#     | sed 's/<a data/\\n<a data/g' \\\n",
    "#     | grep -Po '(?<=href=\")[^\"]*(?=\")'"
   ]
  },
  {
   "cell_type": "markdown",
   "metadata": {
    "slideshow": {
     "slide_type": "slide"
    }
   },
   "source": [
    "## Shell and Jupyter Notebook\n",
    "\n",
    "Shell and Jupyter can interact with each other by passing values back and forth: e.g."
   ]
  },
  {
   "cell_type": "markdown",
   "metadata": {
    "slideshow": {
     "slide_type": "fragment"
    }
   },
   "source": [
    "1. In shell, grab a webpage, extract all links, filter file links that end with `zipcode.zip`.  \n",
    "    Then, pass the file links as python variable: `files`"
   ]
  },
  {
   "cell_type": "markdown",
   "metadata": {
    "slideshow": {
     "slide_type": "fragment"
    }
   },
   "source": [
    "2. In python, loop through the file links.  \n",
    "    In each iteration, pass one file name, `f`, back to shell."
   ]
  },
  {
   "cell_type": "markdown",
   "metadata": {
    "slideshow": {
     "slide_type": "fragment"
    }
   },
   "source": [
    "3. In shell, download the file at the link using `wget`"
   ]
  },
  {
   "cell_type": "code",
   "execution_count": 14,
   "metadata": {
    "slideshow": {
     "slide_type": "slide"
    },
    "tags": []
   },
   "outputs": [
    {
     "data": {
      "text/plain": [
       "['https://www.irs.gov/pub/irs-soi/2010zipcode.zip',\n",
       " 'https://www.irs.gov/pub/irs-soi/2009zipcode.zip',\n",
       " 'https://www.irs.gov/pub/irs-soi/2008zipcode.zip',\n",
       " 'https://www.irs.gov/pub/irs-soi/2007zipcode.zip',\n",
       " 'https://www.irs.gov/pub/irs-soi/2006zipcode.zip',\n",
       " 'https://www.irs.gov/pub/irs-soi/2005zipcode.zip',\n",
       " 'https://www.irs.gov/pub/irs-soi/2004zipcode.zip',\n",
       " 'https://www.irs.gov/pub/irs-soi/2002zipcode.zip',\n",
       " 'https://www.irs.gov/pub/irs-soi/2001zipcode.zip',\n",
       " 'https://www.irs.gov/pub/irs-soi/1998zipcode.zip']"
      ]
     },
     "execution_count": 14,
     "metadata": {},
     "output_type": "execute_result"
    }
   ],
   "source": [
    "files = !wget -q -O - https://www.irs.gov/statistics/soi-tax-stats-individual-income-tax-statistics-zip-code-data-soi | grep 'zipcode.zip' | sed 's/<a data/\\n<a data/g' | grep -Po '(?<=href=\")[^\"]*(?=\")'\n",
    "files  ## file names from bash is in python variable!"
   ]
  },
  {
   "cell_type": "code",
   "execution_count": 15,
   "metadata": {
    "slideshow": {
     "slide_type": "fragment"
    },
    "tags": []
   },
   "outputs": [
    {
     "name": "stdout",
     "output_type": "stream",
     "text": [
      "File ‘2010zipcode.zip’ already there; not retrieving.\n",
      "\n",
      "File ‘2009zipcode.zip’ already there; not retrieving.\n",
      "\n",
      "File ‘2008zipcode.zip’ already there; not retrieving.\n",
      "\n"
     ]
    }
   ],
   "source": [
    "for f in files[:3]:\n",
    "    ! wget -nc {f}        ## pass python variables into shell!"
   ]
  },
  {
   "cell_type": "markdown",
   "metadata": {
    "slideshow": {
     "slide_type": "subslide"
    }
   },
   "source": [
    "### User Agent string\n",
    "\n",
    "* Sometimes pages in browser looks different than downloaded code\n",
    "\n",
    "* The [user agent string](https://developer.mozilla.org/en-US/docs/Web/HTTP/Headers/User-Agent) self-identify application, operating system, vendor, and/or version of the requesting user agent\n",
    "\n",
    "* For example, here is a [list for Chrome browsers](https://www.useragentstring.com/pages/Chrome/)\n",
    "\n",
    "* `wget --user-agent=\"User Agent Here\" \"[URL]\"`"
   ]
  },
  {
   "cell_type": "markdown",
   "metadata": {
    "slideshow": {
     "slide_type": "slide"
    }
   },
   "source": [
    "## GET method and APIs\n",
    "\n",
    "### GET method\n",
    "\n",
    "- URLs often use [GET method](https://www.w3schools.com/tags/ref_httpmethods.asp)"
   ]
  },
  {
   "cell_type": "markdown",
   "metadata": {
    "slideshow": {
     "slide_type": "fragment"
    }
   },
   "source": [
    "- GET method passes parameters using the URL: e.g.  \n",
    "    https://www.google.com/search?q=hello+there  \n",
    "    https://www.google.com/search?q=hello+there&tbm=isch"
   ]
  },
  {
   "cell_type": "markdown",
   "metadata": {
    "slideshow": {
     "slide_type": "fragment"
    }
   },
   "source": [
    "- \"[Urls Explained](https://www.freeformatter.com/url-parser-query-string-splitter.html#urls-explained)\" dissects standard components of URLs ([online URL parser](https://www.freeformatter.com/url-parser-query-string-splitter.html)) "
   ]
  },
  {
   "cell_type": "markdown",
   "metadata": {
    "slideshow": {
     "slide_type": "subslide"
    }
   },
   "source": [
    "### Application Programming Interface (API)\n",
    "\n",
    "> a set of functions and procedures allowing the creation of applications that access the features or data of an operating system, application, or other service."
   ]
  },
  {
   "cell_type": "markdown",
   "metadata": {
    "slideshow": {
     "slide_type": "fragment"
    }
   },
   "source": [
    "- GET URLs are commonly used form of API"
   ]
  },
  {
   "cell_type": "markdown",
   "metadata": {
    "slideshow": {
     "slide_type": "fragment"
    }
   },
   "source": [
    "- In API context, an **endpoint** is a [URL path](https://www.freeformatter.com/url-parser-query-string-splitter.html#urls-explained) that process your request"
   ]
  },
  {
   "cell_type": "markdown",
   "metadata": {
    "slideshow": {
     "slide_type": "fragment"
    }
   },
   "source": [
    "- **Query string** is used to specify the request: e.g. search term and type"
   ]
  },
  {
   "cell_type": "markdown",
   "metadata": {
    "slideshow": {
     "slide_type": "subslide"
    }
   },
   "source": [
    "### Example: Google Maps\n",
    "\n",
    "- Web services often have documentation for developers:  \n",
    "    [Google Maps Developer Documentation](https://developers.google.com/maps/documentation/urls/guide#forming-the-url)"
   ]
  },
  {
   "cell_type": "markdown",
   "metadata": {
    "slideshow": {
     "slide_type": "fragment"
    }
   },
   "source": [
    "- Demo: [Display a map](https://developers.google.com/maps/documentation/urls/guide#map-action):  \n",
    "    e.g. https://www.google.com/maps/@?api=1&map_action=map&basemap=terrain&layer=bicycling"
   ]
  },
  {
   "cell_type": "markdown",
   "metadata": {
    "slideshow": {
     "slide_type": "fragment"
    }
   },
   "source": [
    "- Demo: [Searching Google Maps](https://developers.google.com/maps/documentation/urls/guide#forming-the-search-url):  \n",
    "    e.g. https://www.google.com/maps/search/?api=1&query=home+depot"
   ]
  },
  {
   "cell_type": "markdown",
   "metadata": {
    "slideshow": {
     "slide_type": "subslide"
    }
   },
   "source": [
    "### Example: Film Locations in San Francisco\n",
    "\n",
    "> _... listing of filming locations of movies shot in San Francisco starting from 1924 ..._\n",
    "\n",
    "- [Dataset Metadata](https://data.sfgov.org/Culture-and-Recreation/Film-Locations-in-San-Francisco/yitu-d5am)"
   ]
  },
  {
   "cell_type": "markdown",
   "metadata": {
    "slideshow": {
     "slide_type": "fragment"
    }
   },
   "source": [
    "- [API documentation](https://dev.socrata.com/foundry/data.sfgov.org/yitu-d5am)\n",
    "\n",
    "- [Simple Filters](https://dev.socrata.com/docs/filtering.html): selection criteria\n",
    "\n",
    "- [Paging through Data](https://dev.socrata.com/docs/paging.html#2.1): paging through returned data"
   ]
  },
  {
   "cell_type": "code",
   "execution_count": 16,
   "metadata": {
    "slideshow": {
     "slide_type": "subslide"
    },
    "tags": []
   },
   "outputs": [
    {
     "name": "stdout",
     "output_type": "stream",
     "text": [
      "[{\"title\":\"Red Widow\",\"release_year\":\"2013\",\"locations\":\"York & 24th St.\",\"production_company\":\"Beyond Pix\",\"distributor\":\"American Broadcasting Company (ABC)\",\"director\":\"Alon Aranya\",\"writer\":\"Melissa Rosenberg\",\"actor_1\":\"Radha Mitchell\",\"actor_2\":\"Sterling Beaumon\",\"actor_3\":\"Clifton Collins Jr.\"}\n",
      ",{\"title\":\"Red Widow\",\"release_year\":\"2013\",\"locations\":\"2nd St & Howard\",\"production_company\":\"Beyond Pix\",\"distributor\":\"American Broadcasting Company (ABC)\",\"director\":\"Alon Aranya\",\"writer\":\"Melissa Rosenberg\",\"actor_1\":\"Radha Mitchell\",\"actor_2\":\"Sterling Beaumon\",\"actor_3\":\"Clifton Collins Jr.\"}\n",
      ",{\"title\":\"Red Widow\",\"release_year\":\"2013\",\"locations\":\"Montgomery & Market Streets\",\"production_company\":\"Beyond Pix\",\"distributor\":\"American Broadcasting Company (ABC)\",\"director\":\"Alon Aranya\",\"writer\":\"Melissa Rosenberg\",\"actor_1\":\"Radha Mitchell\",\"actor_2\":\"Sterling Beaumon\",\"actor_3\":\"Clifton Collins Jr.\"}\n",
      ",{\"title\":\"Red Widow\",\"release_year\":\"2013\",\"locations\":\"Broadway & Taylor\",\"production_company\":\"Beyond Pix\",\"distributor\":\"American Broadcasting Company (ABC)\",\"director\":\"Alon Aranya\",\"writer\":\"Melissa Rosenberg\",\"actor_1\":\"Radha Mitchell\",\"actor_2\":\"Sterling Beaumon\",\"actor_3\":\"Clifton Collins Jr.\"}\n",
      ",{\"title\":\"Red Widow\",\"release_year\":\"2013\",\"locations\":\"Mason & Sacramento St\",\"production_company\":\"Beyond Pix\",\"distributor\":\"American Broadcasting Company (ABC)\",\"director\":\"Alon Aranya\",\"writer\":\"Melissa Rosenberg\",\"actor_1\":\"Radha Mitchell\",\"actor_2\":\"Sterling Beaumon\",\"actor_3\":\"Clifton Collins Jr.\"}\n",
      ",{\"title\":\"Red Widow\",\"release_year\":\"2013\",\"locations\":\"Geary & 27th Ave\",\"production_company\":\"Beyond Pix\",\"distributor\":\"American Broadcasting Company (ABC)\",\"director\":\"Alon Aranya\",\"writer\":\"Melissa Rosenberg\",\"actor_1\":\"Radha Mitchell\",\"actor_2\":\"Sterling Beaumon\",\"actor_3\":\"Clifton Collins Jr.\"}\n",
      ",{\"title\":\"Red Widow\",\"release_year\":\"2013\",\"locations\":\"Geary & 20th Ave\",\"production_company\":\"Beyond Pix\",\"distributor\":\"American Broadcasting Company (ABC)\",\"director\":\"Alon Aranya\",\"writer\":\"Melissa Rosenberg\",\"actor_1\":\"Radha Mitchell\",\"actor_2\":\"Sterling Beaumon\",\"actor_3\":\"Clifton Collins Jr.\"}\n",
      ",{\"title\":\"Red Widow\",\"release_year\":\"2013\",\"locations\":\"Pioneer Park at Coit Tower\",\"production_company\":\"Beyond Pix\",\"distributor\":\"American Broadcasting Company (ABC)\",\"director\":\"Alon Aranya\",\"writer\":\"Melissa Rosenberg\",\"actor_1\":\"Radha Mitchell\",\"actor_2\":\"Sterling Beaumon\",\"actor_3\":\"Clifton Collins Jr.\"}\n",
      ",{\"title\":\"Red Widow\",\"release_year\":\"2013\",\"locations\":\"Vallejo Street Garage\",\"production_company\":\"Beyond Pix\",\"distributor\":\"American Broadcasting Company (ABC)\",\"director\":\"Alon Aranya\",\"writer\":\"Melissa Rosenberg\",\"actor_1\":\"Radha Mitchell\",\"actor_2\":\"Sterling Beaumon\",\"actor_3\":\"Clifton Collins Jr.\"}\n",
      ",{\"title\":\"Red Widow\",\"release_year\":\"2013\",\"locations\":\"California & Davis St\",\"production_company\":\"Beyond Pix\",\"distributor\":\"American Broadcasting Company (ABC)\",\"director\":\"Alon Aranya\",\"writer\":\"Melissa Rosenberg\",\"actor_1\":\"Radha Mitchell\",\"actor_2\":\"Sterling Beaumon\",\"actor_3\":\"Clifton Collins Jr.\"}\n",
      ",{\"title\":\"Red Widow\",\"release_year\":\"2013\",\"locations\":\"Golden Gate Ave & Jones\",\"production_company\":\"Beyond Pix\",\"distributor\":\"American Broadcasting Company (ABC)\",\"director\":\"Alon Aranya\",\"writer\":\"Melissa Rosenberg\",\"actor_1\":\"Radha Mitchell\",\"actor_2\":\"Sterling Beaumon\",\"actor_3\":\"Clifton Collins Jr.\"}]\n"
     ]
    }
   ],
   "source": [
    "!wget -qO - \"https://data.sfgov.org/resource/yitu-d5am.json?release_year=2013&title=Red%20Widow\""
   ]
  },
  {
   "cell_type": "markdown",
   "metadata": {
    "slideshow": {
     "slide_type": "slide"
    }
   },
   "source": [
    "## Javascript Object Notation (JSON) format\n",
    "\n",
    "- One of the widely used standards in data formats"
   ]
  },
  {
   "cell_type": "markdown",
   "metadata": {
    "slideshow": {
     "slide_type": "fragment"
    }
   },
   "source": [
    "- Usually plain text file with python dictionary-like formatting:  \n",
    "    `{\"key\":\"value\"}`"
   ]
  },
  {
   "cell_type": "markdown",
   "metadata": {
    "slideshow": {
     "slide_type": "fragment"
    }
   },
   "source": [
    "- Can be nested:  \n",
    "    `{\"key0\":{\"key1\":\"value1\", \"key2\":\"value2\"}}`"
   ]
  },
  {
   "cell_type": "markdown",
   "metadata": {
    "slideshow": {
     "slide_type": "fragment"
    }
   },
   "source": [
    "- In fact, Jupyter notebooks are in json format."
   ]
  },
  {
   "cell_type": "code",
   "execution_count": 18,
   "metadata": {
    "slideshow": {
     "slide_type": "fragment"
    },
    "tags": []
   },
   "outputs": [
    {
     "name": "stdout",
     "output_type": "stream",
     "text": [
      "{\n",
      " \"cells\": [\n",
      "  {\n",
      "   \"cell_type\": \"markdown\",\n",
      "   \"metadata\": {\n",
      "    \"toc\": true\n",
      "   },\n",
      "   \"source\": [\n",
      "    \"<h1>Table of Contents<span class=\\\"tocSkip\\\"></span></h1>\\n\",\n",
      "    \"<div class=\\\"toc\\\"><ul class=\\\"toc-item\\\"><li><span><a href=\\\"#GUI?-CLI?\\\" data-toc-modified-id=\\\"GUI?-CLI?-1\\\">GUI? CLI?</a></span></li><li><span><a href=\\\"#Shell-commands\\\" data-toc-modified-id=\\\"Shell-commands-2\\\">Shell commands</a></span><ul class=\\\"toc-item\\\"><li><span><a href=\\\"#References-to-learn-shell-command-line\\\" data-toc-modified-id=\\\"References-to-learn-shell-command-line-2.1\\\">References to learn shell command line</a></span></li><li><span><a href=\\\"#Commonly-used-commands-for-text-files\\\" data-toc-modified-id=\\\"Commonly-used-commands-for-text-files-2.2\\\">Commonly used commands for text files</a></span></li><li><span><a href=\\\"#Anatomy-of-shell-commands\\\" data-toc-modified-id=\\\"Anatomy-of-shell-commands-2.3\\\">Anatomy of shell commands</a></span></li><li><span><a href=\\\"#Example:-Downloading-Files\\\" data-toc-modified-id=\\\"Example:-Downloading-Files-2.4\\\">Example: Downloading Files</a></span></li><li><span><a href=\\\"#Example:-Viewing-file-contents\\\" data-toc-modified-id=\\\"Example:-Viewing-file-contents-2.5\\\">Example: Viewing file contents</a></span></li><li><span><a href=\\\"#Chaining-commands-togeter\\\" data-toc-modified-id=\\\"Chaining-commands-togeter-2.6\\\">Chaining commands togeter</a></span></li><li><span><a href=\\\"#Example:-Text-file-download,-search,-and-manipulation\\\" data-toc-modified-id=\\\"Example:-Text-file-download,-search,-and-manipulation-2.7\\\">Example: Text file download, search, and manipulation</a></span></li></ul></li><li><span><a href=\\\"#Shell-and-Jupyter-Notebook\\\" data-toc-modified-id=\\\"Shell-and-Jupyter-Notebook-3\\\">Shell and Jupyter Notebook</a></span></li><li><span><a href=\\\"#GET-method-and-APIs\\\" data-toc-modified-id=\\\"GET-method-and-APIs-4\\\">GET method and APIs</a></span><ul class=\\\"toc-item\\\"><li><span><a href=\\\"#GET-method\\\" data-toc-modified-id=\\\"GET-method-4.1\\\">GET method</a></span></li><li><span><a href=\\\"#Application-Programming-Interface-(API)\\\" data-toc-modified-id=\\\"Application-Programming-Interface-(API)-4.2\\\">Application Programming Interface (API)</a></span></li><li><span><a href=\\\"#Example:-Google-Maps\\\" data-toc-modified-id=\\\"Example:-Google-Maps-4.3\\\">Example: Google Maps</a></span></li><li><span><a href=\\\"#Example:-Film-Locations-in-San-Francisco\\\" data-toc-modified-id=\\\"Example:-Film-Locations-in-San-Francisco-4.4\\\">Example: Film Locations in San Francisco</a></span></li></ul></li><li><span><a href=\\\"#Javascript-Object-Notation-(JSON)-format\\\" data-toc-modified-id=\\\"Javascript-Object-Notation-(JSON)-format-5\\\">Javascript Object Notation (JSON) format</a></span><ul class=\\\"toc-item\\\"><li><span><a href=\\\"#Example:-Parsing-Film-Locations-in-San-Francisco\\\" data-toc-modified-id=\\\"Example:-Parsing-Film-Locations-in-San-Francisco-5.1\\\">Example: Parsing Film Locations in San Francisco</a></span></li></ul></li></ul></div>\"\n"
     ]
    }
   ],
   "source": [
    "! head 08-Command-Line-and-Data-collection.ipynb"
   ]
  },
  {
   "cell_type": "markdown",
   "metadata": {
    "slideshow": {
     "slide_type": "slide"
    }
   },
   "source": [
    "### Example: Parsing Film Locations in San Francisco\n",
    "\n",
    "- Raw JSON is in a string\n",
    "\n",
    "- Needs to be parsed to Python dictionary: i.e., keys and values.\n",
    "\n",
    "- Parse returned JSON formatted page with the `json` module"
   ]
  },
  {
   "cell_type": "code",
   "execution_count": 19,
   "metadata": {
    "slideshow": {
     "slide_type": "fragment"
    },
    "tags": []
   },
   "outputs": [
    {
     "data": {
      "text/plain": [
       "{'title': 'Red Widow',\n",
       " 'release_year': '2013',\n",
       " 'locations': 'York & 24th St.',\n",
       " 'production_company': 'Beyond Pix',\n",
       " 'distributor': 'American Broadcasting Company (ABC)',\n",
       " 'director': 'Alon Aranya',\n",
       " 'writer': 'Melissa Rosenberg',\n",
       " 'actor_1': 'Radha Mitchell',\n",
       " 'actor_2': 'Sterling Beaumon',\n",
       " 'actor_3': 'Clifton Collins Jr.'}"
      ]
     },
     "execution_count": 19,
     "metadata": {},
     "output_type": "execute_result"
    }
   ],
   "source": [
    "import json\n",
    "json_str = !wget -qO - \"https://data.sfgov.org/resource/yitu-d5am.json?release_year=2013&title=Red%20Widow\"\n",
    "json_str = ''.join(json_str) # Remove line breaks from this json. Not all json files do\n",
    "data = json.loads(json_str)\n",
    "data[0] ## print first line"
   ]
  },
  {
   "cell_type": "markdown",
   "metadata": {
    "slideshow": {
     "slide_type": "subslide"
    }
   },
   "source": [
    "* `data` is now python dictionary\n",
    "\n",
    "* Dictionaries can be imported to pandas dataframe"
   ]
  },
  {
   "cell_type": "code",
   "execution_count": 20,
   "metadata": {
    "slideshow": {
     "slide_type": "fragment"
    },
    "tags": []
   },
   "outputs": [
    {
     "data": {
      "text/html": [
       "<div>\n",
       "<style scoped>\n",
       "    .dataframe tbody tr th:only-of-type {\n",
       "        vertical-align: middle;\n",
       "    }\n",
       "\n",
       "    .dataframe tbody tr th {\n",
       "        vertical-align: top;\n",
       "    }\n",
       "\n",
       "    .dataframe thead th {\n",
       "        text-align: right;\n",
       "    }\n",
       "</style>\n",
       "<table border=\"1\" class=\"dataframe\">\n",
       "  <thead>\n",
       "    <tr style=\"text-align: right;\">\n",
       "      <th></th>\n",
       "      <th>title</th>\n",
       "      <th>release_year</th>\n",
       "      <th>locations</th>\n",
       "      <th>production_company</th>\n",
       "      <th>distributor</th>\n",
       "      <th>director</th>\n",
       "      <th>writer</th>\n",
       "      <th>actor_1</th>\n",
       "      <th>actor_2</th>\n",
       "      <th>actor_3</th>\n",
       "    </tr>\n",
       "  </thead>\n",
       "  <tbody>\n",
       "    <tr>\n",
       "      <th>0</th>\n",
       "      <td>Red Widow</td>\n",
       "      <td>2013</td>\n",
       "      <td>York &amp; 24th St.</td>\n",
       "      <td>Beyond Pix</td>\n",
       "      <td>American Broadcasting Company (ABC)</td>\n",
       "      <td>Alon Aranya</td>\n",
       "      <td>Melissa Rosenberg</td>\n",
       "      <td>Radha Mitchell</td>\n",
       "      <td>Sterling Beaumon</td>\n",
       "      <td>Clifton Collins Jr.</td>\n",
       "    </tr>\n",
       "    <tr>\n",
       "      <th>1</th>\n",
       "      <td>Red Widow</td>\n",
       "      <td>2013</td>\n",
       "      <td>2nd St &amp; Howard</td>\n",
       "      <td>Beyond Pix</td>\n",
       "      <td>American Broadcasting Company (ABC)</td>\n",
       "      <td>Alon Aranya</td>\n",
       "      <td>Melissa Rosenberg</td>\n",
       "      <td>Radha Mitchell</td>\n",
       "      <td>Sterling Beaumon</td>\n",
       "      <td>Clifton Collins Jr.</td>\n",
       "    </tr>\n",
       "    <tr>\n",
       "      <th>2</th>\n",
       "      <td>Red Widow</td>\n",
       "      <td>2013</td>\n",
       "      <td>Montgomery &amp; Market Streets</td>\n",
       "      <td>Beyond Pix</td>\n",
       "      <td>American Broadcasting Company (ABC)</td>\n",
       "      <td>Alon Aranya</td>\n",
       "      <td>Melissa Rosenberg</td>\n",
       "      <td>Radha Mitchell</td>\n",
       "      <td>Sterling Beaumon</td>\n",
       "      <td>Clifton Collins Jr.</td>\n",
       "    </tr>\n",
       "    <tr>\n",
       "      <th>3</th>\n",
       "      <td>Red Widow</td>\n",
       "      <td>2013</td>\n",
       "      <td>Broadway &amp; Taylor</td>\n",
       "      <td>Beyond Pix</td>\n",
       "      <td>American Broadcasting Company (ABC)</td>\n",
       "      <td>Alon Aranya</td>\n",
       "      <td>Melissa Rosenberg</td>\n",
       "      <td>Radha Mitchell</td>\n",
       "      <td>Sterling Beaumon</td>\n",
       "      <td>Clifton Collins Jr.</td>\n",
       "    </tr>\n",
       "    <tr>\n",
       "      <th>4</th>\n",
       "      <td>Red Widow</td>\n",
       "      <td>2013</td>\n",
       "      <td>Mason &amp; Sacramento St</td>\n",
       "      <td>Beyond Pix</td>\n",
       "      <td>American Broadcasting Company (ABC)</td>\n",
       "      <td>Alon Aranya</td>\n",
       "      <td>Melissa Rosenberg</td>\n",
       "      <td>Radha Mitchell</td>\n",
       "      <td>Sterling Beaumon</td>\n",
       "      <td>Clifton Collins Jr.</td>\n",
       "    </tr>\n",
       "  </tbody>\n",
       "</table>\n",
       "</div>"
      ],
      "text/plain": [
       "       title release_year                    locations production_company  \\\n",
       "0  Red Widow         2013              York & 24th St.         Beyond Pix   \n",
       "1  Red Widow         2013              2nd St & Howard         Beyond Pix   \n",
       "2  Red Widow         2013  Montgomery & Market Streets         Beyond Pix   \n",
       "3  Red Widow         2013            Broadway & Taylor         Beyond Pix   \n",
       "4  Red Widow         2013        Mason & Sacramento St         Beyond Pix   \n",
       "\n",
       "                           distributor     director             writer  \\\n",
       "0  American Broadcasting Company (ABC)  Alon Aranya  Melissa Rosenberg   \n",
       "1  American Broadcasting Company (ABC)  Alon Aranya  Melissa Rosenberg   \n",
       "2  American Broadcasting Company (ABC)  Alon Aranya  Melissa Rosenberg   \n",
       "3  American Broadcasting Company (ABC)  Alon Aranya  Melissa Rosenberg   \n",
       "4  American Broadcasting Company (ABC)  Alon Aranya  Melissa Rosenberg   \n",
       "\n",
       "          actor_1           actor_2              actor_3  \n",
       "0  Radha Mitchell  Sterling Beaumon  Clifton Collins Jr.  \n",
       "1  Radha Mitchell  Sterling Beaumon  Clifton Collins Jr.  \n",
       "2  Radha Mitchell  Sterling Beaumon  Clifton Collins Jr.  \n",
       "3  Radha Mitchell  Sterling Beaumon  Clifton Collins Jr.  \n",
       "4  Radha Mitchell  Sterling Beaumon  Clifton Collins Jr.  "
      ]
     },
     "execution_count": 20,
     "metadata": {},
     "output_type": "execute_result"
    }
   ],
   "source": [
    "import pandas as pd\n",
    "\n",
    "pd.DataFrame.from_dict(data).head()"
   ]
  },
  {
   "cell_type": "markdown",
   "metadata": {
    "slideshow": {
     "slide_type": "slide"
    }
   },
   "source": [
    "## Data Manipulation\n",
    "\n",
    "### Working with CSV files\n",
    "\n",
    "Install [csvkit](https://csvkit.readthedocs.io/en/latest/):"
   ]
  },
  {
   "cell_type": "code",
   "execution_count": 1,
   "metadata": {
    "slideshow": {
     "slide_type": "-"
    }
   },
   "outputs": [],
   "source": [
    "# !pip install csvkit"
   ]
  },
  {
   "cell_type": "markdown",
   "metadata": {
    "slideshow": {
     "slide_type": "subslide"
    }
   },
   "source": [
    "### Examples\n",
    "\n",
    "* [Data input](https://csvkit.readthedocs.io/en/latest/scripts/in2csv.html#examples)\n",
    "* [Database conversion](https://csvkit.readthedocs.io/en/latest/scripts/sql2csv.html#examples)\n",
    "* [Tutorials](https://csvkit.readthedocs.io/en/latest/tutorial.html)"
   ]
  }
 ],
 "metadata": {
  "celltoolbar": "Slideshow",
  "kernelspec": {
   "display_name": "Python 3 (ipykernel)",
   "language": "python",
   "name": "python3"
  },
  "language_info": {
   "codemirror_mode": {
    "name": "ipython",
    "version": 3
   },
   "file_extension": ".py",
   "mimetype": "text/x-python",
   "name": "python",
   "nbconvert_exporter": "python",
   "pygments_lexer": "ipython3",
   "version": "3.10.9"
  },
  "toc": {
   "base_numbering": 1,
   "nav_menu": {},
   "number_sections": false,
   "sideBar": true,
   "skip_h1_title": false,
   "title_cell": "Table of Contents",
   "title_sidebar": "Contents",
   "toc_cell": true,
   "toc_position": {},
   "toc_section_display": true,
   "toc_window_display": true
  },
  "vscode": {
   "interpreter": {
    "hash": "d4d1e4263499bec80672ea0156c357c1ee493ec2b1c70f0acce89fc37c4a6abe"
   }
  }
 },
 "nbformat": 4,
 "nbformat_minor": 4
}
