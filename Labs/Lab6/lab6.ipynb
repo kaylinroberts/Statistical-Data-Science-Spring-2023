{
 "cells": [
  {
   "cell_type": "code",
   "execution_count": null,
   "metadata": {
    "deletable": false
   },
   "outputs": [],
   "source": [
    "# Initialize Otter\n",
    "import otter\n",
    "grader = otter.Notebook(\"lab6.ipynb\")"
   ]
  },
  {
   "cell_type": "markdown",
   "metadata": {},
   "source": [
    "# Lab 6: Fitting Models to Data\n",
    "\n",
    "In this lab, you will practice using a numerical optimization package `cvxpy` to compute solutions to optimization problems. The example we will use is a linear fit and a quadratic fit."
   ]
  },
  {
   "cell_type": "code",
   "execution_count": 1,
   "metadata": {
    "nbgrader": {
     "grade": false,
     "grade_id": "imports",
     "locked": true,
     "schema_version": 2,
     "solution": false
    }
   },
   "outputs": [],
   "source": [
    "import pandas as pd\n",
    "import numpy as np\n",
    "%matplotlib inline\n",
    "import matplotlib.pyplot as plt\n",
    "import seaborn as sns"
   ]
  },
  {
   "cell_type": "markdown",
   "metadata": {
    "nbgrader": {
     "grade": false,
     "grade_id": "objectives",
     "locked": true,
     "schema_version": 2,
     "solution": false
    }
   },
   "source": [
    "## Objectives for Lab 6:\n",
    "\n",
    "Models and fitting models to data is a common task in data science. In this lab, you will practice fitting models to data. The models you will fit are:\n",
    "\n",
    "* Linear fit\n",
    "* Normal distribution"
   ]
  },
  {
   "cell_type": "markdown",
   "metadata": {},
   "source": [
    "## Boston Housing Dataset"
   ]
  },
  {
   "cell_type": "code",
   "execution_count": 2,
   "metadata": {},
   "outputs": [],
   "source": [
    "data_url = \"http://lib.stat.cmu.edu/datasets/boston\"\n",
    "raw_df = pd.read_csv(data_url, sep=\"\\s+\", skiprows=22, header=None)\n",
    "data = np.hstack([raw_df.values[::2, :], raw_df.values[1::2, :3]])\n",
    "from urllib.request import urlopen\n",
    "html = urlopen(data_url).read()\n",
    "text = html.decode(\"utf-8\")  # Decode the HTML content into text\n",
    "\n",
    "lines = text.splitlines()[7:21]\n",
    "\n",
    "features = []\n",
    "for line in lines:\n",
    "    line_strings = line.split()\n",
    "    if line_strings:\n",
    "        first_string = line_strings[0]\n",
    "        features.append(first_string)\n",
    "\n",
    "housing = pd.DataFrame(data, columns = features)\n",
    "housing.head()"
   ]
  },
  {
   "cell_type": "code",
   "execution_count": 4,
   "metadata": {},
   "outputs": [],
   "source": [
    "fig, ax = plt.subplots(figsize=(10, 7))\n",
    "sns.scatterplot(x='LSTAT', y='MEDV', data=housing)\n",
    "plt.show()"
   ]
  },
  {
   "cell_type": "markdown",
   "metadata": {},
   "source": [
    "The model for the relationship between the response variable MEDV ($y$) and predictor variable LSTAT ($u$) is\n",
    "$$ y_i = \\beta_0 + \\beta_1 u_i + \\epsilon_i, $$\n",
    "where $\\epsilon_i$ is random noise.\n",
    "\n",
    "In order to fit the linear model to data, we minimize the sum of squared errors of all observations, $i=1,2,\\dots,n$. \n",
    "$$\\begin{aligned}\n",
    "&\\min_{\\beta} \\sum_{i=1}^n (y_i - \\beta_0 + \\beta_1 u_i )^2 = \\min_{\\beta} \\sum_{i=1}^n (y_i - x_i^T \\beta)^2 = \\min_{\\beta} \\|y - X \\beta\\|_2^2\n",
    "\\end{aligned}$$\n",
    "where $\\beta = (\\beta_0,\\beta_1)^T$, and $x_i^T = (1, u_i)$. Therefore, $y = (y_1, y_2, \\dots, y_n)^T$ and $i$-th row of $X$ is $x_i^T$. "
   ]
  },
  {
   "cell_type": "markdown",
   "metadata": {
    "deletable": false,
    "editable": false
   },
   "source": [
    "## Question 1: Constructing Data Variables\n",
    "\n",
    "Define $y$ and $X$ from `housing` data.\n",
    "\n",
    "<!--\n",
    "BEGIN QUESTION\n",
    "name: q1\n",
    "manual: false\n",
    "points: 3\n",
    "-->"
   ]
  },
  {
   "cell_type": "code",
   "execution_count": 5,
   "metadata": {},
   "outputs": [],
   "source": [
    "y = ...\n",
    "X = ...\n",
    "...\n",
    "# X.insert(..., 'intercept', ...)"
   ]
  },
  {
   "cell_type": "code",
   "execution_count": null,
   "metadata": {
    "deletable": false,
    "editable": false
   },
   "outputs": [],
   "source": [
    "grader.check(\"q1\")"
   ]
  },
  {
   "cell_type": "markdown",
   "metadata": {},
   "source": [
    "## Installing CVXPY\n",
    "\n",
    "First, install `cvxpy` package by running the following bash command:"
   ]
  },
  {
   "cell_type": "code",
   "execution_count": 11,
   "metadata": {},
   "outputs": [],
   "source": [
    "# !pip install cvxpy"
   ]
  },
  {
   "cell_type": "markdown",
   "metadata": {
    "deletable": false
   },
   "source": [
    "## Question 2: Fitting Linear Model to Data\n",
    "\n",
    "Read this example of how cvxpy problem is setup and solved: https://www.cvxpy.org/examples/basic/least_squares.html\n",
    "\n",
    "The usage of cvxpy parallels our conceptual understanding of components in an optimization problem:\n",
    "* `beta2` are the variables $\\beta$\n",
    "* `loss2` is sum of squared errors\n",
    "* `prob2` minimizes the loss by choosing $\\beta$\n",
    "* `yhat2` provides estimation of $\\hat y = x^T\\hat{\\beta}$\n",
    "\n",
    "Make sure to extract the data array of data frames (or series) by using `values`: e.g., `X.values` \n",
    "\n",
    "<!--\n",
    "BEGIN QUESTION\n",
    "name: q2\n",
    "manual: false\n",
    "points: 3\n",
    "-->"
   ]
  },
  {
   "cell_type": "code",
   "execution_count": 12,
   "metadata": {},
   "outputs": [],
   "source": [
    "import cvxpy as cp\n",
    "\n",
    "beta2 = ...\n",
    "loss2 = ...\n",
    "prob2 = ...\n",
    "\n",
    "prob2.solve()\n",
    "\n",
    "yhat2 = ..."
   ]
  },
  {
   "cell_type": "code",
   "execution_count": null,
   "metadata": {
    "deletable": false,
    "editable": false
   },
   "outputs": [],
   "source": [
    "grader.check(\"q2\")"
   ]
  },
  {
   "cell_type": "markdown",
   "metadata": {
    "deletable": false,
    "editable": false
   },
   "source": [
    "<!-- BEGIN QUESTION -->\n",
    "\n",
    "## Question 3: Visualizing resulting Linear Fit\n",
    "\n",
    "Visualize fitted model by plotting `LSTAT` by `MEDV`.\n",
    "\n",
    "<!--\n",
    "BEGIN QUESTION\n",
    "name: q3\n",
    "manual: true\n",
    "points: 3\n",
    "-->"
   ]
  },
  {
   "cell_type": "code",
   "execution_count": 14,
   "metadata": {},
   "outputs": [],
   "source": [
    "fig, ax = plt.subplots(figsize=(10, 7))\n",
    "\n",
    "...\n",
    "\n",
    "plt.show()"
   ]
  },
  {
   "cell_type": "markdown",
   "metadata": {
    "deletable": false,
    "editable": false
   },
   "source": [
    "<!-- END QUESTION -->\n",
    "\n",
    "## Question 4: Fitting Quadratic Model to Data\n",
    "\n",
    "Add a column of squared `LSTAT` values to `X`. The new model is,\n",
    "\n",
    "Then, fit a quadratic model to data.\n",
    "\n",
    "<!--\n",
    "BEGIN QUESTION\n",
    "name: q4a\n",
    "manual: false\n",
    "points: 3\n",
    "-->"
   ]
  },
  {
   "cell_type": "code",
   "execution_count": 15,
   "metadata": {},
   "outputs": [],
   "source": [
    "X2 = X.copy()\n",
    "X2.insert(2, 'LSTAT^2', X2['LSTAT']**2)\n",
    "\n",
    "beta4 = ...\n",
    "loss4 = ...\n",
    "prob4 = ...\n",
    "\n",
    "prob4.solve()\n",
    "\n",
    "yhat4 = ..."
   ]
  },
  {
   "cell_type": "code",
   "execution_count": null,
   "metadata": {
    "deletable": false,
    "editable": false
   },
   "outputs": [],
   "source": [
    "grader.check(\"q4a\")"
   ]
  },
  {
   "cell_type": "markdown",
   "metadata": {
    "deletable": false,
    "editable": false
   },
   "source": [
    "<!-- BEGIN QUESTION -->\n",
    "\n",
    "Visualize quadratic fit:\n",
    "\n",
    "<!--\n",
    "BEGIN QUESTION\n",
    "name: q4b\n",
    "manual: true\n",
    "points: 3\n",
    "-->"
   ]
  },
  {
   "cell_type": "code",
   "execution_count": 17,
   "metadata": {},
   "outputs": [],
   "source": [
    "fig, ax = plt.subplots(figsize=(10, 7))\n",
    "\n",
    "...\n",
    "\n",
    "plt.show()"
   ]
  },
  {
   "cell_type": "markdown",
   "metadata": {
    "deletable": false,
    "editable": false
   },
   "source": [
    "---\n",
    "\n",
    "To double-check your work, the cell below will rerun all of the autograder tests."
   ]
  },
  {
   "cell_type": "code",
   "execution_count": null,
   "metadata": {
    "deletable": false,
    "editable": false
   },
   "outputs": [],
   "source": [
    "grader.check_all()"
   ]
  },
  {
   "cell_type": "markdown",
   "metadata": {
    "deletable": false
   },
   "source": [
    "## Submission\n",
    "\n",
    "1. Save file to confirm all changes are on disk\n",
    "2. Run *Kernel > Restart & Run All* to execute all code from top to bottom\n",
    "3. Save file again to write any new output to disk\n",
    "4. Select *File > Save and export Notebook as > HTML*.\n",
    "5. Open in Google Chrome and print to PDF.\n",
    "6. Submit to Gradescope"
   ]
  },
  {
   "cell_type": "markdown",
   "metadata": {},
   "source": [
    " "
   ]
  }
 ],
 "metadata": {
  "celltoolbar": "Edit Metadata",
  "kernelspec": {
   "display_name": "Python 3 (ipykernel)",
   "language": "python",
   "name": "python3"
  },
  "language_info": {
   "codemirror_mode": {
    "name": "ipython",
    "version": 3
   },
   "file_extension": ".py",
   "mimetype": "text/x-python",
   "name": "python",
   "nbconvert_exporter": "python",
   "pygments_lexer": "ipython3",
   "version": "3.10.9"
  }
 },
 "nbformat": 4,
 "nbformat_minor": 4
}
